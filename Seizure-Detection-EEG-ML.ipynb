{
  "nbformat": 4,
  "nbformat_minor": 0,
  "metadata": {
    "colab": {
      "provenance": [],
      "gpuType": "T4"
    },
    "kernelspec": {
      "name": "python3",
      "display_name": "Python 3"
    },
    "language_info": {
      "name": "python"
    },
    "accelerator": "GPU"
  },
  "cells": [
    {
      "cell_type": "markdown",
      "source": [
        "# Name: Syed Noor Hussain Shah\n",
        "# Project: EEG-Based Seizure Detection Using Machine Learning\n",
        "# Teacher: Dr. Adnan Amin\n",
        "# April 2025"
      ],
      "metadata": {
        "id": "EU-P8Dwam0Nm"
      }
    },
    {
      "cell_type": "markdown",
      "source": [
        "#Importing Google Drive in Google Colab"
      ],
      "metadata": {
        "id": "jNLho-GtIU3g"
      }
    },
    {
      "cell_type": "code",
      "execution_count": 1,
      "metadata": {
        "colab": {
          "base_uri": "https://localhost:8080/"
        },
        "id": "25ft5K3fGZhi",
        "outputId": "a5439e66-8390-4f6a-e559-831f60191986"
      },
      "outputs": [
        {
          "output_type": "stream",
          "name": "stdout",
          "text": [
            "Mounted at /content/drive\n"
          ]
        }
      ],
      "source": [
        "from google.colab import drive\n",
        "drive.mount('/content/drive')\n"
      ]
    },
    {
      "cell_type": "code",
      "source": [
        "import pandas as pd\n",
        "import numpy as np"
      ],
      "metadata": {
        "id": "yiEL7gPvJ_aB"
      },
      "execution_count": null,
      "outputs": []
    },
    {
      "cell_type": "code",
      "source": [
        "from re import X\n",
        "X_train_path = \"/content/drive/MyDrive/data_aligned/x_train.npy\"\n",
        "X_test_path = \"/content/drive/MyDrive/data_aligned/x_test.npy\"\n",
        "y_train_path = \"/content/drive/MyDrive/data_aligned/y_train.npy\"\n",
        "y_test_path = \"/content/drive/MyDrive/data_aligned/y_test.npy\"\n",
        "\n",
        "\n",
        "X_train =np.load(X_train_path)\n",
        "X_test =np.load(X_test_path)\n",
        "Y_train =np.load(y_train_path)\n",
        "Y_test =np.load(y_test_path)\n",
        "\n",
        "\n",
        "\n",
        "print(\"X_train:\\n\", X_train)\n",
        "print(\"X_test:\\n\", X_test)\n",
        "print(\"Y_train:\\n\", Y_train)\n",
        "print(\"Y_test:\\n\", Y_test)\n"
      ],
      "metadata": {
        "id": "WcY11R2_HcGl",
        "colab": {
          "base_uri": "https://localhost:8080/"
        },
        "outputId": "55b4c1f1-65b3-4024-e8d4-eb6b67a27712"
      },
      "execution_count": null,
      "outputs": [
        {
          "output_type": "stream",
          "name": "stdout",
          "text": [
            "X_train:\n",
            " [[[-2.77640155e-03 -1.76932077e-03 -1.03689838e-03 ... -8.54422786e-03\n",
            "   -8.45267506e-03 -8.39163986e-03]\n",
            "  [ 3.57125914e-03  3.75436474e-03  3.78488234e-03 ... -1.77300253e-02\n",
            "   -1.82793421e-02 -1.84929653e-02]\n",
            "  [ 4.97506872e-03  3.75436474e-03  4.18161113e-03 ... -1.91338349e-02\n",
            "   -1.79131309e-02 -1.73943317e-02]\n",
            "  ...\n",
            "  [ 4.91403352e-03  3.11349515e-03  1.25192158e-03 ... -1.89139117e-03\n",
            "   -3.56985914e-03 -4.82108072e-03]\n",
            "  [ 5.89059670e-03  1.12922118e-02  1.51069117e-02 ... -1.73880317e-03\n",
            "   -2.50174316e-03 -3.44778874e-03]\n",
            "  [-8.05594626e-03 -6.31644309e-03 -5.61453830e-03 ... -1.49466237e-03\n",
            "   -2.65433115e-03 -3.47830634e-03]]\n",
            "\n",
            " [[-2.16604956e-03 -3.11209515e-03 -3.99710553e-03 ... -1.88591765e-02\n",
            "   -2.06291973e-02 -2.23076652e-02]\n",
            "  [-9.36820304e-03 -9.85648463e-03 -1.02226958e-02 ... -5.46195031e-03\n",
            "   -6.65213669e-03 -7.81180547e-03]\n",
            "  [-9.18509744e-03 -9.88700223e-03 -1.03752838e-02 ... -2.59697772e-02\n",
            "   -2.86858435e-02 -3.14019099e-02]\n",
            "  ...\n",
            "  [-1.26946214e-02 -1.47087830e-02 -1.61125925e-02 ...  9.27805025e-03\n",
            "    9.46115584e-03  1.00104726e-02]\n",
            "  [-3.47893634e-02 -3.48809162e-02 -3.56743738e-02 ...  1.34589614e-02\n",
            "    1.48017358e-02  1.60834749e-02]\n",
            "  [-9.39872064e-03 -9.76493183e-03 -1.03447662e-02 ...  5.40231511e-03\n",
            "    4.73092792e-03  3.81539994e-03]]\n",
            "\n",
            " [[ 5.80534391e-04  5.50016792e-04  2.14323197e-04 ...  3.51022394e-03\n",
            "    4.66989272e-03  5.12765671e-03]\n",
            "  [-4.54642232e-03 -4.39383433e-03 -4.11917593e-03 ... -5.55350311e-03\n",
            "   -6.98783028e-03 -7.50662947e-03]\n",
            "  [ 2.99142475e-03  8.24675187e-04 -1.18948638e-03 ...  5.86007910e-03\n",
            "    1.22140398e-03 -2.80691915e-03]\n",
            "  ...\n",
            "  [-1.48003358e-02 -1.88591765e-02 -2.19414540e-02 ... -3.56438562e-02\n",
            "   -3.79937114e-02 -3.94280385e-02]\n",
            "  [ 2.25532060e-02  1.80976365e-02  1.33063734e-02 ... -4.94072936e-02\n",
            "   -5.23064655e-02 -5.41070039e-02]\n",
            "  [-1.29387622e-02 -1.52275821e-02 -1.69976029e-02 ... -3.97637321e-02\n",
            "   -4.13811649e-02 -4.20220345e-02]]\n",
            "\n",
            " ...\n",
            "\n",
            " [[ 3.19221091e-02  3.37531650e-02  3.56147386e-02 ... -1.32134206e-02\n",
            "   -1.37322198e-02 -1.40373958e-02]\n",
            "  [ 2.24311356e-02  2.34992516e-02  2.44758148e-02 ... -1.59294869e-02\n",
            "   -1.62346629e-02 -1.63872509e-02]\n",
            "  [ 2.43537444e-02  2.37433924e-02  2.30414876e-02 ... -9.91751983e-03\n",
            "   -1.01921782e-02 -1.04058014e-02]\n",
            "  ...\n",
            "  [ 2.10273260e-02  1.90436821e-02  1.78229781e-02 ... -1.82183069e-02\n",
            "   -1.81267541e-02 -1.74553669e-02]\n",
            "  [ 1.97455869e-02  1.94709285e-02  1.91962701e-02 ... -1.80962365e-02\n",
            "   -1.76995077e-02 -1.73943317e-02]\n",
            "  [ 1.88910941e-02  1.62665805e-02  1.47101830e-02 ... -1.74248493e-02\n",
            "   -1.70586381e-02 -1.64177685e-02]]\n",
            "\n",
            " [[ 1.22140398e-03  1.12985118e-03  1.09933358e-03 ...  8.55192787e-04\n",
            "    8.55192787e-04  8.24675187e-04]\n",
            "  [ 4.36471673e-03  4.39523433e-03  4.45626953e-03 ...  8.85710386e-04\n",
            "    1.12985118e-03  1.37399198e-03]\n",
            "  [-4.97366872e-03 -4.94315112e-03 -4.91263352e-03 ... -5.55350311e-03\n",
            "   -5.67557350e-03 -5.79764390e-03]\n",
            "  ...\n",
            "  [ 4.79196312e-03  5.31076231e-03  5.98214950e-03 ...  6.11051991e-04\n",
            "    6.72087190e-04  7.63639988e-04]\n",
            "  [ 5.80534391e-04  7.94157588e-04  1.06881598e-03 ...  6.71457189e-03\n",
            "    6.59250149e-03  6.47043109e-03]\n",
            "  [ 2.32003756e-03  2.89987195e-03  3.51022394e-03 ...  2.53366076e-03\n",
            "    2.35055516e-03  2.32003756e-03]]\n",
            "\n",
            " [[ 2.75358396e-04  2.44840797e-04  2.75358396e-04 ... -1.55569757e-03\n",
            "   -1.58621517e-03 -1.67776797e-03]\n",
            "  [-7.62239986e-04 -7.92757586e-04 -7.31722387e-04 ... -2.19656716e-03\n",
            "   -2.28811996e-03 -2.44070796e-03]\n",
            "  [-2.43440795e-04 -4.26546392e-04 -5.79134389e-04 ...  1.28243918e-03\n",
            "    1.34347438e-03  1.31295678e-03]\n",
            "  ...\n",
            "  [-4.76004552e-03 -5.15677431e-03 -5.58402071e-03 ...  1.61813277e-03\n",
            "    1.70968557e-03  1.86227357e-03]\n",
            "  [-4.82108072e-03 -5.12625671e-03 -5.43143271e-03 ...  2.75358396e-04\n",
            "    3.36393595e-04  4.58463993e-04]\n",
            "  [-4.88211592e-03 -5.09573911e-03 -5.33987991e-03 ...  3.12176005e-05\n",
            "    6.17352000e-05  1.22770399e-04]]]\n",
            "X_test:\n",
            " [[[ 2.28951996e-03  2.28951996e-03  2.13693197e-03 ... -3.14261275e-03\n",
            "   -3.26468314e-03 -3.20364795e-03]\n",
            "  [ 2.32003756e-03  2.16744956e-03  1.86227357e-03 ... -1.79983837e-03\n",
            "   -1.95242637e-03 -2.07449676e-03]\n",
            "  [ 3.20504795e-03  3.02194235e-03  2.86935435e-03 ... -5.64505590e-03\n",
            "   -5.82816150e-03 -5.98074950e-03]\n",
            "  ...\n",
            "  [ 4.66989272e-03  4.45626953e-03  4.27316393e-03 ... -7.32352388e-03\n",
            "   -7.29300628e-03 -7.26248868e-03]\n",
            "  [ 2.71676636e-03  3.02194235e-03  3.32711835e-03 ... -4.88211592e-03\n",
            "   -4.63797512e-03 -4.54642232e-03]\n",
            "  [ 4.88351592e-03  4.94455112e-03  4.94455112e-03 ... -6.46903109e-03\n",
            "   -6.25540789e-03 -6.16385510e-03]]\n",
            "\n",
            " [[ 1.22687750e-02  1.26960214e-02  1.31232678e-02 ... -1.08025302e-02\n",
            "   -1.00701078e-02 -9.09354465e-03]\n",
            "  [ 1.09870358e-02  1.12311766e-02  1.12311766e-02 ... -2.19656716e-03\n",
            "   -2.34915516e-03 -2.10501436e-03]\n",
            "  [ 1.04987542e-02  1.06513422e-02  1.09565182e-02 ... -7.38455907e-03\n",
            "   -6.68265429e-03 -5.95023190e-03]\n",
            "  ...\n",
            "  [-3.14261275e-03 -3.63089434e-03 -3.96658793e-03 ...  7.47751188e-03\n",
            "    7.56906467e-03  7.72165267e-03]\n",
            "  [-1.46414477e-03 -3.38675354e-03 -4.39383433e-03 ...  1.52900173e-02\n",
            "    1.44660422e-02  1.34894790e-02]\n",
            "  [-2.95950715e-03 -3.63089434e-03 -4.08865833e-03 ...  1.00104726e-02\n",
            "    9.82736704e-03  9.58322624e-03]]\n",
            "\n",
            " [[ 4.33419913e-03  4.12057593e-03  4.15109353e-03 ... -1.90117645e-02\n",
            "   -1.95915989e-02 -2.02019509e-02]\n",
            "  [ 2.10641437e-03  1.98434397e-03  1.64865037e-03 ... -4.60745752e-03\n",
            "   -4.27176393e-03 -3.96658793e-03]\n",
            "  [ 7.93527587e-03  8.36252226e-03  8.75925105e-03 ... -1.60515573e-02\n",
            "   -1.63567333e-02 -1.68144973e-02]\n",
            "  ...\n",
            "  [ 1.07123774e-02  9.97995503e-03  9.24753265e-03 ...  3.36393595e-04\n",
            "    3.97428794e-04  3.36393595e-04]\n",
            "  [ 1.84028125e-02  1.73957317e-02  1.64496861e-02 ...  4.94455112e-03\n",
            "    5.43283271e-03  5.28024471e-03]\n",
            "  [ 1.41913838e-02  1.32758558e-02  1.22992926e-02 ...  3.60177674e-03\n",
            "    3.47970634e-03  3.14401275e-03]]\n",
            "\n",
            " ...\n",
            "\n",
            " [[-7.62869987e-03 -7.78128787e-03 -7.99491106e-03 ...  4.58463993e-04\n",
            "    1.58761517e-03  2.71676636e-03]\n",
            "  [-8.11698146e-03 -7.93387587e-03 -7.87284067e-03 ... -7.01204787e-04\n",
            "    3.66911195e-04  1.40450958e-03]\n",
            "  [-1.55569757e-03 -1.52517997e-03 -1.55569757e-03 ... -2.98175984e-05\n",
            "    3.05875996e-04  5.50016792e-04]\n",
            "  ...\n",
            "  [ 2.41159036e-03  2.47262556e-03  2.44210796e-03 ... -9.30716784e-03\n",
            "   -8.02542866e-03 -6.77420709e-03]\n",
            "  [-1.00638078e-03 -1.00638078e-03 -1.00638078e-03 ... -1.76932077e-03\n",
            "   -9.14827984e-04 -1.82405596e-04]\n",
            "  [ 8.24675187e-04  7.33122389e-04  6.11051991e-04 ... -3.02054235e-03\n",
            "   -1.83035597e-03 -7.62239986e-04]]\n",
            "\n",
            " [[ 1.53287998e-04  1.22770399e-04  9.22527995e-05 ...  5.19499192e-04\n",
            "    4.27946394e-04  3.05875996e-04]\n",
            "  [-3.34993593e-04 -6.40169588e-04 -8.53792785e-04 ...  9.22527995e-05\n",
            "    6.17352000e-05  7.00001038e-07]\n",
            "  [ 9.16227986e-04  3.66911195e-04 -9.08527974e-05 ...  6.41569590e-04\n",
            "    7.02604789e-04  6.41569590e-04]\n",
            "  ...\n",
            "  [-4.21072873e-03 -4.45486952e-03 -4.51590472e-03 ... -5.46195031e-03\n",
            "   -5.30936231e-03 -4.91263352e-03]\n",
            "  [ 2.13693197e-03  2.10641437e-03  2.19796716e-03 ... -3.23416554e-03\n",
            "   -3.11209515e-03 -2.95950715e-03]\n",
            "  [-8.84310384e-04 -1.31155678e-03 -1.55569757e-03 ... -5.37039751e-03\n",
            "   -5.03470391e-03 -4.42435192e-03]]\n",
            "\n",
            " [[ 2.93038955e-03  2.62521356e-03  2.38107276e-03 ...  1.22140398e-03\n",
            "    1.49606238e-03  1.67916797e-03]\n",
            "  [-7.62239986e-04 -1.03689838e-03 -1.18948638e-03 ... -6.09651989e-04\n",
            "   -7.92757586e-04 -1.03689838e-03]\n",
            "  [ 3.38815354e-03  3.23556555e-03  3.05245995e-03 ...  2.75358396e-04\n",
            "    3.05875996e-04  3.97428794e-04]\n",
            "  ...\n",
            "  [ 2.07589677e-03  1.95382637e-03  1.98434397e-03 ... -3.81399993e-03\n",
            "   -3.87503513e-03 -3.93607033e-03]\n",
            "  [ 6.04318470e-03  5.76852630e-03  5.37179751e-03 ... -1.12845118e-03\n",
            "   -1.22000398e-03 -1.34207438e-03]\n",
            "  [ 2.86935435e-03  2.74728395e-03  2.62521356e-03 ... -2.86795435e-03\n",
            "   -3.02054235e-03 -3.20364795e-03]]]\n",
            "Y_train:\n",
            " [1 1 1 ... 2 0 0]\n",
            "Y_test:\n",
            " [1 0 0 ... 0 0 0]\n"
          ]
        }
      ]
    },
    {
      "cell_type": "code",
      "source": [
        "print(\"Shape of x_train:\", X_train.shape)\n",
        "print(\"Shape of y_train:\", Y_train.shape)\n",
        "print(\"Shape of x_test:\", X_test.shape)\n",
        "print(\"Shape of y_test:\", Y_test.shape)"
      ],
      "metadata": {
        "colab": {
          "base_uri": "https://localhost:8080/"
        },
        "id": "kMyN-uJ1KW8P",
        "outputId": "029dfde6-d955-49d5-aec9-7784e6142f55"
      },
      "execution_count": null,
      "outputs": [
        {
          "output_type": "stream",
          "name": "stdout",
          "text": [
            "Shape of x_train: (6232, 19, 500)\n",
            "Shape of y_train: (6232,)\n",
            "Shape of x_test: (1558, 19, 500)\n",
            "Shape of y_test: (1558,)\n"
          ]
        }
      ]
    },
    {
      "cell_type": "markdown",
      "source": [
        "#Counting and Displaying Label Distribution in Training and Test Sets"
      ],
      "metadata": {
        "id": "w4NF1DiUIhIZ"
      }
    },
    {
      "cell_type": "code",
      "source": [
        "\n",
        "\n",
        "\n",
        "unique_train, counts_train = np.unique(Y_train, return_counts=True)\n",
        "unique_test, counts_test = np.unique(Y_test, return_counts=True)\n",
        "\n",
        "print(\"Training labels distribution:\")\n",
        "for label, count in zip(unique_train, counts_train):\n",
        "    print(f\"Label {label}: {count}\")\n",
        "\n",
        "print(\"\\nTest labels distribution:\")\n",
        "for label, count in zip(unique_test, counts_test):\n",
        "    print(f\"Label {label}: {count}\")\n"
      ],
      "metadata": {
        "colab": {
          "base_uri": "https://localhost:8080/"
        },
        "id": "AXa5XkupROtx",
        "outputId": "616f9863-59f4-4502-9b30-78a1c7e061c5"
      },
      "execution_count": null,
      "outputs": [
        {
          "output_type": "stream",
          "name": "stdout",
          "text": [
            "Training labels distribution:\n",
            "Label 0: 3140\n",
            "Label 1: 2412\n",
            "Label 2: 600\n",
            "Label 3: 80\n",
            "\n",
            "Test labels distribution:\n",
            "Label 0: 755\n",
            "Label 1: 622\n",
            "Label 2: 150\n",
            "Label 3: 31\n"
          ]
        }
      ]
    },
    {
      "cell_type": "code",
      "source": [
        "import numpy as np\n",
        "import matplotlib.pyplot as plt\n",
        "\n",
        "# Count label frequencies\n",
        "unique_train, counts_train = np.unique(Y_train, return_counts=True)\n",
        "unique_test, counts_test = np.unique(Y_test, return_counts=True)\n",
        "\n",
        "# Set up the plot\n",
        "fig, axs = plt.subplots(1, 2, figsize=(12, 5))\n",
        "\n",
        "# Plot training set distribution\n",
        "axs[0].bar(unique_train, counts_train, color='skyblue')\n",
        "axs[0].set_title('Training Set Label Distribution')\n",
        "axs[0].set_xlabel('Labels')\n",
        "axs[0].set_ylabel('Count')\n",
        "axs[0].set_xticks(unique_train)\n",
        "\n",
        "# Plot test set distribution\n",
        "axs[1].bar(unique_test, counts_test, color='salmon')\n",
        "axs[1].set_title('Test Set Label Distribution')\n",
        "axs[1].set_xlabel('Labels')\n",
        "axs[1].set_ylabel('Count')\n",
        "axs[1].set_xticks(unique_test)\n",
        "\n",
        "plt.tight_layout()\n",
        "plt.show()\n"
      ],
      "metadata": {
        "colab": {
          "base_uri": "https://localhost:8080/",
          "height": 446
        },
        "id": "DLGg1INdJCqV",
        "outputId": "bed79ae2-aea3-4a3a-e9a7-139e9f58f8fb"
      },
      "execution_count": null,
      "outputs": [
        {
          "output_type": "display_data",
          "data": {
            "text/plain": [
              "<Figure size 1200x500 with 2 Axes>"
            ],
            "image/png": "[encoded data removed]"
          },
          "metadata": {}
        }
      ]
    },
    {
      "cell_type": "markdown",
      "source": [
        "# value ranges of training set"
      ],
      "metadata": {
        "id": "g-nzqW1VJLC1"
      }
    },
    {
      "cell_type": "code",
      "source": [
        "\n",
        "print(\"x_train min:\", np.min(X_train))\n",
        "print(\"x_train max:\", np.max(X_train))\n",
        "print(\"x_train mean:\", np.mean(X_train))\n"
      ],
      "metadata": {
        "colab": {
          "base_uri": "https://localhost:8080/"
        },
        "id": "JcADFZmNRpbE",
        "outputId": "11c92923-200c-4192-e608-b9461ed01ce6"
      },
      "execution_count": null,
      "outputs": [
        {
          "output_type": "stream",
          "name": "stdout",
          "text": [
            "x_train min: -1.0\n",
            "x_train max: 1.0\n",
            "x_train mean: -2.579712397629358e-06\n"
          ]
        }
      ]
    },
    {
      "cell_type": "code",
      "source": [
        "import numpy as np\n",
        "import matplotlib.pyplot as plt\n",
        "\n",
        "# Print summary statistics\n",
        "print(\"x_train min:\", np.min(X_train))\n",
        "print(\"x_train max:\", np.max(X_train))\n",
        "print(\"x_train mean:\", np.mean(X_train))\n",
        "\n",
        "# Flatten the array if it's multidimensional (e.g., images)\n",
        "X_train_flat = X_train.flatten()\n",
        "\n",
        "# Plot histogram of X_train values\n",
        "plt.figure(figsize=(8, 5))\n",
        "plt.hist(X_train_flat, bins=50, color='purple', edgecolor='black')\n",
        "plt.title('Distribution of X_train Values')\n",
        "plt.xlabel('Pixel/Feature Value')\n",
        "plt.ylabel('Frequency')\n",
        "plt.grid(True)\n",
        "plt.show()\n"
      ],
      "metadata": {
        "colab": {
          "base_uri": "https://localhost:8080/",
          "height": 541
        },
        "id": "-gbyZ0l5JYSt",
        "outputId": "0d780d7d-c091-47eb-b0b1-a078fd9d0b34"
      },
      "execution_count": null,
      "outputs": [
        {
          "output_type": "stream",
          "name": "stdout",
          "text": [
            "x_train min: -1.0\n",
            "x_train max: 1.0\n",
            "x_train mean: -2.579712397629358e-06\n"
          ]
        },
        {
          "output_type": "display_data",
          "data": {
            "text/plain": [
              "<Figure size 800x500 with 1 Axes>"
            ],
            "image/png": "[encoded data removed]"
          },
          "metadata": {}
        }
      ]
    },
    {
      "cell_type": "code",
      "source": [
        "import numpy as np\n",
        "import pandas as pd\n",
        "import plotly.graph_objects as go\n",
        "import os\n",
        "\n",
        "# Create save directory\n",
        "save_dir = '/content/drive/MyDrive/Npy_files/eeg_figures/chord_diagrams'\n",
        "os.makedirs(save_dir, exist_ok=True)\n",
        "\n",
        "# Function to plot EEG inter-channel correlation as a circular chord diagram\n",
        "def plot_chord_diagram(sample, label, channel_count=19):\n",
        "    corr_matrix = np.corrcoef(sample)\n",
        "    threshold = 0.6  # Only show strong correlations\n",
        "\n",
        "    # Circular positions for channels\n",
        "    theta = np.linspace(0, 2 * np.pi, channel_count, endpoint=False)\n",
        "    node_x = np.cos(theta)\n",
        "    node_y = np.sin(theta)\n",
        "    channel_names = [f'Ch{i+1}' for i in range(channel_count)]\n",
        "\n",
        "    # Create figure\n",
        "    fig = go.Figure()\n",
        "\n",
        "    # Add connections (edges)\n",
        "    for i in range(channel_count):\n",
        "        for j in range(i+1, channel_count):\n",
        "            weight = corr_matrix[i, j]\n",
        "            if abs(weight) >= threshold and i != j:\n",
        "                x_vals = [node_x[i], node_x[j]]\n",
        "                y_vals = [node_y[i], node_y[j]]\n",
        "                fig.add_trace(go.Scatter(\n",
        "                    x=x_vals,\n",
        "                    y=y_vals,\n",
        "                    mode='lines',\n",
        "                    line=dict(width=2, color='red' if weight > 0 else 'blue'),\n",
        "                    opacity=min(1.0, abs(weight)),\n",
        "                    hoverinfo='text',\n",
        "                    text=f'{channel_names[i]} ⇄ {channel_names[j]}: {weight:.2f}'\n",
        "                ))\n",
        "\n",
        "    # Add nodes (EEG channels)\n",
        "    fig.add_trace(go.Scatter(\n",
        "        x=node_x,\n",
        "        y=node_y,\n",
        "        mode='markers+text',\n",
        "        marker=dict(size=20, color='lightgreen'),\n",
        "        text=channel_names,\n",
        "        textposition='top center',\n",
        "        hoverinfo='text',\n",
        "    ))\n",
        "\n",
        "    fig.update_layout(\n",
        "        title=f'Chord Diagram (EEG Channel Correlation) - Label {label}',\n",
        "        showlegend=False,\n",
        "        margin=dict(t=50, l=20, r=20, b=20),\n",
        "        xaxis=dict(visible=False),\n",
        "        yaxis=dict(visible=False),\n",
        "        plot_bgcolor='white'\n",
        "    )\n",
        "\n",
        "    # Save as HTML (interactive)\n",
        "    html_path = os.path.join(save_dir, f'Chord_Diagram_Label_{label}.html')\n",
        "    fig.write_html(html_path)\n",
        "    print(f\"Interactive chord diagram saved: {html_path}\")\n",
        "\n",
        "    fig.show()\n",
        "\n",
        "# Call the function for one sample per label\n",
        "labels = [0, 1, 2, 3]\n",
        "for label in labels:\n",
        "    idx = np.where(Y_train == label)[0][0]\n",
        "    sample = X_train[idx]\n",
        "    plot_chord_diagram(sample, label)\n",
        "\n"
      ],
      "metadata": {
        "colab": {
          "base_uri": "https://localhost:8080/",
          "height": 1000
        },
        "id": "tsefzIXfhDh9",
        "outputId": "9377c6d6-bfd6-42f3-9b7f-c742be6b5ce5"
      },
      "execution_count": null,
      "outputs": [
        {
          "output_type": "stream",
          "name": "stdout",
          "text": [
            "Interactive chord diagram saved: /content/drive/MyDrive/Npy_files/eeg_figures/chord_diagrams/Chord_Diagram_Label_0.html\n"
          ]
        },
        {
          "output_type": "display_data",
          "data": {
            "text/html": [
              "<html>\n",
              "<head><meta charset=\"utf-8\" /></head>\n",
              "<body>\n",
              "    <div>            <script src=\"https://cdnjs.cloudflare.com/ajax/libs/mathjax/2.7.5/MathJax.js?config=TeX-AMS-MML_SVG\"></script><script type=\"text/javascript\">if (window.MathJax && window.MathJax.Hub && window.MathJax.Hub.Config) {window.MathJax.Hub.Config({SVG: {font: \"STIX-Web\"}});}</script>                <script type=\"text/javascript\">window.PlotlyConfig = {MathJaxConfig: 'local'};</script>\n",
              "        <script charset=\"utf-8\" src=\"https://cdn.plot.ly/plotly-2.35.2.min.js\"></script>                <div id=\"b7a336fe-a30f-43d5-8f67-bc69cae55fab\" class=\"plotly-graph-div\" style=\"height:525px; width:100%;\"></div>            <script type=\"text/javascript\">                                    window.PLOTLYENV=window.PLOTLYENV || {};                                    if (document.getElementById(\"b7a336fe-a30f-43d5-8f67-bc69cae55fab\")) {                    Plotly.newPlot(                        \"b7a336fe-a30f-43d5-8f67-bc69cae55fab\",                        [{\"hoverinfo\":\"text\",\"line\":{\"color\":\"red\",\"width\":2},\"mode\":\"lines\",\"opacity\":0.950529589340795,\"text\":\"Ch1 ⇄ Ch2: 0.95\",\"x\":[1.0,0.9458172417006346],\"y\":[0.0,0.32469946920468346],\"type\":\"scatter\"},{\"hoverinfo\":\"text\",\"line\":{\"color\":\"red\",\"width\":2},\"mode\":\"lines\",\"opacity\":0.7240650299918638,\"text\":\"Ch1 ⇄ Ch3: 0.72\",\"x\":[1.0,0.7891405093963936],\"y\":[0.0,0.6142127126896678],\"type\":\"scatter\"},{\"hoverinfo\":\"text\",\"line\":{\"color\":\"red\",\"width\":2},\"mode\":\"lines\",\"opacity\":0.674958892398256,\"text\":\"Ch1 ⇄ Ch4: 0.67\",\"x\":[1.0,0.546948158122427],\"y\":[0.0,0.8371664782625285],\"type\":\"scatter\"},{\"hoverinfo\":\"text\",\"line\":{\"color\":\"red\",\"width\":2},\"mode\":\"lines\",\"opacity\":0.8978230307405344,\"text\":\"Ch1 ⇄ Ch5: 0.90\",\"x\":[1.0,0.24548548714079924],\"y\":[0.0,0.9694002659393304],\"type\":\"scatter\"},{\"hoverinfo\":\"text\",\"line\":{\"color\":\"red\",\"width\":2},\"mode\":\"lines\",\"opacity\":0.8912032154603478,\"text\":\"Ch1 ⇄ Ch6: 0.89\",\"x\":[1.0,-0.08257934547233227],\"y\":[0.0,0.9965844930066698],\"type\":\"scatter\"},{\"hoverinfo\":\"text\",\"line\":{\"color\":\"red\",\"width\":2},\"mode\":\"lines\",\"opacity\":0.8502295523507885,\"text\":\"Ch1 ⇄ Ch7: 0.85\",\"x\":[1.0,-0.40169542465296926],\"y\":[0.0,0.9157733266550575],\"type\":\"scatter\"},{\"hoverinfo\":\"text\",\"line\":{\"color\":\"red\",\"width\":2},\"mode\":\"lines\",\"opacity\":0.8155410388135779,\"text\":\"Ch1 ⇄ Ch8: 0.82\",\"x\":[1.0,-0.6772815716257409],\"y\":[0.0,0.7357239106731318],\"type\":\"scatter\"},{\"hoverinfo\":\"text\",\"line\":{\"color\":\"red\",\"width\":2},\"mode\":\"lines\",\"opacity\":0.665628440505232,\"text\":\"Ch1 ⇄ Ch9: 0.67\",\"x\":[1.0,-0.879473751206489],\"y\":[0.0,0.4759473930370737],\"type\":\"scatter\"},{\"hoverinfo\":\"text\",\"line\":{\"color\":\"red\",\"width\":2},\"mode\":\"lines\",\"opacity\":0.7163376538604108,\"text\":\"Ch1 ⇄ Ch11: 0.72\",\"x\":[1.0,-0.9863613034027224],\"y\":[0.0,-0.16459459028073378],\"type\":\"scatter\"},{\"hoverinfo\":\"text\",\"line\":{\"color\":\"red\",\"width\":2},\"mode\":\"lines\",\"opacity\":0.7882716109169495,\"text\":\"Ch1 ⇄ Ch12: 0.79\",\"x\":[1.0,-0.8794737512064891],\"y\":[0.0,-0.4759473930370735],\"type\":\"scatter\"},{\"hoverinfo\":\"text\",\"line\":{\"color\":\"red\",\"width\":2},\"mode\":\"lines\",\"opacity\":0.7942777655047935,\"text\":\"Ch1 ⇄ Ch13: 0.79\",\"x\":[1.0,-0.6772815716257414],\"y\":[0.0,-0.7357239106731313],\"type\":\"scatter\"},{\"hoverinfo\":\"text\",\"line\":{\"color\":\"red\",\"width\":2},\"mode\":\"lines\",\"opacity\":0.8548055974576967,\"text\":\"Ch2 ⇄ Ch5: 0.85\",\"x\":[0.9458172417006346,0.24548548714079924],\"y\":[0.32469946920468346,0.9694002659393304],\"type\":\"scatter\"},{\"hoverinfo\":\"text\",\"line\":{\"color\":\"red\",\"width\":2},\"mode\":\"lines\",\"opacity\":0.9725866616979576,\"text\":\"Ch2 ⇄ Ch6: 0.97\",\"x\":[0.9458172417006346,-0.08257934547233227],\"y\":[0.32469946920468346,0.9965844930066698],\"type\":\"scatter\"},{\"hoverinfo\":\"text\",\"line\":{\"color\":\"red\",\"width\":2},\"mode\":\"lines\",\"opacity\":0.9657346256097736,\"text\":\"Ch2 ⇄ Ch7: 0.97\",\"x\":[0.9458172417006346,-0.40169542465296926],\"y\":[0.32469946920468346,0.9157733266550575],\"type\":\"scatter\"},{\"hoverinfo\":\"text\",\"line\":{\"color\":\"red\",\"width\":2},\"mode\":\"lines\",\"opacity\":0.8961121416511149,\"text\":\"Ch2 ⇄ Ch8: 0.90\",\"x\":[0.9458172417006346,-0.6772815716257409],\"y\":[0.32469946920468346,0.7357239106731318],\"type\":\"scatter\"},{\"hoverinfo\":\"text\",\"line\":{\"color\":\"red\",\"width\":2},\"mode\":\"lines\",\"opacity\":0.8705828048628244,\"text\":\"Ch2 ⇄ Ch11: 0.87\",\"x\":[0.9458172417006346,-0.9863613034027224],\"y\":[0.32469946920468346,-0.16459459028073378],\"type\":\"scatter\"},{\"hoverinfo\":\"text\",\"line\":{\"color\":\"red\",\"width\":2},\"mode\":\"lines\",\"opacity\":0.919487608721999,\"text\":\"Ch2 ⇄ Ch12: 0.92\",\"x\":[0.9458172417006346,-0.8794737512064891],\"y\":[0.32469946920468346,-0.4759473930370735],\"type\":\"scatter\"},{\"hoverinfo\":\"text\",\"line\":{\"color\":\"red\",\"width\":2},\"mode\":\"lines\",\"opacity\":0.9173370576567351,\"text\":\"Ch2 ⇄ Ch13: 0.92\",\"x\":[0.9458172417006346,-0.6772815716257414],\"y\":[0.32469946920468346,-0.7357239106731313],\"type\":\"scatter\"},{\"hoverinfo\":\"text\",\"line\":{\"color\":\"red\",\"width\":2},\"mode\":\"lines\",\"opacity\":0.7034747765181243,\"text\":\"Ch2 ⇄ Ch16: 0.70\",\"x\":[0.9458172417006346,0.2454854871407988],\"y\":[0.32469946920468346,-0.9694002659393305],\"type\":\"scatter\"},{\"hoverinfo\":\"text\",\"line\":{\"color\":\"red\",\"width\":2},\"mode\":\"lines\",\"opacity\":0.7523053986298005,\"text\":\"Ch2 ⇄ Ch17: 0.75\",\"x\":[0.9458172417006346,0.5469481581224266],\"y\":[0.32469946920468346,-0.8371664782625288],\"type\":\"scatter\"},{\"hoverinfo\":\"text\",\"line\":{\"color\":\"red\",\"width\":2},\"mode\":\"lines\",\"opacity\":0.6788914065685056,\"text\":\"Ch2 ⇄ Ch19: 0.68\",\"x\":[0.9458172417006346,0.9458172417006346],\"y\":[0.32469946920468346,-0.32469946920468373],\"type\":\"scatter\"},{\"hoverinfo\":\"text\",\"line\":{\"color\":\"red\",\"width\":2},\"mode\":\"lines\",\"opacity\":0.8478059073384181,\"text\":\"Ch3 ⇄ Ch4: 0.85\",\"x\":[0.7891405093963936,0.546948158122427],\"y\":[0.6142127126896678,0.8371664782625285],\"type\":\"scatter\"},{\"hoverinfo\":\"text\",\"line\":{\"color\":\"red\",\"width\":2},\"mode\":\"lines\",\"opacity\":0.8892444394492705,\"text\":\"Ch3 ⇄ Ch9: 0.89\",\"x\":[0.7891405093963936,-0.879473751206489],\"y\":[0.6142127126896678,0.4759473930370737],\"type\":\"scatter\"},{\"hoverinfo\":\"text\",\"line\":{\"color\":\"red\",\"width\":2},\"mode\":\"lines\",\"opacity\":0.725526439377174,\"text\":\"Ch4 ⇄ Ch5: 0.73\",\"x\":[0.546948158122427,0.24548548714079924],\"y\":[0.8371664782625285,0.9694002659393304],\"type\":\"scatter\"},{\"hoverinfo\":\"text\",\"line\":{\"color\":\"blue\",\"width\":2},\"mode\":\"lines\",\"opacity\":0.6746565127762671,\"text\":\"Ch4 ⇄ Ch15: -0.67\",\"x\":[0.546948158122427,-0.08257934547233274],\"y\":[0.8371664782625285,-0.9965844930066698],\"type\":\"scatter\"},{\"hoverinfo\":\"text\",\"line\":{\"color\":\"red\",\"width\":2},\"mode\":\"lines\",\"opacity\":0.8780243220032945,\"text\":\"Ch5 ⇄ Ch6: 0.88\",\"x\":[0.24548548714079924,-0.08257934547233227],\"y\":[0.9694002659393304,0.9965844930066698],\"type\":\"scatter\"},{\"hoverinfo\":\"text\",\"line\":{\"color\":\"red\",\"width\":2},\"mode\":\"lines\",\"opacity\":0.7447265480050977,\"text\":\"Ch5 ⇄ Ch7: 0.74\",\"x\":[0.24548548714079924,-0.40169542465296926],\"y\":[0.9694002659393304,0.9157733266550575],\"type\":\"scatter\"},{\"hoverinfo\":\"text\",\"line\":{\"color\":\"red\",\"width\":2},\"mode\":\"lines\",\"opacity\":0.6159983097575356,\"text\":\"Ch5 ⇄ Ch11: 0.62\",\"x\":[0.24548548714079924,-0.9863613034027224],\"y\":[0.9694002659393304,-0.16459459028073378],\"type\":\"scatter\"},{\"hoverinfo\":\"text\",\"line\":{\"color\":\"red\",\"width\":2},\"mode\":\"lines\",\"opacity\":0.654565848319393,\"text\":\"Ch5 ⇄ Ch12: 0.65\",\"x\":[0.24548548714079924,-0.8794737512064891],\"y\":[0.9694002659393304,-0.4759473930370735],\"type\":\"scatter\"},{\"hoverinfo\":\"text\",\"line\":{\"color\":\"red\",\"width\":2},\"mode\":\"lines\",\"opacity\":0.6169790136344754,\"text\":\"Ch5 ⇄ Ch13: 0.62\",\"x\":[0.24548548714079924,-0.6772815716257414],\"y\":[0.9694002659393304,-0.7357239106731313],\"type\":\"scatter\"},{\"hoverinfo\":\"text\",\"line\":{\"color\":\"red\",\"width\":2},\"mode\":\"lines\",\"opacity\":0.9631091509121047,\"text\":\"Ch6 ⇄ Ch7: 0.96\",\"x\":[-0.08257934547233227,-0.40169542465296926],\"y\":[0.9965844930066698,0.9157733266550575],\"type\":\"scatter\"},{\"hoverinfo\":\"text\",\"line\":{\"color\":\"red\",\"width\":2},\"mode\":\"lines\",\"opacity\":0.8190633165930472,\"text\":\"Ch6 ⇄ Ch8: 0.82\",\"x\":[-0.08257934547233227,-0.6772815716257409],\"y\":[0.9965844930066698,0.7357239106731318],\"type\":\"scatter\"},{\"hoverinfo\":\"text\",\"line\":{\"color\":\"red\",\"width\":2},\"mode\":\"lines\",\"opacity\":0.9027361025837366,\"text\":\"Ch6 ⇄ Ch11: 0.90\",\"x\":[-0.08257934547233227,-0.9863613034027224],\"y\":[0.9965844930066698,-0.16459459028073378],\"type\":\"scatter\"},{\"hoverinfo\":\"text\",\"line\":{\"color\":\"red\",\"width\":2},\"mode\":\"lines\",\"opacity\":0.9020456157342722,\"text\":\"Ch6 ⇄ Ch12: 0.90\",\"x\":[-0.08257934547233227,-0.8794737512064891],\"y\":[0.9965844930066698,-0.4759473930370735],\"type\":\"scatter\"},{\"hoverinfo\":\"text\",\"line\":{\"color\":\"red\",\"width\":2},\"mode\":\"lines\",\"opacity\":0.8801971914832135,\"text\":\"Ch6 ⇄ Ch13: 0.88\",\"x\":[-0.08257934547233227,-0.6772815716257414],\"y\":[0.9965844930066698,-0.7357239106731313],\"type\":\"scatter\"},{\"hoverinfo\":\"text\",\"line\":{\"color\":\"red\",\"width\":2},\"mode\":\"lines\",\"opacity\":0.6897781812528577,\"text\":\"Ch6 ⇄ Ch16: 0.69\",\"x\":[-0.08257934547233227,0.2454854871407988],\"y\":[0.9965844930066698,-0.9694002659393305],\"type\":\"scatter\"},{\"hoverinfo\":\"text\",\"line\":{\"color\":\"red\",\"width\":2},\"mode\":\"lines\",\"opacity\":0.7370942190893958,\"text\":\"Ch6 ⇄ Ch17: 0.74\",\"x\":[-0.08257934547233227,0.5469481581224266],\"y\":[0.9965844930066698,-0.8371664782625288],\"type\":\"scatter\"},{\"hoverinfo\":\"text\",\"line\":{\"color\":\"red\",\"width\":2},\"mode\":\"lines\",\"opacity\":0.6551347278478008,\"text\":\"Ch6 ⇄ Ch19: 0.66\",\"x\":[-0.08257934547233227,0.9458172417006346],\"y\":[0.9965844930066698,-0.32469946920468373],\"type\":\"scatter\"},{\"hoverinfo\":\"text\",\"line\":{\"color\":\"red\",\"width\":2},\"mode\":\"lines\",\"opacity\":0.9187201643720871,\"text\":\"Ch7 ⇄ Ch8: 0.92\",\"x\":[-0.40169542465296926,-0.6772815716257409],\"y\":[0.9157733266550575,0.7357239106731318],\"type\":\"scatter\"},{\"hoverinfo\":\"text\",\"line\":{\"color\":\"red\",\"width\":2},\"mode\":\"lines\",\"opacity\":0.9467273149298948,\"text\":\"Ch7 ⇄ Ch11: 0.95\",\"x\":[-0.40169542465296926,-0.9863613034027224],\"y\":[0.9157733266550575,-0.16459459028073378],\"type\":\"scatter\"},{\"hoverinfo\":\"text\",\"line\":{\"color\":\"red\",\"width\":2},\"mode\":\"lines\",\"opacity\":0.9673514524263591,\"text\":\"Ch7 ⇄ Ch12: 0.97\",\"x\":[-0.40169542465296926,-0.8794737512064891],\"y\":[0.9157733266550575,-0.4759473930370735],\"type\":\"scatter\"},{\"hoverinfo\":\"text\",\"line\":{\"color\":\"red\",\"width\":2},\"mode\":\"lines\",\"opacity\":0.9565370257932083,\"text\":\"Ch7 ⇄ Ch13: 0.96\",\"x\":[-0.40169542465296926,-0.6772815716257414],\"y\":[0.9157733266550575,-0.7357239106731313],\"type\":\"scatter\"},{\"hoverinfo\":\"text\",\"line\":{\"color\":\"red\",\"width\":2},\"mode\":\"lines\",\"opacity\":0.6319390085768248,\"text\":\"Ch7 ⇄ Ch14: 0.63\",\"x\":[-0.40169542465296926,-0.40169542465296987],\"y\":[0.9157733266550575,-0.9157733266550573],\"type\":\"scatter\"},{\"hoverinfo\":\"text\",\"line\":{\"color\":\"red\",\"width\":2},\"mode\":\"lines\",\"opacity\":0.800402568175979,\"text\":\"Ch7 ⇄ Ch16: 0.80\",\"x\":[-0.40169542465296926,0.2454854871407988],\"y\":[0.9157733266550575,-0.9694002659393305],\"type\":\"scatter\"},{\"hoverinfo\":\"text\",\"line\":{\"color\":\"red\",\"width\":2},\"mode\":\"lines\",\"opacity\":0.8412468291693226,\"text\":\"Ch7 ⇄ Ch17: 0.84\",\"x\":[-0.40169542465296926,0.5469481581224266],\"y\":[0.9157733266550575,-0.8371664782625288],\"type\":\"scatter\"},{\"hoverinfo\":\"text\",\"line\":{\"color\":\"red\",\"width\":2},\"mode\":\"lines\",\"opacity\":0.621723253859081,\"text\":\"Ch7 ⇄ Ch18: 0.62\",\"x\":[-0.40169542465296926,0.7891405093963934],\"y\":[0.9157733266550575,-0.614212712689668],\"type\":\"scatter\"},{\"hoverinfo\":\"text\",\"line\":{\"color\":\"red\",\"width\":2},\"mode\":\"lines\",\"opacity\":0.7871382401331485,\"text\":\"Ch7 ⇄ Ch19: 0.79\",\"x\":[-0.40169542465296926,0.9458172417006346],\"y\":[0.9157733266550575,-0.32469946920468373],\"type\":\"scatter\"},{\"hoverinfo\":\"text\",\"line\":{\"color\":\"red\",\"width\":2},\"mode\":\"lines\",\"opacity\":0.6724028312227796,\"text\":\"Ch8 ⇄ Ch9: 0.67\",\"x\":[-0.6772815716257409,-0.879473751206489],\"y\":[0.7357239106731318,0.4759473930370737],\"type\":\"scatter\"},{\"hoverinfo\":\"text\",\"line\":{\"color\":\"red\",\"width\":2},\"mode\":\"lines\",\"opacity\":0.8582160668718263,\"text\":\"Ch8 ⇄ Ch11: 0.86\",\"x\":[-0.6772815716257409,-0.9863613034027224],\"y\":[0.7357239106731318,-0.16459459028073378],\"type\":\"scatter\"},{\"hoverinfo\":\"text\",\"line\":{\"color\":\"red\",\"width\":2},\"mode\":\"lines\",\"opacity\":0.9282727010436986,\"text\":\"Ch8 ⇄ Ch12: 0.93\",\"x\":[-0.6772815716257409,-0.8794737512064891],\"y\":[0.7357239106731318,-0.4759473930370735],\"type\":\"scatter\"},{\"hoverinfo\":\"text\",\"line\":{\"color\":\"red\",\"width\":2},\"mode\":\"lines\",\"opacity\":0.9575058292846668,\"text\":\"Ch8 ⇄ Ch13: 0.96\",\"x\":[-0.6772815716257409,-0.6772815716257414],\"y\":[0.7357239106731318,-0.7357239106731313],\"type\":\"scatter\"},{\"hoverinfo\":\"text\",\"line\":{\"color\":\"red\",\"width\":2},\"mode\":\"lines\",\"opacity\":0.7421983636883865,\"text\":\"Ch8 ⇄ Ch14: 0.74\",\"x\":[-0.6772815716257409,-0.40169542465296987],\"y\":[0.7357239106731318,-0.9157733266550573],\"type\":\"scatter\"},{\"hoverinfo\":\"text\",\"line\":{\"color\":\"red\",\"width\":2},\"mode\":\"lines\",\"opacity\":0.8325055804677712,\"text\":\"Ch8 ⇄ Ch16: 0.83\",\"x\":[-0.6772815716257409,0.2454854871407988],\"y\":[0.7357239106731318,-0.9694002659393305],\"type\":\"scatter\"},{\"hoverinfo\":\"text\",\"line\":{\"color\":\"red\",\"width\":2},\"mode\":\"lines\",\"opacity\":0.8467187638547006,\"text\":\"Ch8 ⇄ Ch17: 0.85\",\"x\":[-0.6772815716257409,0.5469481581224266],\"y\":[0.7357239106731318,-0.8371664782625288],\"type\":\"scatter\"},{\"hoverinfo\":\"text\",\"line\":{\"color\":\"red\",\"width\":2},\"mode\":\"lines\",\"opacity\":0.6949416721779894,\"text\":\"Ch8 ⇄ Ch18: 0.69\",\"x\":[-0.6772815716257409,0.7891405093963934],\"y\":[0.7357239106731318,-0.614212712689668],\"type\":\"scatter\"},{\"hoverinfo\":\"text\",\"line\":{\"color\":\"red\",\"width\":2},\"mode\":\"lines\",\"opacity\":0.8412424782537521,\"text\":\"Ch8 ⇄ Ch19: 0.84\",\"x\":[-0.6772815716257409,0.9458172417006346],\"y\":[0.7357239106731318,-0.32469946920468373],\"type\":\"scatter\"},{\"hoverinfo\":\"text\",\"line\":{\"color\":\"red\",\"width\":2},\"mode\":\"lines\",\"opacity\":0.6970468592631032,\"text\":\"Ch9 ⇄ Ch10: 0.70\",\"x\":[-0.879473751206489,-0.9863613034027223],\"y\":[0.4759473930370737,0.16459459028073403],\"type\":\"scatter\"},{\"hoverinfo\":\"text\",\"line\":{\"color\":\"red\",\"width\":2},\"mode\":\"lines\",\"opacity\":0.9168178056345456,\"text\":\"Ch11 ⇄ Ch12: 0.92\",\"x\":[-0.9863613034027224,-0.8794737512064891],\"y\":[-0.16459459028073378,-0.4759473930370735],\"type\":\"scatter\"},{\"hoverinfo\":\"text\",\"line\":{\"color\":\"red\",\"width\":2},\"mode\":\"lines\",\"opacity\":0.9133466748036276,\"text\":\"Ch11 ⇄ Ch13: 0.91\",\"x\":[-0.9863613034027224,-0.6772815716257414],\"y\":[-0.16459459028073378,-0.7357239106731313],\"type\":\"scatter\"},{\"hoverinfo\":\"text\",\"line\":{\"color\":\"red\",\"width\":2},\"mode\":\"lines\",\"opacity\":0.668164723367793,\"text\":\"Ch11 ⇄ Ch14: 0.67\",\"x\":[-0.9863613034027224,-0.40169542465296987],\"y\":[-0.16459459028073378,-0.9157733266550573],\"type\":\"scatter\"},{\"hoverinfo\":\"text\",\"line\":{\"color\":\"red\",\"width\":2},\"mode\":\"lines\",\"opacity\":0.8128993912371835,\"text\":\"Ch11 ⇄ Ch16: 0.81\",\"x\":[-0.9863613034027224,0.2454854871407988],\"y\":[-0.16459459028073378,-0.9694002659393305],\"type\":\"scatter\"},{\"hoverinfo\":\"text\",\"line\":{\"color\":\"red\",\"width\":2},\"mode\":\"lines\",\"opacity\":0.8262188864471378,\"text\":\"Ch11 ⇄ Ch17: 0.83\",\"x\":[-0.9863613034027224,0.5469481581224266],\"y\":[-0.16459459028073378,-0.8371664782625288],\"type\":\"scatter\"},{\"hoverinfo\":\"text\",\"line\":{\"color\":\"red\",\"width\":2},\"mode\":\"lines\",\"opacity\":0.7038330428393373,\"text\":\"Ch11 ⇄ Ch18: 0.70\",\"x\":[-0.9863613034027224,0.7891405093963934],\"y\":[-0.16459459028073378,-0.614212712689668],\"type\":\"scatter\"},{\"hoverinfo\":\"text\",\"line\":{\"color\":\"red\",\"width\":2},\"mode\":\"lines\",\"opacity\":0.8119238825798377,\"text\":\"Ch11 ⇄ Ch19: 0.81\",\"x\":[-0.9863613034027224,0.9458172417006346],\"y\":[-0.16459459028073378,-0.32469946920468373],\"type\":\"scatter\"},{\"hoverinfo\":\"text\",\"line\":{\"color\":\"red\",\"width\":2},\"mode\":\"lines\",\"opacity\":0.9846954406301895,\"text\":\"Ch12 ⇄ Ch13: 0.98\",\"x\":[-0.8794737512064891,-0.6772815716257414],\"y\":[-0.4759473930370735,-0.7357239106731313],\"type\":\"scatter\"},{\"hoverinfo\":\"text\",\"line\":{\"color\":\"red\",\"width\":2},\"mode\":\"lines\",\"opacity\":0.7163224871575721,\"text\":\"Ch12 ⇄ Ch14: 0.72\",\"x\":[-0.8794737512064891,-0.40169542465296987],\"y\":[-0.4759473930370735,-0.9157733266550573],\"type\":\"scatter\"},{\"hoverinfo\":\"text\",\"line\":{\"color\":\"red\",\"width\":2},\"mode\":\"lines\",\"opacity\":0.8976962762089382,\"text\":\"Ch12 ⇄ Ch16: 0.90\",\"x\":[-0.8794737512064891,0.2454854871407988],\"y\":[-0.4759473930370735,-0.9694002659393305],\"type\":\"scatter\"},{\"hoverinfo\":\"text\",\"line\":{\"color\":\"red\",\"width\":2},\"mode\":\"lines\",\"opacity\":0.9405711439175747,\"text\":\"Ch12 ⇄ Ch17: 0.94\",\"x\":[-0.8794737512064891,0.5469481581224266],\"y\":[-0.4759473930370735,-0.8371664782625288],\"type\":\"scatter\"},{\"hoverinfo\":\"text\",\"line\":{\"color\":\"red\",\"width\":2},\"mode\":\"lines\",\"opacity\":0.7231385078150526,\"text\":\"Ch12 ⇄ Ch18: 0.72\",\"x\":[-0.8794737512064891,0.7891405093963934],\"y\":[-0.4759473930370735,-0.614212712689668],\"type\":\"scatter\"},{\"hoverinfo\":\"text\",\"line\":{\"color\":\"red\",\"width\":2},\"mode\":\"lines\",\"opacity\":0.8839022613086639,\"text\":\"Ch12 ⇄ Ch19: 0.88\",\"x\":[-0.8794737512064891,0.9458172417006346],\"y\":[-0.4759473930370735,-0.32469946920468373],\"type\":\"scatter\"},{\"hoverinfo\":\"text\",\"line\":{\"color\":\"red\",\"width\":2},\"mode\":\"lines\",\"opacity\":0.756294814045842,\"text\":\"Ch13 ⇄ Ch14: 0.76\",\"x\":[-0.6772815716257414,-0.40169542465296987],\"y\":[-0.7357239106731313,-0.9157733266550573],\"type\":\"scatter\"},{\"hoverinfo\":\"text\",\"line\":{\"color\":\"red\",\"width\":2},\"mode\":\"lines\",\"opacity\":0.8995586291661786,\"text\":\"Ch13 ⇄ Ch16: 0.90\",\"x\":[-0.6772815716257414,0.2454854871407988],\"y\":[-0.7357239106731313,-0.9694002659393305],\"type\":\"scatter\"},{\"hoverinfo\":\"text\",\"line\":{\"color\":\"red\",\"width\":2},\"mode\":\"lines\",\"opacity\":0.9303875491965745,\"text\":\"Ch13 ⇄ Ch17: 0.93\",\"x\":[-0.6772815716257414,0.5469481581224266],\"y\":[-0.7357239106731313,-0.8371664782625288],\"type\":\"scatter\"},{\"hoverinfo\":\"text\",\"line\":{\"color\":\"red\",\"width\":2},\"mode\":\"lines\",\"opacity\":0.7624942704083887,\"text\":\"Ch13 ⇄ Ch18: 0.76\",\"x\":[-0.6772815716257414,0.7891405093963934],\"y\":[-0.7357239106731313,-0.614212712689668],\"type\":\"scatter\"},{\"hoverinfo\":\"text\",\"line\":{\"color\":\"red\",\"width\":2},\"mode\":\"lines\",\"opacity\":0.8991769837919577,\"text\":\"Ch13 ⇄ Ch19: 0.90\",\"x\":[-0.6772815716257414,0.9458172417006346],\"y\":[-0.7357239106731313,-0.32469946920468373],\"type\":\"scatter\"},{\"hoverinfo\":\"text\",\"line\":{\"color\":\"red\",\"width\":2},\"mode\":\"lines\",\"opacity\":0.8414173605921152,\"text\":\"Ch14 ⇄ Ch15: 0.84\",\"x\":[-0.40169542465296987,-0.08257934547233274],\"y\":[-0.9157733266550573,-0.9965844930066698],\"type\":\"scatter\"},{\"hoverinfo\":\"text\",\"line\":{\"color\":\"red\",\"width\":2},\"mode\":\"lines\",\"opacity\":0.8808961001419467,\"text\":\"Ch14 ⇄ Ch16: 0.88\",\"x\":[-0.40169542465296987,0.2454854871407988],\"y\":[-0.9157733266550573,-0.9694002659393305],\"type\":\"scatter\"},{\"hoverinfo\":\"text\",\"line\":{\"color\":\"red\",\"width\":2},\"mode\":\"lines\",\"opacity\":0.8065576802396645,\"text\":\"Ch14 ⇄ Ch17: 0.81\",\"x\":[-0.40169542465296987,0.5469481581224266],\"y\":[-0.9157733266550573,-0.8371664782625288],\"type\":\"scatter\"},{\"hoverinfo\":\"text\",\"line\":{\"color\":\"red\",\"width\":2},\"mode\":\"lines\",\"opacity\":0.9558389063982767,\"text\":\"Ch14 ⇄ Ch18: 0.96\",\"x\":[-0.40169542465296987,0.7891405093963934],\"y\":[-0.9157733266550573,-0.614212712689668],\"type\":\"scatter\"},{\"hoverinfo\":\"text\",\"line\":{\"color\":\"red\",\"width\":2},\"mode\":\"lines\",\"opacity\":0.909884042387856,\"text\":\"Ch14 ⇄ Ch19: 0.91\",\"x\":[-0.40169542465296987,0.9458172417006346],\"y\":[-0.9157733266550573,-0.32469946920468373],\"type\":\"scatter\"},{\"hoverinfo\":\"text\",\"line\":{\"color\":\"red\",\"width\":2},\"mode\":\"lines\",\"opacity\":0.6632911350244022,\"text\":\"Ch15 ⇄ Ch16: 0.66\",\"x\":[-0.08257934547233274,0.2454854871407988],\"y\":[-0.9965844930066698,-0.9694002659393305],\"type\":\"scatter\"},{\"hoverinfo\":\"text\",\"line\":{\"color\":\"red\",\"width\":2},\"mode\":\"lines\",\"opacity\":0.8637163504122003,\"text\":\"Ch15 ⇄ Ch18: 0.86\",\"x\":[-0.08257934547233274,0.7891405093963934],\"y\":[-0.9965844930066698,-0.614212712689668],\"type\":\"scatter\"},{\"hoverinfo\":\"text\",\"line\":{\"color\":\"red\",\"width\":2},\"mode\":\"lines\",\"opacity\":0.6963882246912515,\"text\":\"Ch15 ⇄ Ch19: 0.70\",\"x\":[-0.08257934547233274,0.9458172417006346],\"y\":[-0.9965844930066698,-0.32469946920468373],\"type\":\"scatter\"},{\"hoverinfo\":\"text\",\"line\":{\"color\":\"red\",\"width\":2},\"mode\":\"lines\",\"opacity\":0.9681338381386145,\"text\":\"Ch16 ⇄ Ch17: 0.97\",\"x\":[0.2454854871407988,0.5469481581224266],\"y\":[-0.9694002659393305,-0.8371664782625288],\"type\":\"scatter\"},{\"hoverinfo\":\"text\",\"line\":{\"color\":\"red\",\"width\":2},\"mode\":\"lines\",\"opacity\":0.9115581878633441,\"text\":\"Ch16 ⇄ Ch18: 0.91\",\"x\":[0.2454854871407988,0.7891405093963934],\"y\":[-0.9694002659393305,-0.614212712689668],\"type\":\"scatter\"},{\"hoverinfo\":\"text\",\"line\":{\"color\":\"red\",\"width\":2},\"mode\":\"lines\",\"opacity\":0.980926869451904,\"text\":\"Ch16 ⇄ Ch19: 0.98\",\"x\":[0.2454854871407988,0.9458172417006346],\"y\":[-0.9694002659393305,-0.32469946920468373],\"type\":\"scatter\"},{\"hoverinfo\":\"text\",\"line\":{\"color\":\"red\",\"width\":2},\"mode\":\"lines\",\"opacity\":0.8477808052664983,\"text\":\"Ch17 ⇄ Ch18: 0.85\",\"x\":[0.5469481581224266,0.7891405093963934],\"y\":[-0.8371664782625288,-0.614212712689668],\"type\":\"scatter\"},{\"hoverinfo\":\"text\",\"line\":{\"color\":\"red\",\"width\":2},\"mode\":\"lines\",\"opacity\":0.9664792665410179,\"text\":\"Ch17 ⇄ Ch19: 0.97\",\"x\":[0.5469481581224266,0.9458172417006346],\"y\":[-0.8371664782625288,-0.32469946920468373],\"type\":\"scatter\"},{\"hoverinfo\":\"text\",\"line\":{\"color\":\"red\",\"width\":2},\"mode\":\"lines\",\"opacity\":0.9409132446112959,\"text\":\"Ch18 ⇄ Ch19: 0.94\",\"x\":[0.7891405093963934,0.9458172417006346],\"y\":[-0.614212712689668,-0.32469946920468373],\"type\":\"scatter\"},{\"hoverinfo\":\"text\",\"marker\":{\"color\":\"lightgreen\",\"size\":20},\"mode\":\"markers+text\",\"text\":[\"Ch1\",\"Ch2\",\"Ch3\",\"Ch4\",\"Ch5\",\"Ch6\",\"Ch7\",\"Ch8\",\"Ch9\",\"Ch10\",\"Ch11\",\"Ch12\",\"Ch13\",\"Ch14\",\"Ch15\",\"Ch16\",\"Ch17\",\"Ch18\",\"Ch19\"],\"textposition\":\"top center\",\"x\":[1.0,0.9458172417006346,0.7891405093963936,0.546948158122427,0.24548548714079924,-0.08257934547233227,-0.40169542465296926,-0.6772815716257409,-0.879473751206489,-0.9863613034027223,-0.9863613034027224,-0.8794737512064891,-0.6772815716257414,-0.40169542465296987,-0.08257934547233274,0.2454854871407988,0.5469481581224266,0.7891405093963934,0.9458172417006346],\"y\":[0.0,0.32469946920468346,0.6142127126896678,0.8371664782625285,0.9694002659393304,0.9965844930066698,0.9157733266550575,0.7357239106731318,0.4759473930370737,0.16459459028073403,-0.16459459028073378,-0.4759473930370735,-0.7357239106731313,-0.9157733266550573,-0.9965844930066698,-0.9694002659393305,-0.8371664782625288,-0.614212712689668,-0.32469946920468373],\"type\":\"scatter\"}],                        {\"template\":{\"data\":{\"histogram2dcontour\":[{\"type\":\"histogram2dcontour\",\"colorbar\":{\"outlinewidth\":0,\"ticks\":\"\"},\"colorscale\":[[0.0,\"#0d0887\"],[0.1111111111111111,\"#46039f\"],[0.2222222222222222,\"#7201a8\"],[0.3333333333333333,\"#9c179e\"],[0.4444444444444444,\"#bd3786\"],[0.5555555555555556,\"#d8576b\"],[0.6666666666666666,\"#ed7953\"],[0.7777777777777778,\"#fb9f3a\"],[0.8888888888888888,\"#fdca26\"],[1.0,\"#f0f921\"]]}],\"choropleth\":[{\"type\":\"choropleth\",\"colorbar\":{\"outlinewidth\":0,\"ticks\":\"\"}}],\"histogram2d\":[{\"type\":\"histogram2d\",\"colorbar\":{\"outlinewidth\":0,\"ticks\":\"\"},\"colorscale\":[[0.0,\"#0d0887\"],[0.1111111111111111,\"#46039f\"],[0.2222222222222222,\"#7201a8\"],[0.3333333333333333,\"#9c179e\"],[0.4444444444444444,\"#bd3786\"],[0.5555555555555556,\"#d8576b\"],[0.6666666666666666,\"#ed7953\"],[0.7777777777777778,\"#fb9f3a\"],[0.8888888888888888,\"#fdca26\"],[1.0,\"#f0f921\"]]}],\"heatmap\":[{\"type\":\"heatmap\",\"colorbar\":{\"outlinewidth\":0,\"ticks\":\"\"},\"colorscale\":[[0.0,\"#0d0887\"],[0.1111111111111111,\"#46039f\"],[0.2222222222222222,\"#7201a8\"],[0.3333333333333333,\"#9c179e\"],[0.4444444444444444,\"#bd3786\"],[0.5555555555555556,\"#d8576b\"],[0.6666666666666666,\"#ed7953\"],[0.7777777777777778,\"#fb9f3a\"],[0.8888888888888888,\"#fdca26\"],[1.0,\"#f0f921\"]]}],\"heatmapgl\":[{\"type\":\"heatmapgl\",\"colorbar\":{\"outlinewidth\":0,\"ticks\":\"\"},\"colorscale\":[[0.0,\"#0d0887\"],[0.1111111111111111,\"#46039f\"],[0.2222222222222222,\"#7201a8\"],[0.3333333333333333,\"#9c179e\"],[0.4444444444444444,\"#bd3786\"],[0.5555555555555556,\"#d8576b\"],[0.6666666666666666,\"#ed7953\"],[0.7777777777777778,\"#fb9f3a\"],[0.8888888888888888,\"#fdca26\"],[1.0,\"#f0f921\"]]}],\"contourcarpet\":[{\"type\":\"contourcarpet\",\"colorbar\":{\"outlinewidth\":0,\"ticks\":\"\"}}],\"contour\":[{\"type\":\"contour\",\"colorbar\":{\"outlinewidth\":0,\"ticks\":\"\"},\"colorscale\":[[0.0,\"#0d0887\"],[0.1111111111111111,\"#46039f\"],[0.2222222222222222,\"#7201a8\"],[0.3333333333333333,\"#9c179e\"],[0.4444444444444444,\"#bd3786\"],[0.5555555555555556,\"#d8576b\"],[0.6666666666666666,\"#ed7953\"],[0.7777777777777778,\"#fb9f3a\"],[0.8888888888888888,\"#fdca26\"],[1.0,\"#f0f921\"]]}],\"surface\":[{\"type\":\"surface\",\"colorbar\":{\"outlinewidth\":0,\"ticks\":\"\"},\"colorscale\":[[0.0,\"#0d0887\"],[0.1111111111111111,\"#46039f\"],[0.2222222222222222,\"#7201a8\"],[0.3333333333333333,\"#9c179e\"],[0.4444444444444444,\"#bd3786\"],[0.5555555555555556,\"#d8576b\"],[0.6666666666666666,\"#ed7953\"],[0.7777777777777778,\"#fb9f3a\"],[0.8888888888888888,\"#fdca26\"],[1.0,\"#f0f921\"]]}],\"mesh3d\":[{\"type\":\"mesh3d\",\"colorbar\":{\"outlinewidth\":0,\"ticks\":\"\"}}],\"scatter\":[{\"fillpattern\":{\"fillmode\":\"overlay\",\"size\":10,\"solidity\":0.2},\"type\":\"scatter\"}],\"parcoords\":[{\"type\":\"parcoords\",\"line\":{\"colorbar\":{\"outlinewidth\":0,\"ticks\":\"\"}}}],\"scatterpolargl\":[{\"type\":\"scatterpolargl\",\"marker\":{\"colorbar\":{\"outlinewidth\":0,\"ticks\":\"\"}}}],\"bar\":[{\"error_x\":{\"color\":\"#2a3f5f\"},\"error_y\":{\"color\":\"#2a3f5f\"},\"marker\":{\"line\":{\"color\":\"#E5ECF6\",\"width\":0.5},\"pattern\":{\"fillmode\":\"overlay\",\"size\":10,\"solidity\":0.2}},\"type\":\"bar\"}],\"scattergeo\":[{\"type\":\"scattergeo\",\"marker\":{\"colorbar\":{\"outlinewidth\":0,\"ticks\":\"\"}}}],\"scatterpolar\":[{\"type\":\"scatterpolar\",\"marker\":{\"colorbar\":{\"outlinewidth\":0,\"ticks\":\"\"}}}],\"histogram\":[{\"marker\":{\"pattern\":{\"fillmode\":\"overlay\",\"size\":10,\"solidity\":0.2}},\"type\":\"histogram\"}],\"scattergl\":[{\"type\":\"scattergl\",\"marker\":{\"colorbar\":{\"outlinewidth\":0,\"ticks\":\"\"}}}],\"scatter3d\":[{\"type\":\"scatter3d\",\"line\":{\"colorbar\":{\"outlinewidth\":0,\"ticks\":\"\"}},\"marker\":{\"colorbar\":{\"outlinewidth\":0,\"ticks\":\"\"}}}],\"scattermapbox\":[{\"type\":\"scattermapbox\",\"marker\":{\"colorbar\":{\"outlinewidth\":0,\"ticks\":\"\"}}}],\"scatterternary\":[{\"type\":\"scatterternary\",\"marker\":{\"colorbar\":{\"outlinewidth\":0,\"ticks\":\"\"}}}],\"scattercarpet\":[{\"type\":\"scattercarpet\",\"marker\":{\"colorbar\":{\"outlinewidth\":0,\"ticks\":\"\"}}}],\"carpet\":[{\"aaxis\":{\"endlinecolor\":\"#2a3f5f\",\"gridcolor\":\"white\",\"linecolor\":\"white\",\"minorgridcolor\":\"white\",\"startlinecolor\":\"#2a3f5f\"},\"baxis\":{\"endlinecolor\":\"#2a3f5f\",\"gridcolor\":\"white\",\"linecolor\":\"white\",\"minorgridcolor\":\"white\",\"startlinecolor\":\"#2a3f5f\"},\"type\":\"carpet\"}],\"table\":[{\"cells\":{\"fill\":{\"color\":\"#EBF0F8\"},\"line\":{\"color\":\"white\"}},\"header\":{\"fill\":{\"color\":\"#C8D4E3\"},\"line\":{\"color\":\"white\"}},\"type\":\"table\"}],\"barpolar\":[{\"marker\":{\"line\":{\"color\":\"#E5ECF6\",\"width\":0.5},\"pattern\":{\"fillmode\":\"overlay\",\"size\":10,\"solidity\":0.2}},\"type\":\"barpolar\"}],\"pie\":[{\"automargin\":true,\"type\":\"pie\"}]},\"layout\":{\"autotypenumbers\":\"strict\",\"colorway\":[\"#636efa\",\"#EF553B\",\"#00cc96\",\"#ab63fa\",\"#FFA15A\",\"#19d3f3\",\"#FF6692\",\"#B6E880\",\"#FF97FF\",\"#FECB52\"],\"font\":{\"color\":\"#2a3f5f\"},\"hovermode\":\"closest\",\"hoverlabel\":{\"align\":\"left\"},\"paper_bgcolor\":\"white\",\"plot_bgcolor\":\"#E5ECF6\",\"polar\":{\"bgcolor\":\"#E5ECF6\",\"angularaxis\":{\"gridcolor\":\"white\",\"linecolor\":\"white\",\"ticks\":\"\"},\"radialaxis\":{\"gridcolor\":\"white\",\"linecolor\":\"white\",\"ticks\":\"\"}},\"ternary\":{\"bgcolor\":\"#E5ECF6\",\"aaxis\":{\"gridcolor\":\"white\",\"linecolor\":\"white\",\"ticks\":\"\"},\"baxis\":{\"gridcolor\":\"white\",\"linecolor\":\"white\",\"ticks\":\"\"},\"caxis\":{\"gridcolor\":\"white\",\"linecolor\":\"white\",\"ticks\":\"\"}},\"coloraxis\":{\"colorbar\":{\"outlinewidth\":0,\"ticks\":\"\"}},\"colorscale\":{\"sequential\":[[0.0,\"#0d0887\"],[0.1111111111111111,\"#46039f\"],[0.2222222222222222,\"#7201a8\"],[0.3333333333333333,\"#9c179e\"],[0.4444444444444444,\"#bd3786\"],[0.5555555555555556,\"#d8576b\"],[0.6666666666666666,\"#ed7953\"],[0.7777777777777778,\"#fb9f3a\"],[0.8888888888888888,\"#fdca26\"],[1.0,\"#f0f921\"]],\"sequentialminus\":[[0.0,\"#0d0887\"],[0.1111111111111111,\"#46039f\"],[0.2222222222222222,\"#7201a8\"],[0.3333333333333333,\"#9c179e\"],[0.4444444444444444,\"#bd3786\"],[0.5555555555555556,\"#d8576b\"],[0.6666666666666666,\"#ed7953\"],[0.7777777777777778,\"#fb9f3a\"],[0.8888888888888888,\"#fdca26\"],[1.0,\"#f0f921\"]],\"diverging\":[[0,\"#8e0152\"],[0.1,\"#c51b7d\"],[0.2,\"#de77ae\"],[0.3,\"#f1b6da\"],[0.4,\"#fde0ef\"],[0.5,\"#f7f7f7\"],[0.6,\"#e6f5d0\"],[0.7,\"#b8e186\"],[0.8,\"#7fbc41\"],[0.9,\"#4d9221\"],[1,\"#276419\"]]},\"xaxis\":{\"gridcolor\":\"white\",\"linecolor\":\"white\",\"ticks\":\"\",\"title\":{\"standoff\":15},\"zerolinecolor\":\"white\",\"automargin\":true,\"zerolinewidth\":2},\"yaxis\":{\"gridcolor\":\"white\",\"linecolor\":\"white\",\"ticks\":\"\",\"title\":{\"standoff\":15},\"zerolinecolor\":\"white\",\"automargin\":true,\"zerolinewidth\":2},\"scene\":{\"xaxis\":{\"backgroundcolor\":\"#E5ECF6\",\"gridcolor\":\"white\",\"linecolor\":\"white\",\"showbackground\":true,\"ticks\":\"\",\"zerolinecolor\":\"white\",\"gridwidth\":2},\"yaxis\":{\"backgroundcolor\":\"#E5ECF6\",\"gridcolor\":\"white\",\"linecolor\":\"white\",\"showbackground\":true,\"ticks\":\"\",\"zerolinecolor\":\"white\",\"gridwidth\":2},\"zaxis\":{\"backgroundcolor\":\"#E5ECF6\",\"gridcolor\":\"white\",\"linecolor\":\"white\",\"showbackground\":true,\"ticks\":\"\",\"zerolinecolor\":\"white\",\"gridwidth\":2}},\"shapedefaults\":{\"line\":{\"color\":\"#2a3f5f\"}},\"annotationdefaults\":{\"arrowcolor\":\"#2a3f5f\",\"arrowhead\":0,\"arrowwidth\":1},\"geo\":{\"bgcolor\":\"white\",\"landcolor\":\"#E5ECF6\",\"subunitcolor\":\"white\",\"showland\":true,\"showlakes\":true,\"lakecolor\":\"white\"},\"title\":{\"x\":0.05},\"mapbox\":{\"style\":\"light\"}}},\"margin\":{\"t\":50,\"l\":20,\"r\":20,\"b\":20},\"xaxis\":{\"visible\":false},\"yaxis\":{\"visible\":false},\"title\":{\"text\":\"Chord Diagram (EEG Channel Correlation) - Label 0\"},\"showlegend\":false,\"plot_bgcolor\":\"white\"},                        {\"responsive\": true}                    ).then(function(){\n",
              "                            \n",
              "var gd = document.getElementById('b7a336fe-a30f-43d5-8f67-bc69cae55fab');\n",
              "var x = new MutationObserver(function (mutations, observer) {{\n",
              "        var display = window.getComputedStyle(gd).display;\n",
              "        if (!display || display === 'none') {{\n",
              "            console.log([gd, 'removed!']);\n",
              "            Plotly.purge(gd);\n",
              "            observer.disconnect();\n",
              "        }}\n",
              "}});\n",
              "\n",
              "// Listen for the removal of the full notebook cells\n",
              "var notebookContainer = gd.closest('#notebook-container');\n",
              "if (notebookContainer) {{\n",
              "    x.observe(notebookContainer, {childList: true});\n",
              "}}\n",
              "\n",
              "// Listen for the clearing of the current output cell\n",
              "var outputEl = gd.closest('.output');\n",
              "if (outputEl) {{\n",
              "    x.observe(outputEl, {childList: true});\n",
              "}}\n",
              "\n",
              "                        })                };                            </script>        </div>\n",
              "</body>\n",
              "</html>"
            ]
          },
          "metadata": {}
        },
        {
          "output_type": "stream",
          "name": "stdout",
          "text": [
            "Interactive chord diagram saved: /content/drive/MyDrive/Npy_files/eeg_figures/chord_diagrams/Chord_Diagram_Label_1.html\n"
          ]
        },
        {
          "output_type": "display_data",
          "data": {
            "text/html": [
              "<html>\n",
              "<head><meta charset=\"utf-8\" /></head>\n",
              "<body>\n",
              "    <div>            <script src=\"https://cdnjs.cloudflare.com/ajax/libs/mathjax/2.7.5/MathJax.js?config=TeX-AMS-MML_SVG\"></script><script type=\"text/javascript\">if (window.MathJax && window.MathJax.Hub && window.MathJax.Hub.Config) {window.MathJax.Hub.Config({SVG: {font: \"STIX-Web\"}});}</script>                <script type=\"text/javascript\">window.PlotlyConfig = {MathJaxConfig: 'local'};</script>\n",
              "        <script charset=\"utf-8\" src=\"https://cdn.plot.ly/plotly-2.35.2.min.js\"></script>                <div id=\"489d5906-e578-41fc-ad11-3055587b046f\" class=\"plotly-graph-div\" style=\"height:525px; width:100%;\"></div>            <script type=\"text/javascript\">                                    window.PLOTLYENV=window.PLOTLYENV || {};                                    if (document.getElementById(\"489d5906-e578-41fc-ad11-3055587b046f\")) {                    Plotly.newPlot(                        \"489d5906-e578-41fc-ad11-3055587b046f\",                        [{\"hoverinfo\":\"text\",\"line\":{\"color\":\"red\",\"width\":2},\"mode\":\"lines\",\"opacity\":0.7042446606121024,\"text\":\"Ch1 ⇄ Ch3: 0.70\",\"x\":[1.0,0.7891405093963936],\"y\":[0.0,0.6142127126896678],\"type\":\"scatter\"},{\"hoverinfo\":\"text\",\"line\":{\"color\":\"red\",\"width\":2},\"mode\":\"lines\",\"opacity\":0.7103476415318285,\"text\":\"Ch1 ⇄ Ch4: 0.71\",\"x\":[1.0,0.546948158122427],\"y\":[0.0,0.8371664782625285],\"type\":\"scatter\"},{\"hoverinfo\":\"text\",\"line\":{\"color\":\"red\",\"width\":2},\"mode\":\"lines\",\"opacity\":0.6219802875395444,\"text\":\"Ch1 ⇄ Ch5: 0.62\",\"x\":[1.0,0.24548548714079924],\"y\":[0.0,0.9694002659393304],\"type\":\"scatter\"},{\"hoverinfo\":\"text\",\"line\":{\"color\":\"red\",\"width\":2},\"mode\":\"lines\",\"opacity\":0.6796294391430868,\"text\":\"Ch1 ⇄ Ch10: 0.68\",\"x\":[1.0,-0.9863613034027223],\"y\":[0.0,0.16459459028073403],\"type\":\"scatter\"},{\"hoverinfo\":\"text\",\"line\":{\"color\":\"red\",\"width\":2},\"mode\":\"lines\",\"opacity\":0.9044079557338702,\"text\":\"Ch2 ⇄ Ch6: 0.90\",\"x\":[0.9458172417006346,-0.08257934547233227],\"y\":[0.32469946920468346,0.9965844930066698],\"type\":\"scatter\"},{\"hoverinfo\":\"text\",\"line\":{\"color\":\"red\",\"width\":2},\"mode\":\"lines\",\"opacity\":0.9162841658578947,\"text\":\"Ch2 ⇄ Ch7: 0.92\",\"x\":[0.9458172417006346,-0.40169542465296926],\"y\":[0.32469946920468346,0.9157733266550575],\"type\":\"scatter\"},{\"hoverinfo\":\"text\",\"line\":{\"color\":\"red\",\"width\":2},\"mode\":\"lines\",\"opacity\":0.6883432444166085,\"text\":\"Ch2 ⇄ Ch8: 0.69\",\"x\":[0.9458172417006346,-0.6772815716257409],\"y\":[0.32469946920468346,0.7357239106731318],\"type\":\"scatter\"},{\"hoverinfo\":\"text\",\"line\":{\"color\":\"red\",\"width\":2},\"mode\":\"lines\",\"opacity\":0.866702176008226,\"text\":\"Ch2 ⇄ Ch11: 0.87\",\"x\":[0.9458172417006346,-0.9863613034027224],\"y\":[0.32469946920468346,-0.16459459028073378],\"type\":\"scatter\"},{\"hoverinfo\":\"text\",\"line\":{\"color\":\"red\",\"width\":2},\"mode\":\"lines\",\"opacity\":0.8542204380224068,\"text\":\"Ch2 ⇄ Ch12: 0.85\",\"x\":[0.9458172417006346,-0.8794737512064891],\"y\":[0.32469946920468346,-0.4759473930370735],\"type\":\"scatter\"},{\"hoverinfo\":\"text\",\"line\":{\"color\":\"red\",\"width\":2},\"mode\":\"lines\",\"opacity\":0.7664593298814791,\"text\":\"Ch2 ⇄ Ch13: 0.77\",\"x\":[0.9458172417006346,-0.6772815716257414],\"y\":[0.32469946920468346,-0.7357239106731313],\"type\":\"scatter\"},{\"hoverinfo\":\"text\",\"line\":{\"color\":\"red\",\"width\":2},\"mode\":\"lines\",\"opacity\":0.851885277429701,\"text\":\"Ch2 ⇄ Ch16: 0.85\",\"x\":[0.9458172417006346,0.2454854871407988],\"y\":[0.32469946920468346,-0.9694002659393305],\"type\":\"scatter\"},{\"hoverinfo\":\"text\",\"line\":{\"color\":\"red\",\"width\":2},\"mode\":\"lines\",\"opacity\":0.6925692862302337,\"text\":\"Ch2 ⇄ Ch17: 0.69\",\"x\":[0.9458172417006346,0.5469481581224266],\"y\":[0.32469946920468346,-0.8371664782625288],\"type\":\"scatter\"},{\"hoverinfo\":\"text\",\"line\":{\"color\":\"red\",\"width\":2},\"mode\":\"lines\",\"opacity\":0.6316521543691087,\"text\":\"Ch2 ⇄ Ch19: 0.63\",\"x\":[0.9458172417006346,0.9458172417006346],\"y\":[0.32469946920468346,-0.32469946920468373],\"type\":\"scatter\"},{\"hoverinfo\":\"text\",\"line\":{\"color\":\"red\",\"width\":2},\"mode\":\"lines\",\"opacity\":0.8225722998897675,\"text\":\"Ch3 ⇄ Ch9: 0.82\",\"x\":[0.7891405093963936,-0.879473751206489],\"y\":[0.6142127126896678,0.4759473930370737],\"type\":\"scatter\"},{\"hoverinfo\":\"text\",\"line\":{\"color\":\"red\",\"width\":2},\"mode\":\"lines\",\"opacity\":0.7882678062506704,\"text\":\"Ch3 ⇄ Ch10: 0.79\",\"x\":[0.7891405093963936,-0.9863613034027223],\"y\":[0.6142127126896678,0.16459459028073403],\"type\":\"scatter\"},{\"hoverinfo\":\"text\",\"line\":{\"color\":\"red\",\"width\":2},\"mode\":\"lines\",\"opacity\":0.7663263474228426,\"text\":\"Ch3 ⇄ Ch15: 0.77\",\"x\":[0.7891405093963936,-0.08257934547233274],\"y\":[0.6142127126896678,-0.9965844930066698],\"type\":\"scatter\"},{\"hoverinfo\":\"text\",\"line\":{\"color\":\"blue\",\"width\":2},\"mode\":\"lines\",\"opacity\":0.7250900438117512,\"text\":\"Ch4 ⇄ Ch6: -0.73\",\"x\":[0.546948158122427,-0.08257934547233227],\"y\":[0.8371664782625285,0.9965844930066698],\"type\":\"scatter\"},{\"hoverinfo\":\"text\",\"line\":{\"color\":\"red\",\"width\":2},\"mode\":\"lines\",\"opacity\":0.7565724466416942,\"text\":\"Ch4 ⇄ Ch10: 0.76\",\"x\":[0.546948158122427,-0.9863613034027223],\"y\":[0.8371664782625285,0.16459459028073403],\"type\":\"scatter\"},{\"hoverinfo\":\"text\",\"line\":{\"color\":\"blue\",\"width\":2},\"mode\":\"lines\",\"opacity\":0.7360340629820268,\"text\":\"Ch4 ⇄ Ch11: -0.74\",\"x\":[0.546948158122427,-0.9863613034027224],\"y\":[0.8371664782625285,-0.16459459028073378],\"type\":\"scatter\"},{\"hoverinfo\":\"text\",\"line\":{\"color\":\"blue\",\"width\":2},\"mode\":\"lines\",\"opacity\":0.6223248002325,\"text\":\"Ch4 ⇄ Ch16: -0.62\",\"x\":[0.546948158122427,0.2454854871407988],\"y\":[0.8371664782625285,-0.9694002659393305],\"type\":\"scatter\"},{\"hoverinfo\":\"text\",\"line\":{\"color\":\"blue\",\"width\":2},\"mode\":\"lines\",\"opacity\":0.6008521138295737,\"text\":\"Ch4 ⇄ Ch17: -0.60\",\"x\":[0.546948158122427,0.5469481581224266],\"y\":[0.8371664782625285,-0.8371664782625288],\"type\":\"scatter\"},{\"hoverinfo\":\"text\",\"line\":{\"color\":\"red\",\"width\":2},\"mode\":\"lines\",\"opacity\":0.8398061292772606,\"text\":\"Ch6 ⇄ Ch7: 0.84\",\"x\":[-0.08257934547233227,-0.40169542465296926],\"y\":[0.9965844930066698,0.9157733266550575],\"type\":\"scatter\"},{\"hoverinfo\":\"text\",\"line\":{\"color\":\"red\",\"width\":2},\"mode\":\"lines\",\"opacity\":0.6069430533051688,\"text\":\"Ch6 ⇄ Ch8: 0.61\",\"x\":[-0.08257934547233227,-0.6772815716257409],\"y\":[0.9965844930066698,0.7357239106731318],\"type\":\"scatter\"},{\"hoverinfo\":\"text\",\"line\":{\"color\":\"red\",\"width\":2},\"mode\":\"lines\",\"opacity\":0.8933924287374639,\"text\":\"Ch6 ⇄ Ch11: 0.89\",\"x\":[-0.08257934547233227,-0.9863613034027224],\"y\":[0.9965844930066698,-0.16459459028073378],\"type\":\"scatter\"},{\"hoverinfo\":\"text\",\"line\":{\"color\":\"red\",\"width\":2},\"mode\":\"lines\",\"opacity\":0.8034694298140834,\"text\":\"Ch6 ⇄ Ch12: 0.80\",\"x\":[-0.08257934547233227,-0.8794737512064891],\"y\":[0.9965844930066698,-0.4759473930370735],\"type\":\"scatter\"},{\"hoverinfo\":\"text\",\"line\":{\"color\":\"red\",\"width\":2},\"mode\":\"lines\",\"opacity\":0.7350365032636295,\"text\":\"Ch6 ⇄ Ch13: 0.74\",\"x\":[-0.08257934547233227,-0.6772815716257414],\"y\":[0.9965844930066698,-0.7357239106731313],\"type\":\"scatter\"},{\"hoverinfo\":\"text\",\"line\":{\"color\":\"red\",\"width\":2},\"mode\":\"lines\",\"opacity\":0.8332252083255206,\"text\":\"Ch6 ⇄ Ch16: 0.83\",\"x\":[-0.08257934547233227,0.2454854871407988],\"y\":[0.9965844930066698,-0.9694002659393305],\"type\":\"scatter\"},{\"hoverinfo\":\"text\",\"line\":{\"color\":\"red\",\"width\":2},\"mode\":\"lines\",\"opacity\":0.7089044366585574,\"text\":\"Ch6 ⇄ Ch17: 0.71\",\"x\":[-0.08257934547233227,0.5469481581224266],\"y\":[0.9965844930066698,-0.8371664782625288],\"type\":\"scatter\"},{\"hoverinfo\":\"text\",\"line\":{\"color\":\"red\",\"width\":2},\"mode\":\"lines\",\"opacity\":0.6415113169751533,\"text\":\"Ch6 ⇄ Ch19: 0.64\",\"x\":[-0.08257934547233227,0.9458172417006346],\"y\":[0.9965844930066698,-0.32469946920468373],\"type\":\"scatter\"},{\"hoverinfo\":\"text\",\"line\":{\"color\":\"red\",\"width\":2},\"mode\":\"lines\",\"opacity\":0.8116247536091884,\"text\":\"Ch7 ⇄ Ch8: 0.81\",\"x\":[-0.40169542465296926,-0.6772815716257409],\"y\":[0.9157733266550575,0.7357239106731318],\"type\":\"scatter\"},{\"hoverinfo\":\"text\",\"line\":{\"color\":\"red\",\"width\":2},\"mode\":\"lines\",\"opacity\":0.8988469422532769,\"text\":\"Ch7 ⇄ Ch11: 0.90\",\"x\":[-0.40169542465296926,-0.9863613034027224],\"y\":[0.9157733266550575,-0.16459459028073378],\"type\":\"scatter\"},{\"hoverinfo\":\"text\",\"line\":{\"color\":\"red\",\"width\":2},\"mode\":\"lines\",\"opacity\":0.9264319345449039,\"text\":\"Ch7 ⇄ Ch12: 0.93\",\"x\":[-0.40169542465296926,-0.8794737512064891],\"y\":[0.9157733266550575,-0.4759473930370735],\"type\":\"scatter\"},{\"hoverinfo\":\"text\",\"line\":{\"color\":\"red\",\"width\":2},\"mode\":\"lines\",\"opacity\":0.8774982924597815,\"text\":\"Ch7 ⇄ Ch13: 0.88\",\"x\":[-0.40169542465296926,-0.6772815716257414],\"y\":[0.9157733266550575,-0.7357239106731313],\"type\":\"scatter\"},{\"hoverinfo\":\"text\",\"line\":{\"color\":\"red\",\"width\":2},\"mode\":\"lines\",\"opacity\":0.9152005699043059,\"text\":\"Ch7 ⇄ Ch16: 0.92\",\"x\":[-0.40169542465296926,0.2454854871407988],\"y\":[0.9157733266550575,-0.9694002659393305],\"type\":\"scatter\"},{\"hoverinfo\":\"text\",\"line\":{\"color\":\"red\",\"width\":2},\"mode\":\"lines\",\"opacity\":0.7161993049753616,\"text\":\"Ch7 ⇄ Ch17: 0.72\",\"x\":[-0.40169542465296926,0.5469481581224266],\"y\":[0.9157733266550575,-0.8371664782625288],\"type\":\"scatter\"},{\"hoverinfo\":\"text\",\"line\":{\"color\":\"red\",\"width\":2},\"mode\":\"lines\",\"opacity\":0.6878132509412874,\"text\":\"Ch7 ⇄ Ch19: 0.69\",\"x\":[-0.40169542465296926,0.9458172417006346],\"y\":[0.9157733266550575,-0.32469946920468373],\"type\":\"scatter\"},{\"hoverinfo\":\"text\",\"line\":{\"color\":\"red\",\"width\":2},\"mode\":\"lines\",\"opacity\":0.7600553799632371,\"text\":\"Ch8 ⇄ Ch9: 0.76\",\"x\":[-0.6772815716257409,-0.879473751206489],\"y\":[0.7357239106731318,0.4759473930370737],\"type\":\"scatter\"},{\"hoverinfo\":\"text\",\"line\":{\"color\":\"red\",\"width\":2},\"mode\":\"lines\",\"opacity\":0.7021995590641678,\"text\":\"Ch8 ⇄ Ch11: 0.70\",\"x\":[-0.6772815716257409,-0.9863613034027224],\"y\":[0.7357239106731318,-0.16459459028073378],\"type\":\"scatter\"},{\"hoverinfo\":\"text\",\"line\":{\"color\":\"red\",\"width\":2},\"mode\":\"lines\",\"opacity\":0.8408400747895552,\"text\":\"Ch8 ⇄ Ch12: 0.84\",\"x\":[-0.6772815716257409,-0.8794737512064891],\"y\":[0.7357239106731318,-0.4759473930370735],\"type\":\"scatter\"},{\"hoverinfo\":\"text\",\"line\":{\"color\":\"red\",\"width\":2},\"mode\":\"lines\",\"opacity\":0.9269347763431653,\"text\":\"Ch8 ⇄ Ch13: 0.93\",\"x\":[-0.6772815716257409,-0.6772815716257414],\"y\":[0.7357239106731318,-0.7357239106731313],\"type\":\"scatter\"},{\"hoverinfo\":\"text\",\"line\":{\"color\":\"red\",\"width\":2},\"mode\":\"lines\",\"opacity\":0.6779049791660945,\"text\":\"Ch8 ⇄ Ch14: 0.68\",\"x\":[-0.6772815716257409,-0.40169542465296987],\"y\":[0.7357239106731318,-0.9157733266550573],\"type\":\"scatter\"},{\"hoverinfo\":\"text\",\"line\":{\"color\":\"red\",\"width\":2},\"mode\":\"lines\",\"opacity\":0.7834393556544312,\"text\":\"Ch8 ⇄ Ch16: 0.78\",\"x\":[-0.6772815716257409,0.2454854871407988],\"y\":[0.7357239106731318,-0.9694002659393305],\"type\":\"scatter\"},{\"hoverinfo\":\"text\",\"line\":{\"color\":\"red\",\"width\":2},\"mode\":\"lines\",\"opacity\":0.7185285768520171,\"text\":\"Ch8 ⇄ Ch17: 0.72\",\"x\":[-0.6772815716257409,0.5469481581224266],\"y\":[0.7357239106731318,-0.8371664782625288],\"type\":\"scatter\"},{\"hoverinfo\":\"text\",\"line\":{\"color\":\"red\",\"width\":2},\"mode\":\"lines\",\"opacity\":0.7673681825363853,\"text\":\"Ch8 ⇄ Ch18: 0.77\",\"x\":[-0.6772815716257409,0.7891405093963934],\"y\":[0.7357239106731318,-0.614212712689668],\"type\":\"scatter\"},{\"hoverinfo\":\"text\",\"line\":{\"color\":\"red\",\"width\":2},\"mode\":\"lines\",\"opacity\":0.696723749641142,\"text\":\"Ch8 ⇄ Ch19: 0.70\",\"x\":[-0.6772815716257409,0.9458172417006346],\"y\":[0.7357239106731318,-0.32469946920468373],\"type\":\"scatter\"},{\"hoverinfo\":\"text\",\"line\":{\"color\":\"red\",\"width\":2},\"mode\":\"lines\",\"opacity\":0.6920794729812854,\"text\":\"Ch9 ⇄ Ch10: 0.69\",\"x\":[-0.879473751206489,-0.9863613034027223],\"y\":[0.4759473930370737,0.16459459028073403],\"type\":\"scatter\"},{\"hoverinfo\":\"text\",\"line\":{\"color\":\"red\",\"width\":2},\"mode\":\"lines\",\"opacity\":0.9239176872106777,\"text\":\"Ch9 ⇄ Ch15: 0.92\",\"x\":[-0.879473751206489,-0.08257934547233274],\"y\":[0.4759473930370737,-0.9965844930066698],\"type\":\"scatter\"},{\"hoverinfo\":\"text\",\"line\":{\"color\":\"red\",\"width\":2},\"mode\":\"lines\",\"opacity\":0.8373666052003523,\"text\":\"Ch10 ⇄ Ch15: 0.84\",\"x\":[-0.9863613034027223,-0.08257934547233274],\"y\":[0.16459459028073403,-0.9965844930066698],\"type\":\"scatter\"},{\"hoverinfo\":\"text\",\"line\":{\"color\":\"red\",\"width\":2},\"mode\":\"lines\",\"opacity\":0.8434309355765386,\"text\":\"Ch11 ⇄ Ch12: 0.84\",\"x\":[-0.9863613034027224,-0.8794737512064891],\"y\":[-0.16459459028073378,-0.4759473930370735],\"type\":\"scatter\"},{\"hoverinfo\":\"text\",\"line\":{\"color\":\"red\",\"width\":2},\"mode\":\"lines\",\"opacity\":0.8310304566212989,\"text\":\"Ch11 ⇄ Ch13: 0.83\",\"x\":[-0.9863613034027224,-0.6772815716257414],\"y\":[-0.16459459028073378,-0.7357239106731313],\"type\":\"scatter\"},{\"hoverinfo\":\"text\",\"line\":{\"color\":\"red\",\"width\":2},\"mode\":\"lines\",\"opacity\":0.9676634266356776,\"text\":\"Ch11 ⇄ Ch16: 0.97\",\"x\":[-0.9863613034027224,0.2454854871407988],\"y\":[-0.16459459028073378,-0.9694002659393305],\"type\":\"scatter\"},{\"hoverinfo\":\"text\",\"line\":{\"color\":\"red\",\"width\":2},\"mode\":\"lines\",\"opacity\":0.7709383860447063,\"text\":\"Ch11 ⇄ Ch17: 0.77\",\"x\":[-0.9863613034027224,0.5469481581224266],\"y\":[-0.16459459028073378,-0.8371664782625288],\"type\":\"scatter\"},{\"hoverinfo\":\"text\",\"line\":{\"color\":\"red\",\"width\":2},\"mode\":\"lines\",\"opacity\":0.8367183648050901,\"text\":\"Ch11 ⇄ Ch19: 0.84\",\"x\":[-0.9863613034027224,0.9458172417006346],\"y\":[-0.16459459028073378,-0.32469946920468373],\"type\":\"scatter\"},{\"hoverinfo\":\"text\",\"line\":{\"color\":\"red\",\"width\":2},\"mode\":\"lines\",\"opacity\":0.9318452748153204,\"text\":\"Ch12 ⇄ Ch13: 0.93\",\"x\":[-0.8794737512064891,-0.6772815716257414],\"y\":[-0.4759473930370735,-0.7357239106731313],\"type\":\"scatter\"},{\"hoverinfo\":\"text\",\"line\":{\"color\":\"red\",\"width\":2},\"mode\":\"lines\",\"opacity\":0.9019899101220573,\"text\":\"Ch12 ⇄ Ch16: 0.90\",\"x\":[-0.8794737512064891,0.2454854871407988],\"y\":[-0.4759473930370735,-0.9694002659393305],\"type\":\"scatter\"},{\"hoverinfo\":\"text\",\"line\":{\"color\":\"red\",\"width\":2},\"mode\":\"lines\",\"opacity\":0.8790762235046009,\"text\":\"Ch12 ⇄ Ch17: 0.88\",\"x\":[-0.8794737512064891,0.5469481581224266],\"y\":[-0.4759473930370735,-0.8371664782625288],\"type\":\"scatter\"},{\"hoverinfo\":\"text\",\"line\":{\"color\":\"red\",\"width\":2},\"mode\":\"lines\",\"opacity\":0.683629105369414,\"text\":\"Ch12 ⇄ Ch18: 0.68\",\"x\":[-0.8794737512064891,0.7891405093963934],\"y\":[-0.4759473930370735,-0.614212712689668],\"type\":\"scatter\"},{\"hoverinfo\":\"text\",\"line\":{\"color\":\"red\",\"width\":2},\"mode\":\"lines\",\"opacity\":0.7697244547715267,\"text\":\"Ch12 ⇄ Ch19: 0.77\",\"x\":[-0.8794737512064891,0.9458172417006346],\"y\":[-0.4759473930370735,-0.32469946920468373],\"type\":\"scatter\"},{\"hoverinfo\":\"text\",\"line\":{\"color\":\"red\",\"width\":2},\"mode\":\"lines\",\"opacity\":0.8755984575703554,\"text\":\"Ch13 ⇄ Ch16: 0.88\",\"x\":[-0.6772815716257414,0.2454854871407988],\"y\":[-0.7357239106731313,-0.9694002659393305],\"type\":\"scatter\"},{\"hoverinfo\":\"text\",\"line\":{\"color\":\"red\",\"width\":2},\"mode\":\"lines\",\"opacity\":0.870236907597809,\"text\":\"Ch13 ⇄ Ch17: 0.87\",\"x\":[-0.6772815716257414,0.5469481581224266],\"y\":[-0.7357239106731313,-0.8371664782625288],\"type\":\"scatter\"},{\"hoverinfo\":\"text\",\"line\":{\"color\":\"red\",\"width\":2},\"mode\":\"lines\",\"opacity\":0.7418763722180216,\"text\":\"Ch13 ⇄ Ch18: 0.74\",\"x\":[-0.6772815716257414,0.7891405093963934],\"y\":[-0.7357239106731313,-0.614212712689668],\"type\":\"scatter\"},{\"hoverinfo\":\"text\",\"line\":{\"color\":\"red\",\"width\":2},\"mode\":\"lines\",\"opacity\":0.8061591809779747,\"text\":\"Ch13 ⇄ Ch19: 0.81\",\"x\":[-0.6772815716257414,0.9458172417006346],\"y\":[-0.7357239106731313,-0.32469946920468373],\"type\":\"scatter\"},{\"hoverinfo\":\"text\",\"line\":{\"color\":\"red\",\"width\":2},\"mode\":\"lines\",\"opacity\":0.8907330379920031,\"text\":\"Ch14 ⇄ Ch18: 0.89\",\"x\":[-0.40169542465296987,0.7891405093963934],\"y\":[-0.9157733266550573,-0.614212712689668],\"type\":\"scatter\"},{\"hoverinfo\":\"text\",\"line\":{\"color\":\"red\",\"width\":2},\"mode\":\"lines\",\"opacity\":0.813453718515867,\"text\":\"Ch16 ⇄ Ch17: 0.81\",\"x\":[0.2454854871407988,0.5469481581224266],\"y\":[-0.9694002659393305,-0.8371664782625288],\"type\":\"scatter\"},{\"hoverinfo\":\"text\",\"line\":{\"color\":\"red\",\"width\":2},\"mode\":\"lines\",\"opacity\":0.6476597936116921,\"text\":\"Ch16 ⇄ Ch18: 0.65\",\"x\":[0.2454854871407988,0.7891405093963934],\"y\":[-0.9694002659393305,-0.614212712689668],\"type\":\"scatter\"},{\"hoverinfo\":\"text\",\"line\":{\"color\":\"red\",\"width\":2},\"mode\":\"lines\",\"opacity\":0.8882249934224523,\"text\":\"Ch16 ⇄ Ch19: 0.89\",\"x\":[0.2454854871407988,0.9458172417006346],\"y\":[-0.9694002659393305,-0.32469946920468373],\"type\":\"scatter\"},{\"hoverinfo\":\"text\",\"line\":{\"color\":\"red\",\"width\":2},\"mode\":\"lines\",\"opacity\":0.7492663548679594,\"text\":\"Ch17 ⇄ Ch18: 0.75\",\"x\":[0.5469481581224266,0.7891405093963934],\"y\":[-0.8371664782625288,-0.614212712689668],\"type\":\"scatter\"},{\"hoverinfo\":\"text\",\"line\":{\"color\":\"red\",\"width\":2},\"mode\":\"lines\",\"opacity\":0.8621362153602784,\"text\":\"Ch17 ⇄ Ch19: 0.86\",\"x\":[0.5469481581224266,0.9458172417006346],\"y\":[-0.8371664782625288,-0.32469946920468373],\"type\":\"scatter\"},{\"hoverinfo\":\"text\",\"line\":{\"color\":\"red\",\"width\":2},\"mode\":\"lines\",\"opacity\":0.7871557296437703,\"text\":\"Ch18 ⇄ Ch19: 0.79\",\"x\":[0.7891405093963934,0.9458172417006346],\"y\":[-0.614212712689668,-0.32469946920468373],\"type\":\"scatter\"},{\"hoverinfo\":\"text\",\"marker\":{\"color\":\"lightgreen\",\"size\":20},\"mode\":\"markers+text\",\"text\":[\"Ch1\",\"Ch2\",\"Ch3\",\"Ch4\",\"Ch5\",\"Ch6\",\"Ch7\",\"Ch8\",\"Ch9\",\"Ch10\",\"Ch11\",\"Ch12\",\"Ch13\",\"Ch14\",\"Ch15\",\"Ch16\",\"Ch17\",\"Ch18\",\"Ch19\"],\"textposition\":\"top center\",\"x\":[1.0,0.9458172417006346,0.7891405093963936,0.546948158122427,0.24548548714079924,-0.08257934547233227,-0.40169542465296926,-0.6772815716257409,-0.879473751206489,-0.9863613034027223,-0.9863613034027224,-0.8794737512064891,-0.6772815716257414,-0.40169542465296987,-0.08257934547233274,0.2454854871407988,0.5469481581224266,0.7891405093963934,0.9458172417006346],\"y\":[0.0,0.32469946920468346,0.6142127126896678,0.8371664782625285,0.9694002659393304,0.9965844930066698,0.9157733266550575,0.7357239106731318,0.4759473930370737,0.16459459028073403,-0.16459459028073378,-0.4759473930370735,-0.7357239106731313,-0.9157733266550573,-0.9965844930066698,-0.9694002659393305,-0.8371664782625288,-0.614212712689668,-0.32469946920468373],\"type\":\"scatter\"}],                        {\"template\":{\"data\":{\"histogram2dcontour\":[{\"type\":\"histogram2dcontour\",\"colorbar\":{\"outlinewidth\":0,\"ticks\":\"\"},\"colorscale\":[[0.0,\"#0d0887\"],[0.1111111111111111,\"#46039f\"],[0.2222222222222222,\"#7201a8\"],[0.3333333333333333,\"#9c179e\"],[0.4444444444444444,\"#bd3786\"],[0.5555555555555556,\"#d8576b\"],[0.6666666666666666,\"#ed7953\"],[0.7777777777777778,\"#fb9f3a\"],[0.8888888888888888,\"#fdca26\"],[1.0,\"#f0f921\"]]}],\"choropleth\":[{\"type\":\"choropleth\",\"colorbar\":{\"outlinewidth\":0,\"ticks\":\"\"}}],\"histogram2d\":[{\"type\":\"histogram2d\",\"colorbar\":{\"outlinewidth\":0,\"ticks\":\"\"},\"colorscale\":[[0.0,\"#0d0887\"],[0.1111111111111111,\"#46039f\"],[0.2222222222222222,\"#7201a8\"],[0.3333333333333333,\"#9c179e\"],[0.4444444444444444,\"#bd3786\"],[0.5555555555555556,\"#d8576b\"],[0.6666666666666666,\"#ed7953\"],[0.7777777777777778,\"#fb9f3a\"],[0.8888888888888888,\"#fdca26\"],[1.0,\"#f0f921\"]]}],\"heatmap\":[{\"type\":\"heatmap\",\"colorbar\":{\"outlinewidth\":0,\"ticks\":\"\"},\"colorscale\":[[0.0,\"#0d0887\"],[0.1111111111111111,\"#46039f\"],[0.2222222222222222,\"#7201a8\"],[0.3333333333333333,\"#9c179e\"],[0.4444444444444444,\"#bd3786\"],[0.5555555555555556,\"#d8576b\"],[0.6666666666666666,\"#ed7953\"],[0.7777777777777778,\"#fb9f3a\"],[0.8888888888888888,\"#fdca26\"],[1.0,\"#f0f921\"]]}],\"heatmapgl\":[{\"type\":\"heatmapgl\",\"colorbar\":{\"outlinewidth\":0,\"ticks\":\"\"},\"colorscale\":[[0.0,\"#0d0887\"],[0.1111111111111111,\"#46039f\"],[0.2222222222222222,\"#7201a8\"],[0.3333333333333333,\"#9c179e\"],[0.4444444444444444,\"#bd3786\"],[0.5555555555555556,\"#d8576b\"],[0.6666666666666666,\"#ed7953\"],[0.7777777777777778,\"#fb9f3a\"],[0.8888888888888888,\"#fdca26\"],[1.0,\"#f0f921\"]]}],\"contourcarpet\":[{\"type\":\"contourcarpet\",\"colorbar\":{\"outlinewidth\":0,\"ticks\":\"\"}}],\"contour\":[{\"type\":\"contour\",\"colorbar\":{\"outlinewidth\":0,\"ticks\":\"\"},\"colorscale\":[[0.0,\"#0d0887\"],[0.1111111111111111,\"#46039f\"],[0.2222222222222222,\"#7201a8\"],[0.3333333333333333,\"#9c179e\"],[0.4444444444444444,\"#bd3786\"],[0.5555555555555556,\"#d8576b\"],[0.6666666666666666,\"#ed7953\"],[0.7777777777777778,\"#fb9f3a\"],[0.8888888888888888,\"#fdca26\"],[1.0,\"#f0f921\"]]}],\"surface\":[{\"type\":\"surface\",\"colorbar\":{\"outlinewidth\":0,\"ticks\":\"\"},\"colorscale\":[[0.0,\"#0d0887\"],[0.1111111111111111,\"#46039f\"],[0.2222222222222222,\"#7201a8\"],[0.3333333333333333,\"#9c179e\"],[0.4444444444444444,\"#bd3786\"],[0.5555555555555556,\"#d8576b\"],[0.6666666666666666,\"#ed7953\"],[0.7777777777777778,\"#fb9f3a\"],[0.8888888888888888,\"#fdca26\"],[1.0,\"#f0f921\"]]}],\"mesh3d\":[{\"type\":\"mesh3d\",\"colorbar\":{\"outlinewidth\":0,\"ticks\":\"\"}}],\"scatter\":[{\"fillpattern\":{\"fillmode\":\"overlay\",\"size\":10,\"solidity\":0.2},\"type\":\"scatter\"}],\"parcoords\":[{\"type\":\"parcoords\",\"line\":{\"colorbar\":{\"outlinewidth\":0,\"ticks\":\"\"}}}],\"scatterpolargl\":[{\"type\":\"scatterpolargl\",\"marker\":{\"colorbar\":{\"outlinewidth\":0,\"ticks\":\"\"}}}],\"bar\":[{\"error_x\":{\"color\":\"#2a3f5f\"},\"error_y\":{\"color\":\"#2a3f5f\"},\"marker\":{\"line\":{\"color\":\"#E5ECF6\",\"width\":0.5},\"pattern\":{\"fillmode\":\"overlay\",\"size\":10,\"solidity\":0.2}},\"type\":\"bar\"}],\"scattergeo\":[{\"type\":\"scattergeo\",\"marker\":{\"colorbar\":{\"outlinewidth\":0,\"ticks\":\"\"}}}],\"scatterpolar\":[{\"type\":\"scatterpolar\",\"marker\":{\"colorbar\":{\"outlinewidth\":0,\"ticks\":\"\"}}}],\"histogram\":[{\"marker\":{\"pattern\":{\"fillmode\":\"overlay\",\"size\":10,\"solidity\":0.2}},\"type\":\"histogram\"}],\"scattergl\":[{\"type\":\"scattergl\",\"marker\":{\"colorbar\":{\"outlinewidth\":0,\"ticks\":\"\"}}}],\"scatter3d\":[{\"type\":\"scatter3d\",\"line\":{\"colorbar\":{\"outlinewidth\":0,\"ticks\":\"\"}},\"marker\":{\"colorbar\":{\"outlinewidth\":0,\"ticks\":\"\"}}}],\"scattermapbox\":[{\"type\":\"scattermapbox\",\"marker\":{\"colorbar\":{\"outlinewidth\":0,\"ticks\":\"\"}}}],\"scatterternary\":[{\"type\":\"scatterternary\",\"marker\":{\"colorbar\":{\"outlinewidth\":0,\"ticks\":\"\"}}}],\"scattercarpet\":[{\"type\":\"scattercarpet\",\"marker\":{\"colorbar\":{\"outlinewidth\":0,\"ticks\":\"\"}}}],\"carpet\":[{\"aaxis\":{\"endlinecolor\":\"#2a3f5f\",\"gridcolor\":\"white\",\"linecolor\":\"white\",\"minorgridcolor\":\"white\",\"startlinecolor\":\"#2a3f5f\"},\"baxis\":{\"endlinecolor\":\"#2a3f5f\",\"gridcolor\":\"white\",\"linecolor\":\"white\",\"minorgridcolor\":\"white\",\"startlinecolor\":\"#2a3f5f\"},\"type\":\"carpet\"}],\"table\":[{\"cells\":{\"fill\":{\"color\":\"#EBF0F8\"},\"line\":{\"color\":\"white\"}},\"header\":{\"fill\":{\"color\":\"#C8D4E3\"},\"line\":{\"color\":\"white\"}},\"type\":\"table\"}],\"barpolar\":[{\"marker\":{\"line\":{\"color\":\"#E5ECF6\",\"width\":0.5},\"pattern\":{\"fillmode\":\"overlay\",\"size\":10,\"solidity\":0.2}},\"type\":\"barpolar\"}],\"pie\":[{\"automargin\":true,\"type\":\"pie\"}]},\"layout\":{\"autotypenumbers\":\"strict\",\"colorway\":[\"#636efa\",\"#EF553B\",\"#00cc96\",\"#ab63fa\",\"#FFA15A\",\"#19d3f3\",\"#FF6692\",\"#B6E880\",\"#FF97FF\",\"#FECB52\"],\"font\":{\"color\":\"#2a3f5f\"},\"hovermode\":\"closest\",\"hoverlabel\":{\"align\":\"left\"},\"paper_bgcolor\":\"white\",\"plot_bgcolor\":\"#E5ECF6\",\"polar\":{\"bgcolor\":\"#E5ECF6\",\"angularaxis\":{\"gridcolor\":\"white\",\"linecolor\":\"white\",\"ticks\":\"\"},\"radialaxis\":{\"gridcolor\":\"white\",\"linecolor\":\"white\",\"ticks\":\"\"}},\"ternary\":{\"bgcolor\":\"#E5ECF6\",\"aaxis\":{\"gridcolor\":\"white\",\"linecolor\":\"white\",\"ticks\":\"\"},\"baxis\":{\"gridcolor\":\"white\",\"linecolor\":\"white\",\"ticks\":\"\"},\"caxis\":{\"gridcolor\":\"white\",\"linecolor\":\"white\",\"ticks\":\"\"}},\"coloraxis\":{\"colorbar\":{\"outlinewidth\":0,\"ticks\":\"\"}},\"colorscale\":{\"sequential\":[[0.0,\"#0d0887\"],[0.1111111111111111,\"#46039f\"],[0.2222222222222222,\"#7201a8\"],[0.3333333333333333,\"#9c179e\"],[0.4444444444444444,\"#bd3786\"],[0.5555555555555556,\"#d8576b\"],[0.6666666666666666,\"#ed7953\"],[0.7777777777777778,\"#fb9f3a\"],[0.8888888888888888,\"#fdca26\"],[1.0,\"#f0f921\"]],\"sequentialminus\":[[0.0,\"#0d0887\"],[0.1111111111111111,\"#46039f\"],[0.2222222222222222,\"#7201a8\"],[0.3333333333333333,\"#9c179e\"],[0.4444444444444444,\"#bd3786\"],[0.5555555555555556,\"#d8576b\"],[0.6666666666666666,\"#ed7953\"],[0.7777777777777778,\"#fb9f3a\"],[0.8888888888888888,\"#fdca26\"],[1.0,\"#f0f921\"]],\"diverging\":[[0,\"#8e0152\"],[0.1,\"#c51b7d\"],[0.2,\"#de77ae\"],[0.3,\"#f1b6da\"],[0.4,\"#fde0ef\"],[0.5,\"#f7f7f7\"],[0.6,\"#e6f5d0\"],[0.7,\"#b8e186\"],[0.8,\"#7fbc41\"],[0.9,\"#4d9221\"],[1,\"#276419\"]]},\"xaxis\":{\"gridcolor\":\"white\",\"linecolor\":\"white\",\"ticks\":\"\",\"title\":{\"standoff\":15},\"zerolinecolor\":\"white\",\"automargin\":true,\"zerolinewidth\":2},\"yaxis\":{\"gridcolor\":\"white\",\"linecolor\":\"white\",\"ticks\":\"\",\"title\":{\"standoff\":15},\"zerolinecolor\":\"white\",\"automargin\":true,\"zerolinewidth\":2},\"scene\":{\"xaxis\":{\"backgroundcolor\":\"#E5ECF6\",\"gridcolor\":\"white\",\"linecolor\":\"white\",\"showbackground\":true,\"ticks\":\"\",\"zerolinecolor\":\"white\",\"gridwidth\":2},\"yaxis\":{\"backgroundcolor\":\"#E5ECF6\",\"gridcolor\":\"white\",\"linecolor\":\"white\",\"showbackground\":true,\"ticks\":\"\",\"zerolinecolor\":\"white\",\"gridwidth\":2},\"zaxis\":{\"backgroundcolor\":\"#E5ECF6\",\"gridcolor\":\"white\",\"linecolor\":\"white\",\"showbackground\":true,\"ticks\":\"\",\"zerolinecolor\":\"white\",\"gridwidth\":2}},\"shapedefaults\":{\"line\":{\"color\":\"#2a3f5f\"}},\"annotationdefaults\":{\"arrowcolor\":\"#2a3f5f\",\"arrowhead\":0,\"arrowwidth\":1},\"geo\":{\"bgcolor\":\"white\",\"landcolor\":\"#E5ECF6\",\"subunitcolor\":\"white\",\"showland\":true,\"showlakes\":true,\"lakecolor\":\"white\"},\"title\":{\"x\":0.05},\"mapbox\":{\"style\":\"light\"}}},\"margin\":{\"t\":50,\"l\":20,\"r\":20,\"b\":20},\"xaxis\":{\"visible\":false},\"yaxis\":{\"visible\":false},\"title\":{\"text\":\"Chord Diagram (EEG Channel Correlation) - Label 1\"},\"showlegend\":false,\"plot_bgcolor\":\"white\"},                        {\"responsive\": true}                    ).then(function(){\n",
              "                            \n",
              "var gd = document.getElementById('489d5906-e578-41fc-ad11-3055587b046f');\n",
              "var x = new MutationObserver(function (mutations, observer) {{\n",
              "        var display = window.getComputedStyle(gd).display;\n",
              "        if (!display || display === 'none') {{\n",
              "            console.log([gd, 'removed!']);\n",
              "            Plotly.purge(gd);\n",
              "            observer.disconnect();\n",
              "        }}\n",
              "}});\n",
              "\n",
              "// Listen for the removal of the full notebook cells\n",
              "var notebookContainer = gd.closest('#notebook-container');\n",
              "if (notebookContainer) {{\n",
              "    x.observe(notebookContainer, {childList: true});\n",
              "}}\n",
              "\n",
              "// Listen for the clearing of the current output cell\n",
              "var outputEl = gd.closest('.output');\n",
              "if (outputEl) {{\n",
              "    x.observe(outputEl, {childList: true});\n",
              "}}\n",
              "\n",
              "                        })                };                            </script>        </div>\n",
              "</body>\n",
              "</html>"
            ]
          },
          "metadata": {}
        },
        {
          "output_type": "stream",
          "name": "stdout",
          "text": [
            "Interactive chord diagram saved: /content/drive/MyDrive/Npy_files/eeg_figures/chord_diagrams/Chord_Diagram_Label_2.html\n"
          ]
        },
        {
          "output_type": "display_data",
          "data": {
            "text/html": [
              "<html>\n",
              "<head><meta charset=\"utf-8\" /></head>\n",
              "<body>\n",
              "    <div>            <script src=\"https://cdnjs.cloudflare.com/ajax/libs/mathjax/2.7.5/MathJax.js?config=TeX-AMS-MML_SVG\"></script><script type=\"text/javascript\">if (window.MathJax && window.MathJax.Hub && window.MathJax.Hub.Config) {window.MathJax.Hub.Config({SVG: {font: \"STIX-Web\"}});}</script>                <script type=\"text/javascript\">window.PlotlyConfig = {MathJaxConfig: 'local'};</script>\n",
              "        <script charset=\"utf-8\" src=\"https://cdn.plot.ly/plotly-2.35.2.min.js\"></script>                <div id=\"748a8851-af28-49ab-b4f7-38dda3c78ed8\" class=\"plotly-graph-div\" style=\"height:525px; width:100%;\"></div>            <script type=\"text/javascript\">                                    window.PLOTLYENV=window.PLOTLYENV || {};                                    if (document.getElementById(\"748a8851-af28-49ab-b4f7-38dda3c78ed8\")) {                    Plotly.newPlot(                        \"748a8851-af28-49ab-b4f7-38dda3c78ed8\",                        [{\"hoverinfo\":\"text\",\"line\":{\"color\":\"red\",\"width\":2},\"mode\":\"lines\",\"opacity\":0.8548336736313248,\"text\":\"Ch1 ⇄ Ch2: 0.85\",\"x\":[1.0,0.9458172417006346],\"y\":[0.0,0.32469946920468346],\"type\":\"scatter\"},{\"hoverinfo\":\"text\",\"line\":{\"color\":\"red\",\"width\":2},\"mode\":\"lines\",\"opacity\":0.6906429735303272,\"text\":\"Ch1 ⇄ Ch3: 0.69\",\"x\":[1.0,0.7891405093963936],\"y\":[0.0,0.6142127126896678],\"type\":\"scatter\"},{\"hoverinfo\":\"text\",\"line\":{\"color\":\"red\",\"width\":2},\"mode\":\"lines\",\"opacity\":0.6187509297056438,\"text\":\"Ch1 ⇄ Ch5: 0.62\",\"x\":[1.0,0.24548548714079924],\"y\":[0.0,0.9694002659393304],\"type\":\"scatter\"},{\"hoverinfo\":\"text\",\"line\":{\"color\":\"red\",\"width\":2},\"mode\":\"lines\",\"opacity\":0.6659758505928851,\"text\":\"Ch1 ⇄ Ch7: 0.67\",\"x\":[1.0,-0.40169542465296926],\"y\":[0.0,0.9157733266550575],\"type\":\"scatter\"},{\"hoverinfo\":\"text\",\"line\":{\"color\":\"red\",\"width\":2},\"mode\":\"lines\",\"opacity\":0.6822820714751143,\"text\":\"Ch1 ⇄ Ch8: 0.68\",\"x\":[1.0,-0.6772815716257409],\"y\":[0.0,0.7357239106731318],\"type\":\"scatter\"},{\"hoverinfo\":\"text\",\"line\":{\"color\":\"red\",\"width\":2},\"mode\":\"lines\",\"opacity\":0.6808803998248587,\"text\":\"Ch1 ⇄ Ch9: 0.68\",\"x\":[1.0,-0.879473751206489],\"y\":[0.0,0.4759473930370737],\"type\":\"scatter\"},{\"hoverinfo\":\"text\",\"line\":{\"color\":\"red\",\"width\":2},\"mode\":\"lines\",\"opacity\":0.6831100419351831,\"text\":\"Ch2 ⇄ Ch5: 0.68\",\"x\":[0.9458172417006346,0.24548548714079924],\"y\":[0.32469946920468346,0.9694002659393304],\"type\":\"scatter\"},{\"hoverinfo\":\"text\",\"line\":{\"color\":\"red\",\"width\":2},\"mode\":\"lines\",\"opacity\":0.8198420681849192,\"text\":\"Ch2 ⇄ Ch6: 0.82\",\"x\":[0.9458172417006346,-0.08257934547233227],\"y\":[0.32469946920468346,0.9965844930066698],\"type\":\"scatter\"},{\"hoverinfo\":\"text\",\"line\":{\"color\":\"red\",\"width\":2},\"mode\":\"lines\",\"opacity\":0.8805757956067526,\"text\":\"Ch2 ⇄ Ch7: 0.88\",\"x\":[0.9458172417006346,-0.40169542465296926],\"y\":[0.32469946920468346,0.9157733266550575],\"type\":\"scatter\"},{\"hoverinfo\":\"text\",\"line\":{\"color\":\"red\",\"width\":2},\"mode\":\"lines\",\"opacity\":0.7218485422998113,\"text\":\"Ch2 ⇄ Ch8: 0.72\",\"x\":[0.9458172417006346,-0.6772815716257409],\"y\":[0.32469946920468346,0.7357239106731318],\"type\":\"scatter\"},{\"hoverinfo\":\"text\",\"line\":{\"color\":\"red\",\"width\":2},\"mode\":\"lines\",\"opacity\":0.7708476686819414,\"text\":\"Ch2 ⇄ Ch12: 0.77\",\"x\":[0.9458172417006346,-0.8794737512064891],\"y\":[0.32469946920468346,-0.4759473930370735],\"type\":\"scatter\"},{\"hoverinfo\":\"text\",\"line\":{\"color\":\"red\",\"width\":2},\"mode\":\"lines\",\"opacity\":0.6102255647805986,\"text\":\"Ch2 ⇄ Ch17: 0.61\",\"x\":[0.9458172417006346,0.5469481581224266],\"y\":[0.32469946920468346,-0.8371664782625288],\"type\":\"scatter\"},{\"hoverinfo\":\"text\",\"line\":{\"color\":\"red\",\"width\":2},\"mode\":\"lines\",\"opacity\":0.7740444067140217,\"text\":\"Ch3 ⇄ Ch4: 0.77\",\"x\":[0.7891405093963936,0.546948158122427],\"y\":[0.6142127126896678,0.8371664782625285],\"type\":\"scatter\"},{\"hoverinfo\":\"text\",\"line\":{\"color\":\"red\",\"width\":2},\"mode\":\"lines\",\"opacity\":0.641984382363706,\"text\":\"Ch3 ⇄ Ch8: 0.64\",\"x\":[0.7891405093963936,-0.6772815716257409],\"y\":[0.6142127126896678,0.7357239106731318],\"type\":\"scatter\"},{\"hoverinfo\":\"text\",\"line\":{\"color\":\"red\",\"width\":2},\"mode\":\"lines\",\"opacity\":0.8131632226179595,\"text\":\"Ch3 ⇄ Ch9: 0.81\",\"x\":[0.7891405093963936,-0.879473751206489],\"y\":[0.6142127126896678,0.4759473930370737],\"type\":\"scatter\"},{\"hoverinfo\":\"text\",\"line\":{\"color\":\"red\",\"width\":2},\"mode\":\"lines\",\"opacity\":0.8561940017803138,\"text\":\"Ch5 ⇄ Ch6: 0.86\",\"x\":[0.24548548714079924,-0.08257934547233227],\"y\":[0.9694002659393304,0.9965844930066698],\"type\":\"scatter\"},{\"hoverinfo\":\"text\",\"line\":{\"color\":\"red\",\"width\":2},\"mode\":\"lines\",\"opacity\":0.7219657662597143,\"text\":\"Ch5 ⇄ Ch7: 0.72\",\"x\":[0.24548548714079924,-0.40169542465296926],\"y\":[0.9694002659393304,0.9157733266550575],\"type\":\"scatter\"},{\"hoverinfo\":\"text\",\"line\":{\"color\":\"red\",\"width\":2},\"mode\":\"lines\",\"opacity\":0.6679429185383369,\"text\":\"Ch5 ⇄ Ch11: 0.67\",\"x\":[0.24548548714079924,-0.9863613034027224],\"y\":[0.9694002659393304,-0.16459459028073378],\"type\":\"scatter\"},{\"hoverinfo\":\"text\",\"line\":{\"color\":\"red\",\"width\":2},\"mode\":\"lines\",\"opacity\":0.6414158155613656,\"text\":\"Ch5 ⇄ Ch12: 0.64\",\"x\":[0.24548548714079924,-0.8794737512064891],\"y\":[0.9694002659393304,-0.4759473930370735],\"type\":\"scatter\"},{\"hoverinfo\":\"text\",\"line\":{\"color\":\"red\",\"width\":2},\"mode\":\"lines\",\"opacity\":0.9458723963757952,\"text\":\"Ch6 ⇄ Ch7: 0.95\",\"x\":[-0.08257934547233227,-0.40169542465296926],\"y\":[0.9965844930066698,0.9157733266550575],\"type\":\"scatter\"},{\"hoverinfo\":\"text\",\"line\":{\"color\":\"red\",\"width\":2},\"mode\":\"lines\",\"opacity\":0.7284441006035598,\"text\":\"Ch6 ⇄ Ch8: 0.73\",\"x\":[-0.08257934547233227,-0.6772815716257409],\"y\":[0.9965844930066698,0.7357239106731318],\"type\":\"scatter\"},{\"hoverinfo\":\"text\",\"line\":{\"color\":\"red\",\"width\":2},\"mode\":\"lines\",\"opacity\":0.8985602991529981,\"text\":\"Ch6 ⇄ Ch11: 0.90\",\"x\":[-0.08257934547233227,-0.9863613034027224],\"y\":[0.9965844930066698,-0.16459459028073378],\"type\":\"scatter\"},{\"hoverinfo\":\"text\",\"line\":{\"color\":\"red\",\"width\":2},\"mode\":\"lines\",\"opacity\":0.9004893966510226,\"text\":\"Ch6 ⇄ Ch12: 0.90\",\"x\":[-0.08257934547233227,-0.8794737512064891],\"y\":[0.9965844930066698,-0.4759473930370735],\"type\":\"scatter\"},{\"hoverinfo\":\"text\",\"line\":{\"color\":\"red\",\"width\":2},\"mode\":\"lines\",\"opacity\":0.6313773881440564,\"text\":\"Ch6 ⇄ Ch13: 0.63\",\"x\":[-0.08257934547233227,-0.6772815716257414],\"y\":[0.9965844930066698,-0.7357239106731313],\"type\":\"scatter\"},{\"hoverinfo\":\"text\",\"line\":{\"color\":\"red\",\"width\":2},\"mode\":\"lines\",\"opacity\":0.6285824652003807,\"text\":\"Ch6 ⇄ Ch16: 0.63\",\"x\":[-0.08257934547233227,0.2454854871407988],\"y\":[0.9965844930066698,-0.9694002659393305],\"type\":\"scatter\"},{\"hoverinfo\":\"text\",\"line\":{\"color\":\"red\",\"width\":2},\"mode\":\"lines\",\"opacity\":0.7747374463467385,\"text\":\"Ch6 ⇄ Ch17: 0.77\",\"x\":[-0.08257934547233227,0.5469481581224266],\"y\":[0.9965844930066698,-0.8371664782625288],\"type\":\"scatter\"},{\"hoverinfo\":\"text\",\"line\":{\"color\":\"red\",\"width\":2},\"mode\":\"lines\",\"opacity\":0.7091910655931901,\"text\":\"Ch6 ⇄ Ch19: 0.71\",\"x\":[-0.08257934547233227,0.9458172417006346],\"y\":[0.9965844930066698,-0.32469946920468373],\"type\":\"scatter\"},{\"hoverinfo\":\"text\",\"line\":{\"color\":\"red\",\"width\":2},\"mode\":\"lines\",\"opacity\":0.8418118136250028,\"text\":\"Ch7 ⇄ Ch8: 0.84\",\"x\":[-0.40169542465296926,-0.6772815716257409],\"y\":[0.9157733266550575,0.7357239106731318],\"type\":\"scatter\"},{\"hoverinfo\":\"text\",\"line\":{\"color\":\"red\",\"width\":2},\"mode\":\"lines\",\"opacity\":0.6088168774652496,\"text\":\"Ch7 ⇄ Ch9: 0.61\",\"x\":[-0.40169542465296926,-0.879473751206489],\"y\":[0.9157733266550575,0.4759473930370737],\"type\":\"scatter\"},{\"hoverinfo\":\"text\",\"line\":{\"color\":\"red\",\"width\":2},\"mode\":\"lines\",\"opacity\":0.8414471329510627,\"text\":\"Ch7 ⇄ Ch11: 0.84\",\"x\":[-0.40169542465296926,-0.9863613034027224],\"y\":[0.9157733266550575,-0.16459459028073378],\"type\":\"scatter\"},{\"hoverinfo\":\"text\",\"line\":{\"color\":\"red\",\"width\":2},\"mode\":\"lines\",\"opacity\":0.9562714986177404,\"text\":\"Ch7 ⇄ Ch12: 0.96\",\"x\":[-0.40169542465296926,-0.8794737512064891],\"y\":[0.9157733266550575,-0.4759473930370735],\"type\":\"scatter\"},{\"hoverinfo\":\"text\",\"line\":{\"color\":\"red\",\"width\":2},\"mode\":\"lines\",\"opacity\":0.6636563209406375,\"text\":\"Ch7 ⇄ Ch13: 0.66\",\"x\":[-0.40169542465296926,-0.6772815716257414],\"y\":[0.9157733266550575,-0.7357239106731313],\"type\":\"scatter\"},{\"hoverinfo\":\"text\",\"line\":{\"color\":\"red\",\"width\":2},\"mode\":\"lines\",\"opacity\":0.6458607809798441,\"text\":\"Ch7 ⇄ Ch16: 0.65\",\"x\":[-0.40169542465296926,0.2454854871407988],\"y\":[0.9157733266550575,-0.9694002659393305],\"type\":\"scatter\"},{\"hoverinfo\":\"text\",\"line\":{\"color\":\"red\",\"width\":2},\"mode\":\"lines\",\"opacity\":0.8373972040480905,\"text\":\"Ch7 ⇄ Ch17: 0.84\",\"x\":[-0.40169542465296926,0.5469481581224266],\"y\":[0.9157733266550575,-0.8371664782625288],\"type\":\"scatter\"},{\"hoverinfo\":\"text\",\"line\":{\"color\":\"red\",\"width\":2},\"mode\":\"lines\",\"opacity\":0.6003331503844995,\"text\":\"Ch7 ⇄ Ch18: 0.60\",\"x\":[-0.40169542465296926,0.7891405093963934],\"y\":[0.9157733266550575,-0.614212712689668],\"type\":\"scatter\"},{\"hoverinfo\":\"text\",\"line\":{\"color\":\"red\",\"width\":2},\"mode\":\"lines\",\"opacity\":0.7684386137622841,\"text\":\"Ch7 ⇄ Ch19: 0.77\",\"x\":[-0.40169542465296926,0.9458172417006346],\"y\":[0.9157733266550575,-0.32469946920468373],\"type\":\"scatter\"},{\"hoverinfo\":\"text\",\"line\":{\"color\":\"red\",\"width\":2},\"mode\":\"lines\",\"opacity\":0.867398442641797,\"text\":\"Ch8 ⇄ Ch9: 0.87\",\"x\":[-0.6772815716257409,-0.879473751206489],\"y\":[0.7357239106731318,0.4759473930370737],\"type\":\"scatter\"},{\"hoverinfo\":\"text\",\"line\":{\"color\":\"red\",\"width\":2},\"mode\":\"lines\",\"opacity\":0.6996126811976979,\"text\":\"Ch8 ⇄ Ch11: 0.70\",\"x\":[-0.6772815716257409,-0.9863613034027224],\"y\":[0.7357239106731318,-0.16459459028073378],\"type\":\"scatter\"},{\"hoverinfo\":\"text\",\"line\":{\"color\":\"red\",\"width\":2},\"mode\":\"lines\",\"opacity\":0.8867204995297705,\"text\":\"Ch8 ⇄ Ch12: 0.89\",\"x\":[-0.6772815716257409,-0.8794737512064891],\"y\":[0.7357239106731318,-0.4759473930370735],\"type\":\"scatter\"},{\"hoverinfo\":\"text\",\"line\":{\"color\":\"red\",\"width\":2},\"mode\":\"lines\",\"opacity\":0.6873862902026507,\"text\":\"Ch8 ⇄ Ch13: 0.69\",\"x\":[-0.6772815716257409,-0.6772815716257414],\"y\":[0.7357239106731318,-0.7357239106731313],\"type\":\"scatter\"},{\"hoverinfo\":\"text\",\"line\":{\"color\":\"red\",\"width\":2},\"mode\":\"lines\",\"opacity\":0.8096804375650788,\"text\":\"Ch8 ⇄ Ch14: 0.81\",\"x\":[-0.6772815716257409,-0.40169542465296987],\"y\":[0.7357239106731318,-0.9157733266550573],\"type\":\"scatter\"},{\"hoverinfo\":\"text\",\"line\":{\"color\":\"red\",\"width\":2},\"mode\":\"lines\",\"opacity\":0.6347896717382978,\"text\":\"Ch8 ⇄ Ch16: 0.63\",\"x\":[-0.6772815716257409,0.2454854871407988],\"y\":[0.7357239106731318,-0.9694002659393305],\"type\":\"scatter\"},{\"hoverinfo\":\"text\",\"line\":{\"color\":\"red\",\"width\":2},\"mode\":\"lines\",\"opacity\":0.8373601394467386,\"text\":\"Ch8 ⇄ Ch17: 0.84\",\"x\":[-0.6772815716257409,0.5469481581224266],\"y\":[0.7357239106731318,-0.8371664782625288],\"type\":\"scatter\"},{\"hoverinfo\":\"text\",\"line\":{\"color\":\"red\",\"width\":2},\"mode\":\"lines\",\"opacity\":0.7977899485759771,\"text\":\"Ch8 ⇄ Ch18: 0.80\",\"x\":[-0.6772815716257409,0.7891405093963934],\"y\":[0.7357239106731318,-0.614212712689668],\"type\":\"scatter\"},{\"hoverinfo\":\"text\",\"line\":{\"color\":\"red\",\"width\":2},\"mode\":\"lines\",\"opacity\":0.8550765702829326,\"text\":\"Ch8 ⇄ Ch19: 0.86\",\"x\":[-0.6772815716257409,0.9458172417006346],\"y\":[0.7357239106731318,-0.32469946920468373],\"type\":\"scatter\"},{\"hoverinfo\":\"text\",\"line\":{\"color\":\"red\",\"width\":2},\"mode\":\"lines\",\"opacity\":0.6184157171515113,\"text\":\"Ch9 ⇄ Ch12: 0.62\",\"x\":[-0.879473751206489,-0.8794737512064891],\"y\":[0.4759473930370737,-0.4759473930370735],\"type\":\"scatter\"},{\"hoverinfo\":\"text\",\"line\":{\"color\":\"red\",\"width\":2},\"mode\":\"lines\",\"opacity\":0.6679987692177649,\"text\":\"Ch9 ⇄ Ch13: 0.67\",\"x\":[-0.879473751206489,-0.6772815716257414],\"y\":[0.4759473930370737,-0.7357239106731313],\"type\":\"scatter\"},{\"hoverinfo\":\"text\",\"line\":{\"color\":\"red\",\"width\":2},\"mode\":\"lines\",\"opacity\":0.8453636431706819,\"text\":\"Ch9 ⇄ Ch14: 0.85\",\"x\":[-0.879473751206489,-0.40169542465296987],\"y\":[0.4759473930370737,-0.9157733266550573],\"type\":\"scatter\"},{\"hoverinfo\":\"text\",\"line\":{\"color\":\"red\",\"width\":2},\"mode\":\"lines\",\"opacity\":0.7048391732067143,\"text\":\"Ch9 ⇄ Ch18: 0.70\",\"x\":[-0.879473751206489,0.7891405093963934],\"y\":[0.4759473930370737,-0.614212712689668],\"type\":\"scatter\"},{\"hoverinfo\":\"text\",\"line\":{\"color\":\"red\",\"width\":2},\"mode\":\"lines\",\"opacity\":0.6102036865755514,\"text\":\"Ch9 ⇄ Ch19: 0.61\",\"x\":[-0.879473751206489,0.9458172417006346],\"y\":[0.4759473930370737,-0.32469946920468373],\"type\":\"scatter\"},{\"hoverinfo\":\"text\",\"line\":{\"color\":\"red\",\"width\":2},\"mode\":\"lines\",\"opacity\":0.9057092563789818,\"text\":\"Ch11 ⇄ Ch12: 0.91\",\"x\":[-0.9863613034027224,-0.8794737512064891],\"y\":[-0.16459459028073378,-0.4759473930370735],\"type\":\"scatter\"},{\"hoverinfo\":\"text\",\"line\":{\"color\":\"red\",\"width\":2},\"mode\":\"lines\",\"opacity\":0.865929703454492,\"text\":\"Ch11 ⇄ Ch16: 0.87\",\"x\":[-0.9863613034027224,0.2454854871407988],\"y\":[-0.16459459028073378,-0.9694002659393305],\"type\":\"scatter\"},{\"hoverinfo\":\"text\",\"line\":{\"color\":\"red\",\"width\":2},\"mode\":\"lines\",\"opacity\":0.886830154541226,\"text\":\"Ch11 ⇄ Ch17: 0.89\",\"x\":[-0.9863613034027224,0.5469481581224266],\"y\":[-0.16459459028073378,-0.8371664782625288],\"type\":\"scatter\"},{\"hoverinfo\":\"text\",\"line\":{\"color\":\"red\",\"width\":2},\"mode\":\"lines\",\"opacity\":0.6034369574160068,\"text\":\"Ch11 ⇄ Ch18: 0.60\",\"x\":[-0.9863613034027224,0.7891405093963934],\"y\":[-0.16459459028073378,-0.614212712689668],\"type\":\"scatter\"},{\"hoverinfo\":\"text\",\"line\":{\"color\":\"red\",\"width\":2},\"mode\":\"lines\",\"opacity\":0.8469904463829695,\"text\":\"Ch11 ⇄ Ch19: 0.85\",\"x\":[-0.9863613034027224,0.9458172417006346],\"y\":[-0.16459459028073378,-0.32469946920468373],\"type\":\"scatter\"},{\"hoverinfo\":\"text\",\"line\":{\"color\":\"red\",\"width\":2},\"mode\":\"lines\",\"opacity\":0.6271316264423178,\"text\":\"Ch12 ⇄ Ch13: 0.63\",\"x\":[-0.8794737512064891,-0.6772815716257414],\"y\":[-0.4759473930370735,-0.7357239106731313],\"type\":\"scatter\"},{\"hoverinfo\":\"text\",\"line\":{\"color\":\"red\",\"width\":2},\"mode\":\"lines\",\"opacity\":0.6113545759005368,\"text\":\"Ch12 ⇄ Ch14: 0.61\",\"x\":[-0.8794737512064891,-0.40169542465296987],\"y\":[-0.4759473930370735,-0.9157733266550573],\"type\":\"scatter\"},{\"hoverinfo\":\"text\",\"line\":{\"color\":\"red\",\"width\":2},\"mode\":\"lines\",\"opacity\":0.8088526004931531,\"text\":\"Ch12 ⇄ Ch16: 0.81\",\"x\":[-0.8794737512064891,0.2454854871407988],\"y\":[-0.4759473930370735,-0.9694002659393305],\"type\":\"scatter\"},{\"hoverinfo\":\"text\",\"line\":{\"color\":\"red\",\"width\":2},\"mode\":\"lines\",\"opacity\":0.9467536536783424,\"text\":\"Ch12 ⇄ Ch17: 0.95\",\"x\":[-0.8794737512064891,0.5469481581224266],\"y\":[-0.4759473930370735,-0.8371664782625288],\"type\":\"scatter\"},{\"hoverinfo\":\"text\",\"line\":{\"color\":\"red\",\"width\":2},\"mode\":\"lines\",\"opacity\":0.6978429118952363,\"text\":\"Ch12 ⇄ Ch18: 0.70\",\"x\":[-0.8794737512064891,0.7891405093963934],\"y\":[-0.4759473930370735,-0.614212712689668],\"type\":\"scatter\"},{\"hoverinfo\":\"text\",\"line\":{\"color\":\"red\",\"width\":2},\"mode\":\"lines\",\"opacity\":0.8992650369035805,\"text\":\"Ch12 ⇄ Ch19: 0.90\",\"x\":[-0.8794737512064891,0.9458172417006346],\"y\":[-0.4759473930370735,-0.32469946920468373],\"type\":\"scatter\"},{\"hoverinfo\":\"text\",\"line\":{\"color\":\"red\",\"width\":2},\"mode\":\"lines\",\"opacity\":0.6969851502603277,\"text\":\"Ch13 ⇄ Ch14: 0.70\",\"x\":[-0.6772815716257414,-0.40169542465296987],\"y\":[-0.7357239106731313,-0.9157733266550573],\"type\":\"scatter\"},{\"hoverinfo\":\"text\",\"line\":{\"color\":\"red\",\"width\":2},\"mode\":\"lines\",\"opacity\":0.791822399047069,\"text\":\"Ch13 ⇄ Ch18: 0.79\",\"x\":[-0.6772815716257414,0.7891405093963934],\"y\":[-0.7357239106731313,-0.614212712689668],\"type\":\"scatter\"},{\"hoverinfo\":\"text\",\"line\":{\"color\":\"red\",\"width\":2},\"mode\":\"lines\",\"opacity\":0.6314803892722053,\"text\":\"Ch13 ⇄ Ch19: 0.63\",\"x\":[-0.6772815716257414,0.9458172417006346],\"y\":[-0.7357239106731313,-0.32469946920468373],\"type\":\"scatter\"},{\"hoverinfo\":\"text\",\"line\":{\"color\":\"red\",\"width\":2},\"mode\":\"lines\",\"opacity\":0.6810388279197401,\"text\":\"Ch14 ⇄ Ch15: 0.68\",\"x\":[-0.40169542465296987,-0.08257934547233274],\"y\":[-0.9157733266550573,-0.9965844930066698],\"type\":\"scatter\"},{\"hoverinfo\":\"text\",\"line\":{\"color\":\"red\",\"width\":2},\"mode\":\"lines\",\"opacity\":0.6094540807528315,\"text\":\"Ch14 ⇄ Ch17: 0.61\",\"x\":[-0.40169542465296987,0.5469481581224266],\"y\":[-0.9157733266550573,-0.8371664782625288],\"type\":\"scatter\"},{\"hoverinfo\":\"text\",\"line\":{\"color\":\"red\",\"width\":2},\"mode\":\"lines\",\"opacity\":0.8973328909366833,\"text\":\"Ch14 ⇄ Ch18: 0.90\",\"x\":[-0.40169542465296987,0.7891405093963934],\"y\":[-0.9157733266550573,-0.614212712689668],\"type\":\"scatter\"},{\"hoverinfo\":\"text\",\"line\":{\"color\":\"red\",\"width\":2},\"mode\":\"lines\",\"opacity\":0.7181291156301741,\"text\":\"Ch14 ⇄ Ch19: 0.72\",\"x\":[-0.40169542465296987,0.9458172417006346],\"y\":[-0.9157733266550573,-0.32469946920468373],\"type\":\"scatter\"},{\"hoverinfo\":\"text\",\"line\":{\"color\":\"red\",\"width\":2},\"mode\":\"lines\",\"opacity\":0.7069436466067914,\"text\":\"Ch15 ⇄ Ch18: 0.71\",\"x\":[-0.08257934547233274,0.7891405093963934],\"y\":[-0.9965844930066698,-0.614212712689668],\"type\":\"scatter\"},{\"hoverinfo\":\"text\",\"line\":{\"color\":\"red\",\"width\":2},\"mode\":\"lines\",\"opacity\":0.9214639768266275,\"text\":\"Ch16 ⇄ Ch17: 0.92\",\"x\":[0.2454854871407988,0.5469481581224266],\"y\":[-0.9694002659393305,-0.8371664782625288],\"type\":\"scatter\"},{\"hoverinfo\":\"text\",\"line\":{\"color\":\"red\",\"width\":2},\"mode\":\"lines\",\"opacity\":0.6140589184236298,\"text\":\"Ch16 ⇄ Ch18: 0.61\",\"x\":[0.2454854871407988,0.7891405093963934],\"y\":[-0.9694002659393305,-0.614212712689668],\"type\":\"scatter\"},{\"hoverinfo\":\"text\",\"line\":{\"color\":\"red\",\"width\":2},\"mode\":\"lines\",\"opacity\":0.9031949707991455,\"text\":\"Ch16 ⇄ Ch19: 0.90\",\"x\":[0.2454854871407988,0.9458172417006346],\"y\":[-0.9694002659393305,-0.32469946920468373],\"type\":\"scatter\"},{\"hoverinfo\":\"text\",\"line\":{\"color\":\"red\",\"width\":2},\"mode\":\"lines\",\"opacity\":0.734995408318819,\"text\":\"Ch17 ⇄ Ch18: 0.73\",\"x\":[0.5469481581224266,0.7891405093963934],\"y\":[-0.8371664782625288,-0.614212712689668],\"type\":\"scatter\"},{\"hoverinfo\":\"text\",\"line\":{\"color\":\"red\",\"width\":2},\"mode\":\"lines\",\"opacity\":0.9655378471637919,\"text\":\"Ch17 ⇄ Ch19: 0.97\",\"x\":[0.5469481581224266,0.9458172417006346],\"y\":[-0.8371664782625288,-0.32469946920468373],\"type\":\"scatter\"},{\"hoverinfo\":\"text\",\"line\":{\"color\":\"red\",\"width\":2},\"mode\":\"lines\",\"opacity\":0.8599032397785018,\"text\":\"Ch18 ⇄ Ch19: 0.86\",\"x\":[0.7891405093963934,0.9458172417006346],\"y\":[-0.614212712689668,-0.32469946920468373],\"type\":\"scatter\"},{\"hoverinfo\":\"text\",\"marker\":{\"color\":\"lightgreen\",\"size\":20},\"mode\":\"markers+text\",\"text\":[\"Ch1\",\"Ch2\",\"Ch3\",\"Ch4\",\"Ch5\",\"Ch6\",\"Ch7\",\"Ch8\",\"Ch9\",\"Ch10\",\"Ch11\",\"Ch12\",\"Ch13\",\"Ch14\",\"Ch15\",\"Ch16\",\"Ch17\",\"Ch18\",\"Ch19\"],\"textposition\":\"top center\",\"x\":[1.0,0.9458172417006346,0.7891405093963936,0.546948158122427,0.24548548714079924,-0.08257934547233227,-0.40169542465296926,-0.6772815716257409,-0.879473751206489,-0.9863613034027223,-0.9863613034027224,-0.8794737512064891,-0.6772815716257414,-0.40169542465296987,-0.08257934547233274,0.2454854871407988,0.5469481581224266,0.7891405093963934,0.9458172417006346],\"y\":[0.0,0.32469946920468346,0.6142127126896678,0.8371664782625285,0.9694002659393304,0.9965844930066698,0.9157733266550575,0.7357239106731318,0.4759473930370737,0.16459459028073403,-0.16459459028073378,-0.4759473930370735,-0.7357239106731313,-0.9157733266550573,-0.9965844930066698,-0.9694002659393305,-0.8371664782625288,-0.614212712689668,-0.32469946920468373],\"type\":\"scatter\"}],                        {\"template\":{\"data\":{\"histogram2dcontour\":[{\"type\":\"histogram2dcontour\",\"colorbar\":{\"outlinewidth\":0,\"ticks\":\"\"},\"colorscale\":[[0.0,\"#0d0887\"],[0.1111111111111111,\"#46039f\"],[0.2222222222222222,\"#7201a8\"],[0.3333333333333333,\"#9c179e\"],[0.4444444444444444,\"#bd3786\"],[0.5555555555555556,\"#d8576b\"],[0.6666666666666666,\"#ed7953\"],[0.7777777777777778,\"#fb9f3a\"],[0.8888888888888888,\"#fdca26\"],[1.0,\"#f0f921\"]]}],\"choropleth\":[{\"type\":\"choropleth\",\"colorbar\":{\"outlinewidth\":0,\"ticks\":\"\"}}],\"histogram2d\":[{\"type\":\"histogram2d\",\"colorbar\":{\"outlinewidth\":0,\"ticks\":\"\"},\"colorscale\":[[0.0,\"#0d0887\"],[0.1111111111111111,\"#46039f\"],[0.2222222222222222,\"#7201a8\"],[0.3333333333333333,\"#9c179e\"],[0.4444444444444444,\"#bd3786\"],[0.5555555555555556,\"#d8576b\"],[0.6666666666666666,\"#ed7953\"],[0.7777777777777778,\"#fb9f3a\"],[0.8888888888888888,\"#fdca26\"],[1.0,\"#f0f921\"]]}],\"heatmap\":[{\"type\":\"heatmap\",\"colorbar\":{\"outlinewidth\":0,\"ticks\":\"\"},\"colorscale\":[[0.0,\"#0d0887\"],[0.1111111111111111,\"#46039f\"],[0.2222222222222222,\"#7201a8\"],[0.3333333333333333,\"#9c179e\"],[0.4444444444444444,\"#bd3786\"],[0.5555555555555556,\"#d8576b\"],[0.6666666666666666,\"#ed7953\"],[0.7777777777777778,\"#fb9f3a\"],[0.8888888888888888,\"#fdca26\"],[1.0,\"#f0f921\"]]}],\"heatmapgl\":[{\"type\":\"heatmapgl\",\"colorbar\":{\"outlinewidth\":0,\"ticks\":\"\"},\"colorscale\":[[0.0,\"#0d0887\"],[0.1111111111111111,\"#46039f\"],[0.2222222222222222,\"#7201a8\"],[0.3333333333333333,\"#9c179e\"],[0.4444444444444444,\"#bd3786\"],[0.5555555555555556,\"#d8576b\"],[0.6666666666666666,\"#ed7953\"],[0.7777777777777778,\"#fb9f3a\"],[0.8888888888888888,\"#fdca26\"],[1.0,\"#f0f921\"]]}],\"contourcarpet\":[{\"type\":\"contourcarpet\",\"colorbar\":{\"outlinewidth\":0,\"ticks\":\"\"}}],\"contour\":[{\"type\":\"contour\",\"colorbar\":{\"outlinewidth\":0,\"ticks\":\"\"},\"colorscale\":[[0.0,\"#0d0887\"],[0.1111111111111111,\"#46039f\"],[0.2222222222222222,\"#7201a8\"],[0.3333333333333333,\"#9c179e\"],[0.4444444444444444,\"#bd3786\"],[0.5555555555555556,\"#d8576b\"],[0.6666666666666666,\"#ed7953\"],[0.7777777777777778,\"#fb9f3a\"],[0.8888888888888888,\"#fdca26\"],[1.0,\"#f0f921\"]]}],\"surface\":[{\"type\":\"surface\",\"colorbar\":{\"outlinewidth\":0,\"ticks\":\"\"},\"colorscale\":[[0.0,\"#0d0887\"],[0.1111111111111111,\"#46039f\"],[0.2222222222222222,\"#7201a8\"],[0.3333333333333333,\"#9c179e\"],[0.4444444444444444,\"#bd3786\"],[0.5555555555555556,\"#d8576b\"],[0.6666666666666666,\"#ed7953\"],[0.7777777777777778,\"#fb9f3a\"],[0.8888888888888888,\"#fdca26\"],[1.0,\"#f0f921\"]]}],\"mesh3d\":[{\"type\":\"mesh3d\",\"colorbar\":{\"outlinewidth\":0,\"ticks\":\"\"}}],\"scatter\":[{\"fillpattern\":{\"fillmode\":\"overlay\",\"size\":10,\"solidity\":0.2},\"type\":\"scatter\"}],\"parcoords\":[{\"type\":\"parcoords\",\"line\":{\"colorbar\":{\"outlinewidth\":0,\"ticks\":\"\"}}}],\"scatterpolargl\":[{\"type\":\"scatterpolargl\",\"marker\":{\"colorbar\":{\"outlinewidth\":0,\"ticks\":\"\"}}}],\"bar\":[{\"error_x\":{\"color\":\"#2a3f5f\"},\"error_y\":{\"color\":\"#2a3f5f\"},\"marker\":{\"line\":{\"color\":\"#E5ECF6\",\"width\":0.5},\"pattern\":{\"fillmode\":\"overlay\",\"size\":10,\"solidity\":0.2}},\"type\":\"bar\"}],\"scattergeo\":[{\"type\":\"scattergeo\",\"marker\":{\"colorbar\":{\"outlinewidth\":0,\"ticks\":\"\"}}}],\"scatterpolar\":[{\"type\":\"scatterpolar\",\"marker\":{\"colorbar\":{\"outlinewidth\":0,\"ticks\":\"\"}}}],\"histogram\":[{\"marker\":{\"pattern\":{\"fillmode\":\"overlay\",\"size\":10,\"solidity\":0.2}},\"type\":\"histogram\"}],\"scattergl\":[{\"type\":\"scattergl\",\"marker\":{\"colorbar\":{\"outlinewidth\":0,\"ticks\":\"\"}}}],\"scatter3d\":[{\"type\":\"scatter3d\",\"line\":{\"colorbar\":{\"outlinewidth\":0,\"ticks\":\"\"}},\"marker\":{\"colorbar\":{\"outlinewidth\":0,\"ticks\":\"\"}}}],\"scattermapbox\":[{\"type\":\"scattermapbox\",\"marker\":{\"colorbar\":{\"outlinewidth\":0,\"ticks\":\"\"}}}],\"scatterternary\":[{\"type\":\"scatterternary\",\"marker\":{\"colorbar\":{\"outlinewidth\":0,\"ticks\":\"\"}}}],\"scattercarpet\":[{\"type\":\"scattercarpet\",\"marker\":{\"colorbar\":{\"outlinewidth\":0,\"ticks\":\"\"}}}],\"carpet\":[{\"aaxis\":{\"endlinecolor\":\"#2a3f5f\",\"gridcolor\":\"white\",\"linecolor\":\"white\",\"minorgridcolor\":\"white\",\"startlinecolor\":\"#2a3f5f\"},\"baxis\":{\"endlinecolor\":\"#2a3f5f\",\"gridcolor\":\"white\",\"linecolor\":\"white\",\"minorgridcolor\":\"white\",\"startlinecolor\":\"#2a3f5f\"},\"type\":\"carpet\"}],\"table\":[{\"cells\":{\"fill\":{\"color\":\"#EBF0F8\"},\"line\":{\"color\":\"white\"}},\"header\":{\"fill\":{\"color\":\"#C8D4E3\"},\"line\":{\"color\":\"white\"}},\"type\":\"table\"}],\"barpolar\":[{\"marker\":{\"line\":{\"color\":\"#E5ECF6\",\"width\":0.5},\"pattern\":{\"fillmode\":\"overlay\",\"size\":10,\"solidity\":0.2}},\"type\":\"barpolar\"}],\"pie\":[{\"automargin\":true,\"type\":\"pie\"}]},\"layout\":{\"autotypenumbers\":\"strict\",\"colorway\":[\"#636efa\",\"#EF553B\",\"#00cc96\",\"#ab63fa\",\"#FFA15A\",\"#19d3f3\",\"#FF6692\",\"#B6E880\",\"#FF97FF\",\"#FECB52\"],\"font\":{\"color\":\"#2a3f5f\"},\"hovermode\":\"closest\",\"hoverlabel\":{\"align\":\"left\"},\"paper_bgcolor\":\"white\",\"plot_bgcolor\":\"#E5ECF6\",\"polar\":{\"bgcolor\":\"#E5ECF6\",\"angularaxis\":{\"gridcolor\":\"white\",\"linecolor\":\"white\",\"ticks\":\"\"},\"radialaxis\":{\"gridcolor\":\"white\",\"linecolor\":\"white\",\"ticks\":\"\"}},\"ternary\":{\"bgcolor\":\"#E5ECF6\",\"aaxis\":{\"gridcolor\":\"white\",\"linecolor\":\"white\",\"ticks\":\"\"},\"baxis\":{\"gridcolor\":\"white\",\"linecolor\":\"white\",\"ticks\":\"\"},\"caxis\":{\"gridcolor\":\"white\",\"linecolor\":\"white\",\"ticks\":\"\"}},\"coloraxis\":{\"colorbar\":{\"outlinewidth\":0,\"ticks\":\"\"}},\"colorscale\":{\"sequential\":[[0.0,\"#0d0887\"],[0.1111111111111111,\"#46039f\"],[0.2222222222222222,\"#7201a8\"],[0.3333333333333333,\"#9c179e\"],[0.4444444444444444,\"#bd3786\"],[0.5555555555555556,\"#d8576b\"],[0.6666666666666666,\"#ed7953\"],[0.7777777777777778,\"#fb9f3a\"],[0.8888888888888888,\"#fdca26\"],[1.0,\"#f0f921\"]],\"sequentialminus\":[[0.0,\"#0d0887\"],[0.1111111111111111,\"#46039f\"],[0.2222222222222222,\"#7201a8\"],[0.3333333333333333,\"#9c179e\"],[0.4444444444444444,\"#bd3786\"],[0.5555555555555556,\"#d8576b\"],[0.6666666666666666,\"#ed7953\"],[0.7777777777777778,\"#fb9f3a\"],[0.8888888888888888,\"#fdca26\"],[1.0,\"#f0f921\"]],\"diverging\":[[0,\"#8e0152\"],[0.1,\"#c51b7d\"],[0.2,\"#de77ae\"],[0.3,\"#f1b6da\"],[0.4,\"#fde0ef\"],[0.5,\"#f7f7f7\"],[0.6,\"#e6f5d0\"],[0.7,\"#b8e186\"],[0.8,\"#7fbc41\"],[0.9,\"#4d9221\"],[1,\"#276419\"]]},\"xaxis\":{\"gridcolor\":\"white\",\"linecolor\":\"white\",\"ticks\":\"\",\"title\":{\"standoff\":15},\"zerolinecolor\":\"white\",\"automargin\":true,\"zerolinewidth\":2},\"yaxis\":{\"gridcolor\":\"white\",\"linecolor\":\"white\",\"ticks\":\"\",\"title\":{\"standoff\":15},\"zerolinecolor\":\"white\",\"automargin\":true,\"zerolinewidth\":2},\"scene\":{\"xaxis\":{\"backgroundcolor\":\"#E5ECF6\",\"gridcolor\":\"white\",\"linecolor\":\"white\",\"showbackground\":true,\"ticks\":\"\",\"zerolinecolor\":\"white\",\"gridwidth\":2},\"yaxis\":{\"backgroundcolor\":\"#E5ECF6\",\"gridcolor\":\"white\",\"linecolor\":\"white\",\"showbackground\":true,\"ticks\":\"\",\"zerolinecolor\":\"white\",\"gridwidth\":2},\"zaxis\":{\"backgroundcolor\":\"#E5ECF6\",\"gridcolor\":\"white\",\"linecolor\":\"white\",\"showbackground\":true,\"ticks\":\"\",\"zerolinecolor\":\"white\",\"gridwidth\":2}},\"shapedefaults\":{\"line\":{\"color\":\"#2a3f5f\"}},\"annotationdefaults\":{\"arrowcolor\":\"#2a3f5f\",\"arrowhead\":0,\"arrowwidth\":1},\"geo\":{\"bgcolor\":\"white\",\"landcolor\":\"#E5ECF6\",\"subunitcolor\":\"white\",\"showland\":true,\"showlakes\":true,\"lakecolor\":\"white\"},\"title\":{\"x\":0.05},\"mapbox\":{\"style\":\"light\"}}},\"margin\":{\"t\":50,\"l\":20,\"r\":20,\"b\":20},\"xaxis\":{\"visible\":false},\"yaxis\":{\"visible\":false},\"title\":{\"text\":\"Chord Diagram (EEG Channel Correlation) - Label 2\"},\"showlegend\":false,\"plot_bgcolor\":\"white\"},                        {\"responsive\": true}                    ).then(function(){\n",
              "                            \n",
              "var gd = document.getElementById('748a8851-af28-49ab-b4f7-38dda3c78ed8');\n",
              "var x = new MutationObserver(function (mutations, observer) {{\n",
              "        var display = window.getComputedStyle(gd).display;\n",
              "        if (!display || display === 'none') {{\n",
              "            console.log([gd, 'removed!']);\n",
              "            Plotly.purge(gd);\n",
              "            observer.disconnect();\n",
              "        }}\n",
              "}});\n",
              "\n",
              "// Listen for the removal of the full notebook cells\n",
              "var notebookContainer = gd.closest('#notebook-container');\n",
              "if (notebookContainer) {{\n",
              "    x.observe(notebookContainer, {childList: true});\n",
              "}}\n",
              "\n",
              "// Listen for the clearing of the current output cell\n",
              "var outputEl = gd.closest('.output');\n",
              "if (outputEl) {{\n",
              "    x.observe(outputEl, {childList: true});\n",
              "}}\n",
              "\n",
              "                        })                };                            </script>        </div>\n",
              "</body>\n",
              "</html>"
            ]
          },
          "metadata": {}
        },
        {
          "output_type": "stream",
          "name": "stdout",
          "text": [
            "Interactive chord diagram saved: /content/drive/MyDrive/Npy_files/eeg_figures/chord_diagrams/Chord_Diagram_Label_3.html\n"
          ]
        },
        {
          "output_type": "display_data",
          "data": {
            "text/html": [
              "<html>\n",
              "<head><meta charset=\"utf-8\" /></head>\n",
              "<body>\n",
              "    <div>            <script src=\"https://cdnjs.cloudflare.com/ajax/libs/mathjax/2.7.5/MathJax.js?config=TeX-AMS-MML_SVG\"></script><script type=\"text/javascript\">if (window.MathJax && window.MathJax.Hub && window.MathJax.Hub.Config) {window.MathJax.Hub.Config({SVG: {font: \"STIX-Web\"}});}</script>                <script type=\"text/javascript\">window.PlotlyConfig = {MathJaxConfig: 'local'};</script>\n",
              "        <script charset=\"utf-8\" src=\"https://cdn.plot.ly/plotly-2.35.2.min.js\"></script>                <div id=\"f0e8236c-3804-4bd8-9c29-86b42c4e2703\" class=\"plotly-graph-div\" style=\"height:525px; width:100%;\"></div>            <script type=\"text/javascript\">                                    window.PLOTLYENV=window.PLOTLYENV || {};                                    if (document.getElementById(\"f0e8236c-3804-4bd8-9c29-86b42c4e2703\")) {                    Plotly.newPlot(                        \"f0e8236c-3804-4bd8-9c29-86b42c4e2703\",                        [{\"hoverinfo\":\"text\",\"line\":{\"color\":\"red\",\"width\":2},\"mode\":\"lines\",\"opacity\":0.6789073996867887,\"text\":\"Ch5 ⇄ Ch6: 0.68\",\"x\":[0.24548548714079924,-0.08257934547233227],\"y\":[0.9694002659393304,0.9965844930066698],\"type\":\"scatter\"},{\"hoverinfo\":\"text\",\"line\":{\"color\":\"red\",\"width\":2},\"mode\":\"lines\",\"opacity\":0.6590457334283824,\"text\":\"Ch7 ⇄ Ch13: 0.66\",\"x\":[-0.40169542465296926,-0.6772815716257414],\"y\":[0.9157733266550575,-0.7357239106731313],\"type\":\"scatter\"},{\"hoverinfo\":\"text\",\"line\":{\"color\":\"red\",\"width\":2},\"mode\":\"lines\",\"opacity\":0.6073394131872402,\"text\":\"Ch10 ⇄ Ch15: 0.61\",\"x\":[-0.9863613034027223,-0.08257934547233274],\"y\":[0.16459459028073403,-0.9965844930066698],\"type\":\"scatter\"},{\"hoverinfo\":\"text\",\"line\":{\"color\":\"red\",\"width\":2},\"mode\":\"lines\",\"opacity\":0.6153795846815836,\"text\":\"Ch11 ⇄ Ch16: 0.62\",\"x\":[-0.9863613034027224,0.2454854871407988],\"y\":[-0.16459459028073378,-0.9694002659393305],\"type\":\"scatter\"},{\"hoverinfo\":\"text\",\"line\":{\"color\":\"red\",\"width\":2},\"mode\":\"lines\",\"opacity\":0.6776484443247575,\"text\":\"Ch12 ⇄ Ch13: 0.68\",\"x\":[-0.8794737512064891,-0.6772815716257414],\"y\":[-0.4759473930370735,-0.7357239106731313],\"type\":\"scatter\"},{\"hoverinfo\":\"text\",\"line\":{\"color\":\"red\",\"width\":2},\"mode\":\"lines\",\"opacity\":0.7066038762175015,\"text\":\"Ch14 ⇄ Ch15: 0.71\",\"x\":[-0.40169542465296987,-0.08257934547233274],\"y\":[-0.9157733266550573,-0.9965844930066698],\"type\":\"scatter\"},{\"hoverinfo\":\"text\",\"line\":{\"color\":\"red\",\"width\":2},\"mode\":\"lines\",\"opacity\":0.6060152210570391,\"text\":\"Ch18 ⇄ Ch19: 0.61\",\"x\":[0.7891405093963934,0.9458172417006346],\"y\":[-0.614212712689668,-0.32469946920468373],\"type\":\"scatter\"},{\"hoverinfo\":\"text\",\"marker\":{\"color\":\"lightgreen\",\"size\":20},\"mode\":\"markers+text\",\"text\":[\"Ch1\",\"Ch2\",\"Ch3\",\"Ch4\",\"Ch5\",\"Ch6\",\"Ch7\",\"Ch8\",\"Ch9\",\"Ch10\",\"Ch11\",\"Ch12\",\"Ch13\",\"Ch14\",\"Ch15\",\"Ch16\",\"Ch17\",\"Ch18\",\"Ch19\"],\"textposition\":\"top center\",\"x\":[1.0,0.9458172417006346,0.7891405093963936,0.546948158122427,0.24548548714079924,-0.08257934547233227,-0.40169542465296926,-0.6772815716257409,-0.879473751206489,-0.9863613034027223,-0.9863613034027224,-0.8794737512064891,-0.6772815716257414,-0.40169542465296987,-0.08257934547233274,0.2454854871407988,0.5469481581224266,0.7891405093963934,0.9458172417006346],\"y\":[0.0,0.32469946920468346,0.6142127126896678,0.8371664782625285,0.9694002659393304,0.9965844930066698,0.9157733266550575,0.7357239106731318,0.4759473930370737,0.16459459028073403,-0.16459459028073378,-0.4759473930370735,-0.7357239106731313,-0.9157733266550573,-0.9965844930066698,-0.9694002659393305,-0.8371664782625288,-0.614212712689668,-0.32469946920468373],\"type\":\"scatter\"}],                        {\"template\":{\"data\":{\"histogram2dcontour\":[{\"type\":\"histogram2dcontour\",\"colorbar\":{\"outlinewidth\":0,\"ticks\":\"\"},\"colorscale\":[[0.0,\"#0d0887\"],[0.1111111111111111,\"#46039f\"],[0.2222222222222222,\"#7201a8\"],[0.3333333333333333,\"#9c179e\"],[0.4444444444444444,\"#bd3786\"],[0.5555555555555556,\"#d8576b\"],[0.6666666666666666,\"#ed7953\"],[0.7777777777777778,\"#fb9f3a\"],[0.8888888888888888,\"#fdca26\"],[1.0,\"#f0f921\"]]}],\"choropleth\":[{\"type\":\"choropleth\",\"colorbar\":{\"outlinewidth\":0,\"ticks\":\"\"}}],\"histogram2d\":[{\"type\":\"histogram2d\",\"colorbar\":{\"outlinewidth\":0,\"ticks\":\"\"},\"colorscale\":[[0.0,\"#0d0887\"],[0.1111111111111111,\"#46039f\"],[0.2222222222222222,\"#7201a8\"],[0.3333333333333333,\"#9c179e\"],[0.4444444444444444,\"#bd3786\"],[0.5555555555555556,\"#d8576b\"],[0.6666666666666666,\"#ed7953\"],[0.7777777777777778,\"#fb9f3a\"],[0.8888888888888888,\"#fdca26\"],[1.0,\"#f0f921\"]]}],\"heatmap\":[{\"type\":\"heatmap\",\"colorbar\":{\"outlinewidth\":0,\"ticks\":\"\"},\"colorscale\":[[0.0,\"#0d0887\"],[0.1111111111111111,\"#46039f\"],[0.2222222222222222,\"#7201a8\"],[0.3333333333333333,\"#9c179e\"],[0.4444444444444444,\"#bd3786\"],[0.5555555555555556,\"#d8576b\"],[0.6666666666666666,\"#ed7953\"],[0.7777777777777778,\"#fb9f3a\"],[0.8888888888888888,\"#fdca26\"],[1.0,\"#f0f921\"]]}],\"heatmapgl\":[{\"type\":\"heatmapgl\",\"colorbar\":{\"outlinewidth\":0,\"ticks\":\"\"},\"colorscale\":[[0.0,\"#0d0887\"],[0.1111111111111111,\"#46039f\"],[0.2222222222222222,\"#7201a8\"],[0.3333333333333333,\"#9c179e\"],[0.4444444444444444,\"#bd3786\"],[0.5555555555555556,\"#d8576b\"],[0.6666666666666666,\"#ed7953\"],[0.7777777777777778,\"#fb9f3a\"],[0.8888888888888888,\"#fdca26\"],[1.0,\"#f0f921\"]]}],\"contourcarpet\":[{\"type\":\"contourcarpet\",\"colorbar\":{\"outlinewidth\":0,\"ticks\":\"\"}}],\"contour\":[{\"type\":\"contour\",\"colorbar\":{\"outlinewidth\":0,\"ticks\":\"\"},\"colorscale\":[[0.0,\"#0d0887\"],[0.1111111111111111,\"#46039f\"],[0.2222222222222222,\"#7201a8\"],[0.3333333333333333,\"#9c179e\"],[0.4444444444444444,\"#bd3786\"],[0.5555555555555556,\"#d8576b\"],[0.6666666666666666,\"#ed7953\"],[0.7777777777777778,\"#fb9f3a\"],[0.8888888888888888,\"#fdca26\"],[1.0,\"#f0f921\"]]}],\"surface\":[{\"type\":\"surface\",\"colorbar\":{\"outlinewidth\":0,\"ticks\":\"\"},\"colorscale\":[[0.0,\"#0d0887\"],[0.1111111111111111,\"#46039f\"],[0.2222222222222222,\"#7201a8\"],[0.3333333333333333,\"#9c179e\"],[0.4444444444444444,\"#bd3786\"],[0.5555555555555556,\"#d8576b\"],[0.6666666666666666,\"#ed7953\"],[0.7777777777777778,\"#fb9f3a\"],[0.8888888888888888,\"#fdca26\"],[1.0,\"#f0f921\"]]}],\"mesh3d\":[{\"type\":\"mesh3d\",\"colorbar\":{\"outlinewidth\":0,\"ticks\":\"\"}}],\"scatter\":[{\"fillpattern\":{\"fillmode\":\"overlay\",\"size\":10,\"solidity\":0.2},\"type\":\"scatter\"}],\"parcoords\":[{\"type\":\"parcoords\",\"line\":{\"colorbar\":{\"outlinewidth\":0,\"ticks\":\"\"}}}],\"scatterpolargl\":[{\"type\":\"scatterpolargl\",\"marker\":{\"colorbar\":{\"outlinewidth\":0,\"ticks\":\"\"}}}],\"bar\":[{\"error_x\":{\"color\":\"#2a3f5f\"},\"error_y\":{\"color\":\"#2a3f5f\"},\"marker\":{\"line\":{\"color\":\"#E5ECF6\",\"width\":0.5},\"pattern\":{\"fillmode\":\"overlay\",\"size\":10,\"solidity\":0.2}},\"type\":\"bar\"}],\"scattergeo\":[{\"type\":\"scattergeo\",\"marker\":{\"colorbar\":{\"outlinewidth\":0,\"ticks\":\"\"}}}],\"scatterpolar\":[{\"type\":\"scatterpolar\",\"marker\":{\"colorbar\":{\"outlinewidth\":0,\"ticks\":\"\"}}}],\"histogram\":[{\"marker\":{\"pattern\":{\"fillmode\":\"overlay\",\"size\":10,\"solidity\":0.2}},\"type\":\"histogram\"}],\"scattergl\":[{\"type\":\"scattergl\",\"marker\":{\"colorbar\":{\"outlinewidth\":0,\"ticks\":\"\"}}}],\"scatter3d\":[{\"type\":\"scatter3d\",\"line\":{\"colorbar\":{\"outlinewidth\":0,\"ticks\":\"\"}},\"marker\":{\"colorbar\":{\"outlinewidth\":0,\"ticks\":\"\"}}}],\"scattermapbox\":[{\"type\":\"scattermapbox\",\"marker\":{\"colorbar\":{\"outlinewidth\":0,\"ticks\":\"\"}}}],\"scatterternary\":[{\"type\":\"scatterternary\",\"marker\":{\"colorbar\":{\"outlinewidth\":0,\"ticks\":\"\"}}}],\"scattercarpet\":[{\"type\":\"scattercarpet\",\"marker\":{\"colorbar\":{\"outlinewidth\":0,\"ticks\":\"\"}}}],\"carpet\":[{\"aaxis\":{\"endlinecolor\":\"#2a3f5f\",\"gridcolor\":\"white\",\"linecolor\":\"white\",\"minorgridcolor\":\"white\",\"startlinecolor\":\"#2a3f5f\"},\"baxis\":{\"endlinecolor\":\"#2a3f5f\",\"gridcolor\":\"white\",\"linecolor\":\"white\",\"minorgridcolor\":\"white\",\"startlinecolor\":\"#2a3f5f\"},\"type\":\"carpet\"}],\"table\":[{\"cells\":{\"fill\":{\"color\":\"#EBF0F8\"},\"line\":{\"color\":\"white\"}},\"header\":{\"fill\":{\"color\":\"#C8D4E3\"},\"line\":{\"color\":\"white\"}},\"type\":\"table\"}],\"barpolar\":[{\"marker\":{\"line\":{\"color\":\"#E5ECF6\",\"width\":0.5},\"pattern\":{\"fillmode\":\"overlay\",\"size\":10,\"solidity\":0.2}},\"type\":\"barpolar\"}],\"pie\":[{\"automargin\":true,\"type\":\"pie\"}]},\"layout\":{\"autotypenumbers\":\"strict\",\"colorway\":[\"#636efa\",\"#EF553B\",\"#00cc96\",\"#ab63fa\",\"#FFA15A\",\"#19d3f3\",\"#FF6692\",\"#B6E880\",\"#FF97FF\",\"#FECB52\"],\"font\":{\"color\":\"#2a3f5f\"},\"hovermode\":\"closest\",\"hoverlabel\":{\"align\":\"left\"},\"paper_bgcolor\":\"white\",\"plot_bgcolor\":\"#E5ECF6\",\"polar\":{\"bgcolor\":\"#E5ECF6\",\"angularaxis\":{\"gridcolor\":\"white\",\"linecolor\":\"white\",\"ticks\":\"\"},\"radialaxis\":{\"gridcolor\":\"white\",\"linecolor\":\"white\",\"ticks\":\"\"}},\"ternary\":{\"bgcolor\":\"#E5ECF6\",\"aaxis\":{\"gridcolor\":\"white\",\"linecolor\":\"white\",\"ticks\":\"\"},\"baxis\":{\"gridcolor\":\"white\",\"linecolor\":\"white\",\"ticks\":\"\"},\"caxis\":{\"gridcolor\":\"white\",\"linecolor\":\"white\",\"ticks\":\"\"}},\"coloraxis\":{\"colorbar\":{\"outlinewidth\":0,\"ticks\":\"\"}},\"colorscale\":{\"sequential\":[[0.0,\"#0d0887\"],[0.1111111111111111,\"#46039f\"],[0.2222222222222222,\"#7201a8\"],[0.3333333333333333,\"#9c179e\"],[0.4444444444444444,\"#bd3786\"],[0.5555555555555556,\"#d8576b\"],[0.6666666666666666,\"#ed7953\"],[0.7777777777777778,\"#fb9f3a\"],[0.8888888888888888,\"#fdca26\"],[1.0,\"#f0f921\"]],\"sequentialminus\":[[0.0,\"#0d0887\"],[0.1111111111111111,\"#46039f\"],[0.2222222222222222,\"#7201a8\"],[0.3333333333333333,\"#9c179e\"],[0.4444444444444444,\"#bd3786\"],[0.5555555555555556,\"#d8576b\"],[0.6666666666666666,\"#ed7953\"],[0.7777777777777778,\"#fb9f3a\"],[0.8888888888888888,\"#fdca26\"],[1.0,\"#f0f921\"]],\"diverging\":[[0,\"#8e0152\"],[0.1,\"#c51b7d\"],[0.2,\"#de77ae\"],[0.3,\"#f1b6da\"],[0.4,\"#fde0ef\"],[0.5,\"#f7f7f7\"],[0.6,\"#e6f5d0\"],[0.7,\"#b8e186\"],[0.8,\"#7fbc41\"],[0.9,\"#4d9221\"],[1,\"#276419\"]]},\"xaxis\":{\"gridcolor\":\"white\",\"linecolor\":\"white\",\"ticks\":\"\",\"title\":{\"standoff\":15},\"zerolinecolor\":\"white\",\"automargin\":true,\"zerolinewidth\":2},\"yaxis\":{\"gridcolor\":\"white\",\"linecolor\":\"white\",\"ticks\":\"\",\"title\":{\"standoff\":15},\"zerolinecolor\":\"white\",\"automargin\":true,\"zerolinewidth\":2},\"scene\":{\"xaxis\":{\"backgroundcolor\":\"#E5ECF6\",\"gridcolor\":\"white\",\"linecolor\":\"white\",\"showbackground\":true,\"ticks\":\"\",\"zerolinecolor\":\"white\",\"gridwidth\":2},\"yaxis\":{\"backgroundcolor\":\"#E5ECF6\",\"gridcolor\":\"white\",\"linecolor\":\"white\",\"showbackground\":true,\"ticks\":\"\",\"zerolinecolor\":\"white\",\"gridwidth\":2},\"zaxis\":{\"backgroundcolor\":\"#E5ECF6\",\"gridcolor\":\"white\",\"linecolor\":\"white\",\"showbackground\":true,\"ticks\":\"\",\"zerolinecolor\":\"white\",\"gridwidth\":2}},\"shapedefaults\":{\"line\":{\"color\":\"#2a3f5f\"}},\"annotationdefaults\":{\"arrowcolor\":\"#2a3f5f\",\"arrowhead\":0,\"arrowwidth\":1},\"geo\":{\"bgcolor\":\"white\",\"landcolor\":\"#E5ECF6\",\"subunitcolor\":\"white\",\"showland\":true,\"showlakes\":true,\"lakecolor\":\"white\"},\"title\":{\"x\":0.05},\"mapbox\":{\"style\":\"light\"}}},\"margin\":{\"t\":50,\"l\":20,\"r\":20,\"b\":20},\"xaxis\":{\"visible\":false},\"yaxis\":{\"visible\":false},\"title\":{\"text\":\"Chord Diagram (EEG Channel Correlation) - Label 3\"},\"showlegend\":false,\"plot_bgcolor\":\"white\"},                        {\"responsive\": true}                    ).then(function(){\n",
              "                            \n",
              "var gd = document.getElementById('f0e8236c-3804-4bd8-9c29-86b42c4e2703');\n",
              "var x = new MutationObserver(function (mutations, observer) {{\n",
              "        var display = window.getComputedStyle(gd).display;\n",
              "        if (!display || display === 'none') {{\n",
              "            console.log([gd, 'removed!']);\n",
              "            Plotly.purge(gd);\n",
              "            observer.disconnect();\n",
              "        }}\n",
              "}});\n",
              "\n",
              "// Listen for the removal of the full notebook cells\n",
              "var notebookContainer = gd.closest('#notebook-container');\n",
              "if (notebookContainer) {{\n",
              "    x.observe(notebookContainer, {childList: true});\n",
              "}}\n",
              "\n",
              "// Listen for the clearing of the current output cell\n",
              "var outputEl = gd.closest('.output');\n",
              "if (outputEl) {{\n",
              "    x.observe(outputEl, {childList: true});\n",
              "}}\n",
              "\n",
              "                        })                };                            </script>        </div>\n",
              "</body>\n",
              "</html>"
            ]
          },
          "metadata": {}
        }
      ]
    },
    {
      "cell_type": "markdown",
      "source": [
        "# spliting data"
      ],
      "metadata": {
        "id": "P-68jJ5kJ76H"
      }
    },
    {
      "cell_type": "code",
      "source": [
        "\n",
        "\n",
        "\n",
        "from sklearn.model_selection import train_test_split\n",
        "\n",
        "# Flatten EEG data (7011, 19, 500) → (7011, 9500)\n",
        "X_train_flat = X_train.reshape(X_train.shape[0], -1)\n",
        "X_test_flat = X_test.reshape(X_test.shape[0], -1)\n",
        "\n",
        "print(\"Flattened training data shape:\", X_train_flat.shape)\n",
        "print(\"Flattened test data shape:\", X_test_flat.shape)\n"
      ],
      "metadata": {
        "colab": {
          "base_uri": "https://localhost:8080/"
        },
        "id": "-1zG5dJlhwWK",
        "outputId": "df63caad-c59b-4fa6-a747-84cb68c37653"
      },
      "execution_count": null,
      "outputs": [
        {
          "output_type": "stream",
          "name": "stdout",
          "text": [
            "Flattened training data shape: (6232, 9500)\n",
            "Flattened test data shape: (1558, 9500)\n"
          ]
        }
      ]
    },
    {
      "cell_type": "markdown",
      "source": [
        "# Models\n",
        ". XGBoost\n",
        ". soft-voting ensemble\n",
        ". Random Forest\n"
      ],
      "metadata": {
        "id": "XEuGEWnhKMcZ"
      }
    },
    {
      "cell_type": "code",
      "source": [
        "from sklearn.ensemble import VotingClassifier\n",
        "from xgboost import XGBClassifier\n",
        "from sklearn.ensemble import RandomForestClassifier\n",
        "from sklearn.metrics import classification_report, f1_score\n",
        "\n",
        "# Initialize individual models\n",
        "xgb_model = XGBClassifier(use_label_encoder=False, eval_metric='mlogloss', random_state=42)\n",
        "rf_model = RandomForestClassifier(n_estimators=100, class_weight='balanced', random_state=42)\n",
        "\n",
        "# Combine models into a soft voting ensemble\n",
        "ensemble_model = VotingClassifier(\n",
        "    estimators=[('xgb', xgb_model), ('rf', rf_model)],\n",
        "    voting='soft'  # soft voting uses predicted probabilities\n",
        ")\n",
        "\n",
        "# Train ensemble model\n",
        "ensemble_model.fit(X_train_flat, Y_train)\n",
        "\n",
        "# Predict on test set\n",
        "ensemble_preds = ensemble_model.predict(X_test_flat)\n",
        "\n",
        "# Evaluate ensemble performance\n",
        "print(\"Ensemble Classification Report:\")\n",
        "print(classification_report(Y_test, ensemble_preds))\n",
        "print(\"Ensemble Weighted F1-Score:\", f1_score(Y_test, ensemble_preds, average='weighted'))\n"
      ],
      "metadata": {
        "colab": {
          "base_uri": "https://localhost:8080/"
        },
        "id": "SXECIs_HZ0ky",
        "outputId": "42831249-3dbf-41db-8590-c97ec9309486"
      },
      "execution_count": null,
      "outputs": [
        {
          "output_type": "stream",
          "name": "stderr",
          "text": [
            "/usr/local/lib/python3.11/dist-packages/xgboost/core.py:158: UserWarning:\n",
            "\n",
            "[06:48:32] WARNING: /workspace/src/learner.cc:740: \n",
            "Parameters: { \"use_label_encoder\" } are not used.\n",
            "\n",
            "\n"
          ]
        },
        {
          "output_type": "stream",
          "name": "stdout",
          "text": [
            "Ensemble Classification Report:\n",
            "              precision    recall  f1-score   support\n",
            "\n",
            "           0       0.85      0.99      0.91       755\n",
            "           1       0.96      0.83      0.89       622\n",
            "           2       0.96      0.80      0.87       150\n",
            "           3       1.00      0.42      0.59        31\n",
            "\n",
            "    accuracy                           0.90      1558\n",
            "   macro avg       0.94      0.76      0.82      1558\n",
            "weighted avg       0.90      0.90      0.89      1558\n",
            "\n",
            "Ensemble Weighted F1-Score: 0.8926532317485041\n"
          ]
        }
      ]
    },
    {
      "cell_type": "code",
      "source": [
        "from xgboost import XGBClassifier\n",
        "from sklearn.metrics import accuracy_score, classification_report, confusion_matrix\n",
        "\n",
        "# Initialize the model\n",
        "xgb_model = XGBClassifier(use_label_encoder=False, eval_metric='mlogloss', random_state=42)\n",
        "\n",
        "# Train the model\n",
        "xgb_model.fit(X_train_flat, Y_train)\n",
        "\n",
        "# Make predictions\n",
        "y_pred = xgb_model.predict(X_test_flat)\n",
        "\n",
        "# Evaluate the performance\n",
        "print(\"XGBoost Accuracy:\", accuracy_score(Y_test, y_pred))\n",
        "print(\"\\nClassification Report:\\n\", classification_report(Y_test, y_pred))\n",
        "print(\"\\nConfusion Matrix:\\n\", confusion_matrix(Y_test, y_pred))\n"
      ],
      "metadata": {
        "colab": {
          "base_uri": "https://localhost:8080/"
        },
        "id": "75gOt-uPViYD",
        "outputId": "09d8ea41-c126-427e-9026-d2550efb26a8"
      },
      "execution_count": null,
      "outputs": [
        {
          "output_type": "stream",
          "name": "stderr",
          "text": [
            "/usr/local/lib/python3.11/dist-packages/xgboost/core.py:158: UserWarning:\n",
            "\n",
            "[06:29:49] WARNING: /workspace/src/learner.cc:740: \n",
            "Parameters: { \"use_label_encoder\" } are not used.\n",
            "\n",
            "\n"
          ]
        },
        {
          "output_type": "stream",
          "name": "stdout",
          "text": [
            "XGBoost Accuracy: 0.8947368421052632\n",
            "\n",
            "Classification Report:\n",
            "               precision    recall  f1-score   support\n",
            "\n",
            "           0       0.85      0.98      0.91       755\n",
            "           1       0.95      0.83      0.89       622\n",
            "           2       0.94      0.80      0.86       150\n",
            "           3       1.00      0.45      0.62        31\n",
            "\n",
            "    accuracy                           0.89      1558\n",
            "   macro avg       0.93      0.77      0.82      1558\n",
            "weighted avg       0.90      0.89      0.89      1558\n",
            "\n",
            "\n",
            "Confusion Matrix:\n",
            " [[741   9   5   0]\n",
            " [100 519   3   0]\n",
            " [ 24   6 120   0]\n",
            " [  5  12   0  14]]\n"
          ]
        }
      ]
    },
    {
      "cell_type": "code",
      "source": [
        "# Random Forest Classifier\n",
        "from sklearn.ensemble import RandomForestClassifier\n",
        "\n",
        "# Initialize and train the Random Forest model\n",
        "rf_model = RandomForestClassifier(n_estimators=100, class_weight='balanced', random_state=42)\n",
        "rf_model.fit(X_train_flat, Y_train)\n",
        "\n",
        "# Predict on test set\n",
        "rf_preds = rf_model.predict(X_test_flat)\n",
        "\n",
        "# Evaluation\n",
        "print(\"Random Forest Classification Report:\")\n",
        "print(classification_report(Y_test, rf_preds))\n",
        "print(\"Random Forest Weighted F1-Score:\", f1_score(Y_test, rf_preds, average='weighted'))\n",
        "\n"
      ],
      "metadata": {
        "colab": {
          "base_uri": "https://localhost:8080/"
        },
        "id": "B12HEU_TiWpL",
        "outputId": "ead246b8-88f2-4d92-d429-4876aa3898a9"
      },
      "execution_count": null,
      "outputs": [
        {
          "output_type": "stream",
          "name": "stdout",
          "text": [
            "Random Forest Classification Report:\n",
            "              precision    recall  f1-score   support\n",
            "\n",
            "           0       0.81      0.98      0.89       755\n",
            "           1       0.93      0.84      0.88       622\n",
            "           2       0.96      0.51      0.66       150\n",
            "           3       1.00      0.32      0.49        31\n",
            "\n",
            "    accuracy                           0.86      1558\n",
            "   macro avg       0.93      0.66      0.73      1558\n",
            "weighted avg       0.88      0.86      0.86      1558\n",
            "\n",
            "Random Forest Weighted F1-Score: 0.856021837540797\n"
          ]
        }
      ]
    },
    {
      "cell_type": "markdown",
      "source": [
        "#Feature Engineering"
      ],
      "metadata": {
        "id": "V2KoNAZKK1cl"
      }
    },
    {
      "cell_type": "code",
      "source": [
        "from sklearn.feature_selection import VarianceThreshold\n",
        "\n",
        "# Set a variance threshold — remove features with near-zero variance\n",
        "selector = VarianceThreshold(threshold=0.0001)  # adjust threshold if needed\n",
        "X_train_fs = selector.fit_transform(X_train_flat)\n",
        "X_test_fs = selector.transform(X_test_flat)\n",
        "\n",
        "print(\"New shape after feature selection:\", X_train_fs.shape)\n"
      ],
      "metadata": {
        "colab": {
          "base_uri": "https://localhost:8080/"
        },
        "id": "WDRlrfIQqwgi",
        "outputId": "6e90906d-4429-44bd-f153-41fd76cfe080"
      },
      "execution_count": null,
      "outputs": [
        {
          "output_type": "stream",
          "name": "stdout",
          "text": [
            "New shape after feature selection: (6232, 9000)\n"
          ]
        }
      ]
    },
    {
      "cell_type": "markdown",
      "source": [
        "# Data Balacing\n",
        "..... SMOTE"
      ],
      "metadata": {
        "id": "E5SgTgEAVXNd"
      }
    },
    {
      "cell_type": "code",
      "source": [
        "from imblearn.over_sampling import SMOTE\n",
        "\n",
        "# Apply SMOTE to balance the classes in the training set\n",
        "smote = SMOTE(random_state=42)\n",
        "X_train_balanced, Y_train_balanced = smote.fit_resample(X_train_fs, Y_train)\n",
        "\n",
        "print(\"New training set shape after SMOTE:\", X_train_balanced.shape)\n",
        "print(\"New label distribution:\", np.bincount(Y_train_balanced))\n"
      ],
      "metadata": {
        "id": "h5O5h_IHrnkf",
        "colab": {
          "base_uri": "https://localhost:8080/"
        },
        "outputId": "5d35dda8-4d32-4398-d441-377b9389d210"
      },
      "execution_count": null,
      "outputs": [
        {
          "output_type": "stream",
          "name": "stdout",
          "text": [
            "New training set shape after SMOTE: (12560, 9000)\n",
            "New label distribution: [3140 3140 3140 3140]\n"
          ]
        }
      ]
    },
    {
      "cell_type": "code",
      "source": [
        "#Data Balancing — SMOTE (Synthetic Minority Oversampling Technique)\n",
        "from imblearn.over_sampling import SMOTE\n",
        "\n",
        "# Apply SMOTE to balance the classes in the training set\n",
        "smote = SMOTE(random_state=42)\n",
        "X_train_balanced, Y_train_balanced = smote.fit_resample(X_train_fs, Y_train)\n",
        "\n",
        "print(\"New training set shape after SMOTE:\", X_train_balanced.shape)\n",
        "print(\"New label distribution:\", np.bincount(Y_train_balanced))\n"
      ],
      "metadata": {
        "colab": {
          "base_uri": "https://localhost:8080/"
        },
        "id": "b9sF3H-Isj9a",
        "outputId": "da82d4e2-dad6-4718-859c-65d8484a8438"
      },
      "execution_count": null,
      "outputs": [
        {
          "output_type": "stream",
          "name": "stdout",
          "text": [
            "New training set shape after SMOTE: (12560, 9000)\n",
            "New label distribution: [3140 3140 3140 3140]\n"
          ]
        }
      ]
    },
    {
      "cell_type": "markdown",
      "source": [
        "# After Balacing data"
      ],
      "metadata": {
        "id": "bDGSz1ZGLSs9"
      }
    },
    {
      "cell_type": "code",
      "source": [
        "from xgboost import XGBClassifier\n",
        "from sklearn.metrics import accuracy_score, classification_report, confusion_matrix\n",
        "\n",
        "# Initialize the model\n",
        "xgb_model = XGBClassifier(use_label_encoder=False, eval_metric='mlogloss', random_state=42)\n",
        "\n",
        "# Train the model on balanced and feature-selected data\n",
        "xgb_model.fit(X_train_balanced, Y_train_balanced)\n",
        "\n",
        "# Predict on the test data (feature-selected only)\n",
        "y_pred = xgb_model.predict(X_test_fs)\n",
        "\n",
        "# Evaluate performance\n",
        "print(\"XGBoost Accuracy (with FS + SMOTE):\", accuracy_score(Y_test, y_pred))\n",
        "print(\"\\nClassification Report:\\n\", classification_report(Y_test, y_pred))\n",
        "print(\"\\nConfusion Matrix:\\n\", confusion_matrix(Y_test, y_pred))\n"
      ],
      "metadata": {
        "colab": {
          "base_uri": "https://localhost:8080/"
        },
        "id": "dgkiTaJKezwp",
        "outputId": "38f1e6ca-e476-447f-98c8-cf8f90f51567"
      },
      "execution_count": null,
      "outputs": [
        {
          "output_type": "stream",
          "name": "stderr",
          "text": [
            "/usr/local/lib/python3.11/dist-packages/xgboost/core.py:158: UserWarning:\n",
            "\n",
            "[07:16:15] WARNING: /workspace/src/learner.cc:740: \n",
            "Parameters: { \"use_label_encoder\" } are not used.\n",
            "\n",
            "\n"
          ]
        },
        {
          "output_type": "stream",
          "name": "stdout",
          "text": [
            "XGBoost Accuracy (with FS + SMOTE): 0.9005134788189987\n",
            "\n",
            "Classification Report:\n",
            "               precision    recall  f1-score   support\n",
            "\n",
            "           0       0.88      0.95      0.92       755\n",
            "           1       0.95      0.86      0.90       622\n",
            "           2       0.81      0.87      0.84       150\n",
            "           3       1.00      0.65      0.78        31\n",
            "\n",
            "    accuracy                           0.90      1558\n",
            "   macro avg       0.91      0.83      0.86      1558\n",
            "weighted avg       0.90      0.90      0.90      1558\n",
            "\n",
            "\n",
            "Confusion Matrix:\n",
            " [[718  19  18   0]\n",
            " [ 80 534   8   0]\n",
            " [ 15   4 131   0]\n",
            " [  1   6   4  20]]\n"
          ]
        }
      ]
    },
    {
      "cell_type": "code",
      "source": [
        "from sklearn.ensemble import RandomForestClassifier\n",
        "from sklearn.metrics import classification_report, f1_score, confusion_matrix, accuracy_score\n",
        "\n",
        "# Initialize and train the model\n",
        "rf_model = RandomForestClassifier(n_estimators=100, random_state=42)\n",
        "rf_model.fit(X_train_balanced, Y_train_balanced)\n",
        "\n",
        "# Predict on the test set (after feature selection only)\n",
        "rf_preds = rf_model.predict(X_test_fs)\n",
        "\n",
        "# Evaluate the model\n",
        "print(\"Random Forest Accuracy (with FS + SMOTE):\", accuracy_score(Y_test, rf_preds))\n",
        "print(\"\\nClassification Report:\\n\", classification_report(Y_test, rf_preds))\n",
        "print(\"Confusion Matrix:\\n\", confusion_matrix(Y_test, rf_preds))\n",
        "print(\"Random Forest Weighted F1-Score:\", f1_score(Y_test, rf_preds, average='weighted'))\n",
        "\n"
      ],
      "metadata": {
        "colab": {
          "base_uri": "https://localhost:8080/"
        },
        "id": "bm49tzZOtWzu",
        "outputId": "50bf09a2-6fd5-4f8e-a2b0-85d2f42d4722"
      },
      "execution_count": null,
      "outputs": [
        {
          "output_type": "stream",
          "name": "stdout",
          "text": [
            "Random Forest Accuracy (with FS + SMOTE): 0.8741976893453145\n",
            "\n",
            "Classification Report:\n",
            "               precision    recall  f1-score   support\n",
            "\n",
            "           0       0.87      0.91      0.89       755\n",
            "           1       0.92      0.86      0.89       622\n",
            "           2       0.71      0.80      0.75       150\n",
            "           3       0.91      0.65      0.75        31\n",
            "\n",
            "    accuracy                           0.87      1558\n",
            "   macro avg       0.85      0.80      0.82      1558\n",
            "weighted avg       0.88      0.87      0.87      1558\n",
            "\n",
            "Confusion Matrix:\n",
            " [[689  28  38   0]\n",
            " [ 77 533  10   2]\n",
            " [ 23   7 120   0]\n",
            " [  1  10   0  20]]\n",
            "Random Forest Weighted F1-Score: 0.8745434484459286\n"
          ]
        }
      ]
    },
    {
      "cell_type": "code",
      "source": [
        "from sklearn.ensemble import VotingClassifier\n",
        "from xgboost import XGBClassifier\n",
        "from sklearn.ensemble import RandomForestClassifier\n",
        "from sklearn.metrics import classification_report, f1_score, confusion_matrix, accuracy_score\n",
        "\n",
        "# Initialize individual models (no need for class_weight now due to SMOTE)\n",
        "xgb_model = XGBClassifier(use_label_encoder=False, eval_metric='mlogloss', random_state=42)\n",
        "rf_model = RandomForestClassifier(n_estimators=100, random_state=42)\n",
        "\n",
        "# Create the ensemble model\n",
        "ensemble_model = VotingClassifier(\n",
        "    estimators=[('xgb', xgb_model), ('rf', rf_model)],\n",
        "    voting='soft'  # soft voting uses predicted probabilities\n",
        ")\n",
        "\n",
        "# Fit on the balanced and feature-selected training data\n",
        "ensemble_model.fit(X_train_balanced, Y_train_balanced)\n",
        "\n",
        "# Predict on the feature-selected test set\n",
        "ensemble_preds = ensemble_model.predict(X_test_fs)\n",
        "\n",
        "# Evaluate performance\n",
        "print(\"Ensemble Accuracy (with FS + SMOTE):\", accuracy_score(Y_test, ensemble_preds))\n",
        "print(\"\\nClassification Report:\\n\", classification_report(Y_test, ensemble_preds))\n",
        "print(\"Confusion Matrix:\\n\", confusion_matrix(Y_test, ensemble_preds))\n",
        "print(\"Ensemble Weighted F1-Score:\", f1_score(Y_test, ensemble_preds, average='weighted'))\n"
      ],
      "metadata": {
        "colab": {
          "base_uri": "https://localhost:8080/"
        },
        "id": "XvqCi1RefDya",
        "outputId": "0df55264-c34b-4e80-8faf-2d57b79028de"
      },
      "execution_count": null,
      "outputs": [
        {
          "output_type": "stream",
          "name": "stderr",
          "text": [
            "/usr/local/lib/python3.11/dist-packages/xgboost/core.py:158: UserWarning:\n",
            "\n",
            "[07:47:36] WARNING: /workspace/src/learner.cc:740: \n",
            "Parameters: { \"use_label_encoder\" } are not used.\n",
            "\n",
            "\n"
          ]
        },
        {
          "output_type": "stream",
          "name": "stdout",
          "text": [
            "Ensemble Accuracy (with FS + SMOTE): 0.8998716302952503\n",
            "\n",
            "Classification Report:\n",
            "               precision    recall  f1-score   support\n",
            "\n",
            "           0       0.88      0.95      0.91       755\n",
            "           1       0.95      0.85      0.90       622\n",
            "           2       0.82      0.89      0.85       150\n",
            "           3       0.95      0.68      0.79        31\n",
            "\n",
            "    accuracy                           0.90      1558\n",
            "   macro avg       0.90      0.84      0.86      1558\n",
            "weighted avg       0.90      0.90      0.90      1558\n",
            "\n",
            "Confusion Matrix:\n",
            " [[720  16  19   0]\n",
            " [ 85 528   8   1]\n",
            " [ 14   3 133   0]\n",
            " [  1   6   3  21]]\n",
            "Ensemble Weighted F1-Score: 0.8994439973087484\n"
          ]
        }
      ]
    },
    {
      "cell_type": "code",
      "source": [],
      "metadata": {
        "id": "rW7MyYnrH_nx"
      },
      "execution_count": null,
      "outputs": []
    }
  ]
}